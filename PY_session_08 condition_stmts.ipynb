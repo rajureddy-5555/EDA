{
 "cells": [
  {
   "cell_type": "markdown",
   "id": "785925dd-f77c-466c-b779-0af76ea4c9da",
   "metadata": {},
   "source": [
    "**conditional statements**"
   ]
  },
  {
   "cell_type": "markdown",
   "id": "378fccac-4436-467e-855b-3cf89bcfaa0c",
   "metadata": {},
   "source": [
    "- conditional statements means we want to run the code lines based on condition\n",
    "\n",
    "- if rain comes I will not go to school otherwise I will go to movie\n",
    "\n",
    "- rain is there will effect one process\n",
    "\n",
    "- rain is not there will effect another process\n",
    "\n",
    "\n",
    "- if\n",
    "\n",
    "- elif\n",
    "    \n",
    "- else\n"
   ]
  },
  {
   "cell_type": "code",
   "execution_count": null,
   "id": "6d342017-7a03-40c4-b201-c1646dd72157",
   "metadata": {},
   "outputs": [],
   "source": [
    "# syntax\n",
    "if <condition>:\n",
    "    <codeline1>\n",
    "    <codeline2>"
   ]
  },
  {
   "cell_type": "markdown",
   "id": "6189dd58-908e-43b2-bc2e-72920de1c5bb",
   "metadata": {},
   "source": [
    "- when ever any line start with keyword (green) at the ennd of the line we have **colon(:)**\n",
    "\n",
    "- whenever we have a colon(:) the next lines starts with some gap\n",
    "\n",
    "- and this gap is called as **indentation**\n",
    "\n",
    "- how many lines we are maintaining gap (indentation)that all are under one area"
   ]
  },
  {
   "cell_type": "code",
   "execution_count": null,
   "id": "b0d494e1-0bd9-4879-9ac4-f6786b308411",
   "metadata": {},
   "outputs": [],
   "source": [
    "- if is a conditional statement, it will check the condition is True or False\n",
    "\n",
    "- if that condition will true then only it will enter inside the if area\n",
    "\n",
    "- and execute those code lines\n",
    "\n",
    "- if that condition will false \n",
    "\n",
    "- and it will not execute the code"
   ]
  },
  {
   "cell_type": "code",
   "execution_count": 3,
   "id": "bc766cd1-3e0b-40b5-aff1-b71998a12720",
   "metadata": {},
   "outputs": [
    {
     "data": {
      "text/plain": [
       "True"
      ]
     },
     "execution_count": 3,
     "metadata": {},
     "output_type": "execute_result"
    }
   ],
   "source": [
    "100>10"
   ]
  },
  {
   "cell_type": "code",
   "execution_count": 6,
   "id": "0fa1f612-667d-4006-8102-3ba444749b08",
   "metadata": {},
   "outputs": [
    {
     "name": "stdout",
     "output_type": "stream",
     "text": [
      "hello\n"
     ]
    }
   ],
   "source": [
    "if 100>10:              # if true\n",
    "    print(\"hello\")"
   ]
  },
  {
   "cell_type": "markdown",
   "id": "c75fb348-b77a-4853-992c-9c355a39a2ad",
   "metadata": {},
   "source": [
    "**mistake 01**\n",
    "\n",
    "- Indentation"
   ]
  },
  {
   "cell_type": "code",
   "execution_count": 7,
   "id": "93b57a3b-170a-4447-b8c8-54309e0f8c6f",
   "metadata": {},
   "outputs": [
    {
     "ename": "IndentationError",
     "evalue": "expected an indented block after 'if' statement on line 1 (3460463854.py, line 2)",
     "output_type": "error",
     "traceback": [
      "\u001b[1;36m  Cell \u001b[1;32mIn[7], line 2\u001b[1;36m\u001b[0m\n\u001b[1;33m    print(\"hello\")\u001b[0m\n\u001b[1;37m    ^\u001b[0m\n\u001b[1;31mIndentationError\u001b[0m\u001b[1;31m:\u001b[0m expected an indented block after 'if' statement on line 1\n"
     ]
    }
   ],
   "source": [
    "if 100>10:              # if true\n",
    "print(\"hello\")"
   ]
  },
  {
   "cell_type": "code",
   "execution_count": 11,
   "id": "4fe8e343-a24c-40d8-8c24-dbff47cb8367",
   "metadata": {},
   "outputs": [
    {
     "name": "stdout",
     "output_type": "stream",
     "text": [
      "hello\n"
     ]
    }
   ],
   "source": [
    "if 100>10:\n",
    "    print(\"hello\")\n",
    "# indentation requires 4 spaces\n",
    "    "
   ]
  },
  {
   "cell_type": "markdown",
   "id": "077212ca-17ab-4aeb-b1c9-3cea8d0efa80",
   "metadata": {},
   "source": [
    "**mistake 02**\n",
    "\n",
    "- colon(:)"
   ]
  },
  {
   "cell_type": "code",
   "execution_count": 14,
   "id": "7f3919bf-a5f6-475d-9ae1-88dd1ca83cd7",
   "metadata": {},
   "outputs": [
    {
     "ename": "SyntaxError",
     "evalue": "expected ':' (4173596931.py, line 1)",
     "output_type": "error",
     "traceback": [
      "\u001b[1;36m  Cell \u001b[1;32mIn[14], line 1\u001b[1;36m\u001b[0m\n\u001b[1;33m    if 100>10\u001b[0m\n\u001b[1;37m             ^\u001b[0m\n\u001b[1;31mSyntaxError\u001b[0m\u001b[1;31m:\u001b[0m expected ':'\n"
     ]
    }
   ],
   "source": [
    "if 100>10\n",
    "    print(\"hello\")"
   ]
  },
  {
   "cell_type": "markdown",
   "id": "cb3fe8d9-8cdc-419c-b774-a0d6266b9d5c",
   "metadata": {},
   "source": [
    "**mistake 03**\n",
    "\n",
    "- if will "
   ]
  },
  {
   "cell_type": "code",
   "execution_count": 15,
   "id": "390e22c4-40a4-437b-8dc8-74d191d7a52d",
   "metadata": {},
   "outputs": [
    {
     "ename": "SyntaxError",
     "evalue": "invalid syntax (2426690687.py, line 1)",
     "output_type": "error",
     "traceback": [
      "\u001b[1;36m  Cell \u001b[1;32mIn[15], line 1\u001b[1;36m\u001b[0m\n\u001b[1;33m    if:\u001b[0m\n\u001b[1;37m      ^\u001b[0m\n\u001b[1;31mSyntaxError\u001b[0m\u001b[1;31m:\u001b[0m invalid syntax\n"
     ]
    }
   ],
   "source": [
    "if:\n",
    "  print(\"hello\")"
   ]
  },
  {
   "cell_type": "markdown",
   "id": "400520e8-162b-4480-82a0-fa5fcc89052d",
   "metadata": {},
   "source": [
    "**mistake 04**\n",
    "\n",
    "- missing brackets"
   ]
  },
  {
   "cell_type": "code",
   "execution_count": 16,
   "id": "749286ee-632e-486c-81e1-4d1df8089fef",
   "metadata": {},
   "outputs": [
    {
     "ename": "SyntaxError",
     "evalue": "expected ':' (340401501.py, line 1)",
     "output_type": "error",
     "traceback": [
      "\u001b[1;36m  Cell \u001b[1;32mIn[16], line 1\u001b[1;36m\u001b[0m\n\u001b[1;33m    if 100>10\u001b[0m\n\u001b[1;37m             ^\u001b[0m\n\u001b[1;31mSyntaxError\u001b[0m\u001b[1;31m:\u001b[0m expected ':'\n"
     ]
    }
   ],
   "source": [
    "if 100>10\n",
    "    print \"hello\""
   ]
  },
  {
   "cell_type": "markdown",
   "id": "bf176d09-2297-4b64-9729-ac669f680467",
   "metadata": {},
   "source": [
    "**mistake 05**\n",
    "\n",
    "- never assign a variable to a print statement\n",
    "\n",
    "- print we are using for to see the answer"
   ]
  },
  {
   "cell_type": "code",
   "execution_count": 18,
   "id": "875741b4-2c54-4c7a-9b37-83839bf24daf",
   "metadata": {},
   "outputs": [
    {
     "name": "stdout",
     "output_type": "stream",
     "text": [
      "hello\n"
     ]
    }
   ],
   "source": [
    "if 100>10:\n",
    "    name=print(\"hello\")"
   ]
  },
  {
   "cell_type": "markdown",
   "id": "9daaa7b9-7cc5-482f-8be9-99e9275c84c5",
   "metadata": {},
   "source": [
    "**mistake 06**\n",
    "\n",
    "- dont combine the if condition to assign values\n",
    "\n",
    "- spelling mistakes"
   ]
  },
  {
   "cell_type": "code",
   "execution_count": 19,
   "id": "b30c8d47-ebe3-47e4-8ba1-3fed4810ab19",
   "metadata": {},
   "outputs": [
    {
     "ename": "SyntaxError",
     "evalue": "incomplete input (1136490515.py, line 2)",
     "output_type": "error",
     "traceback": [
      "\u001b[1;36m  Cell \u001b[1;32mIn[19], line 2\u001b[1;36m\u001b[0m\n\u001b[1;33m    \u001b[0m\n\u001b[1;37m    ^\u001b[0m\n\u001b[1;31mSyntaxError\u001b[0m\u001b[1;31m:\u001b[0m incomplete input\n"
     ]
    }
   ],
   "source": [
    "if 100>10:\n",
    "    "
   ]
  },
  {
   "cell_type": "code",
   "execution_count": 20,
   "id": "643bb2ba-86f0-419b-8a42-20b8f597e63a",
   "metadata": {},
   "outputs": [
    {
     "name": "stdout",
     "output_type": "stream",
     "text": [
      "im good\n"
     ]
    }
   ],
   "source": [
    "if 10>2:\n",
    "    print('im good')"
   ]
  },
  {
   "cell_type": "code",
   "execution_count": 22,
   "id": "7a36701f-962b-4d61-a34e-1c1fa8478fde",
   "metadata": {},
   "outputs": [
    {
     "name": "stdout",
     "output_type": "stream",
     "text": [
      "heloo\n",
      "good morning\n"
     ]
    }
   ],
   "source": [
    "if 100>10:\n",
    "    print(\"heloo\")\n",
    "    print(\"good morning\")"
   ]
  },
  {
   "cell_type": "code",
   "execution_count": 21,
   "id": "3e89a06b-8be3-4ed9-a59a-e7ff37ebe2ac",
   "metadata": {},
   "outputs": [
    {
     "name": "stdout",
     "output_type": "stream",
     "text": [
      "hello\n",
      "good morning\n"
     ]
    }
   ],
   "source": [
    "if 100>10:\n",
    "    print(\"hello\")\n",
    "    print(\"good morning\")\n",
    "\n",
    "################################################\n",
    "    print(\"okey\")\n",
    "    print(\"bye\")\n",
    "\n",
    "# step-1: if 100>10 if true\n",
    "# step-2: hello\n",
    "# step-3: good morning\n",
    "# step-4: okay\n"
   ]
  },
  {
   "cell_type": "code",
   "execution_count": 24,
   "id": "f6bdc9ec-e03b-42d5-879e-7bfa1ebfa9a6",
   "metadata": {},
   "outputs": [
    {
     "name": "stdout",
     "output_type": "stream",
     "text": [
      "10\n",
      "20\n",
      "hello\n",
      "good morning\n",
      "okay\n",
      "bye\n"
     ]
    }
   ],
   "source": [
    "\n",
    "print(10)\n",
    "print(20)\n",
    "###############################\n",
    "if 100>10:\n",
    "    print(\"hello\")\n",
    "    print(\"good morning\")\n",
    "###############################\n",
    "print(\"okay\")\n",
    "print(\"bye\")"
   ]
  },
  {
   "cell_type": "code",
   "execution_count": 28,
   "id": "e5423ee6-73da-47d6-9004-198dbc2053f8",
   "metadata": {},
   "outputs": [
    {
     "name": "stdout",
     "output_type": "stream",
     "text": [
      "10\n",
      "20\n",
      "hello\n",
      "good morning\n",
      "okay\n",
      "bye\n"
     ]
    }
   ],
   "source": [
    "print(10)\n",
    "print(20)\n",
    "if 100>10:\n",
    "    print(\"hello\")\n",
    "print(\"good morning\")\n",
    "print(\"okay\")\n",
    "print(\"bye\")"
   ]
  },
  {
   "cell_type": "code",
   "execution_count": 31,
   "id": "872e6b5d-05b6-4079-9e5b-f412de5124ee",
   "metadata": {},
   "outputs": [
    {
     "name": "stdout",
     "output_type": "stream",
     "text": [
      "10\n",
      "hello\n",
      "good morning\n",
      "okay\n",
      "bye\n"
     ]
    }
   ],
   "source": [
    "print(10)\n",
    "if True:\n",
    "    print(\"hello\")\n",
    "    print(\"good morning\")\n",
    "print(\"okay\")\n",
    "print(\"bye\")"
   ]
  },
  {
   "cell_type": "markdown",
   "id": "e5909746-5a70-4d3e-8ccd-2004029e81d6",
   "metadata": {},
   "source": []
  },
  {
   "cell_type": "code",
   "execution_count": 35,
   "id": "88fb257e-6bf6-4b45-9ce4-3d0b8a49c4cf",
   "metadata": {},
   "outputs": [
    {
     "name": "stdout",
     "output_type": "stream",
     "text": [
      "hello\n"
     ]
    }
   ],
   "source": [
    "\n",
    "if 100:\n",
    "    print(\"hello\")\n"
   ]
  },
  {
   "cell_type": "code",
   "execution_count": 36,
   "id": "f04ff5ca-1322-4d46-8c2f-a190078bc4b1",
   "metadata": {},
   "outputs": [
    {
     "data": {
      "text/plain": [
       "True"
      ]
     },
     "execution_count": 36,
     "metadata": {},
     "output_type": "execute_result"
    }
   ],
   "source": [
    "bool(10)"
   ]
  },
  {
   "cell_type": "code",
   "execution_count": 38,
   "id": "18cf3ef5-e7c6-4c71-9d22-f43d40c9d320",
   "metadata": {},
   "outputs": [
    {
     "name": "stdout",
     "output_type": "stream",
     "text": [
      "10\n",
      "okay\n",
      "bye\n"
     ]
    }
   ],
   "source": [
    "print(10)\n",
    "if '':\n",
    "    print(\"hello\")\n",
    "    print(\"good morning\")\n",
    "print(\"okay\")\n",
    "print(\"bye\")"
   ]
  },
  {
   "cell_type": "markdown",
   "id": "fd7efce3-070a-43be-9770-301354bf590a",
   "metadata": {},
   "source": [
    "**if-else**"
   ]
  },
  {
   "cell_type": "markdown",
   "id": "629f8c03-f1cd-43b7-a897-5fec02718549",
   "metadata": {},
   "source": [
    "- if required condition\n",
    "\n",
    "- if the condition is true,then it will execute if block\n",
    "\n",
    "- otherwise it can directly go to the else block\n",
    "\n",
    "- so else block does not required any condition"
   ]
  },
  {
   "cell_type": "code",
   "execution_count": 40,
   "id": "9d4da0f9-e8d9-4b8f-8a85-b5d5d406582a",
   "metadata": {},
   "outputs": [
    {
     "ename": "SyntaxError",
     "evalue": "invalid syntax (2257392929.py, line 3)",
     "output_type": "error",
     "traceback": [
      "\u001b[1;36m  Cell \u001b[1;32mIn[40], line 3\u001b[1;36m\u001b[0m\n\u001b[1;33m    if <condition>:\u001b[0m\n\u001b[1;37m       ^\u001b[0m\n\u001b[1;31mSyntaxError\u001b[0m\u001b[1;31m:\u001b[0m invalid syntax\n"
     ]
    }
   ],
   "source": [
    "# syntax\n",
    "\n",
    "if <condition>:\n",
    "    <code lin>\n",
    "else:\n",
    "    <code line>"
   ]
  },
  {
   "cell_type": "code",
   "execution_count": 43,
   "id": "4dc80aa2-718e-4b0e-abb3-9862f1ed2d3c",
   "metadata": {},
   "outputs": [
    {
     "name": "stdout",
     "output_type": "stream",
     "text": [
      "hello\n",
      "good condition\n",
      "bye\n"
     ]
    }
   ],
   "source": [
    "print(\"hello\")\n",
    "if 100>10:\n",
    "    print(\"good condition\")\n",
    "else:\n",
    "    print(\"not a good condition\")\n",
    "print(\"bye\")"
   ]
  },
  {
   "cell_type": "code",
   "execution_count": 45,
   "id": "26a5e9b3-9cd3-4f74-a413-58fedc5fc487",
   "metadata": {},
   "outputs": [
    {
     "ename": "SyntaxError",
     "evalue": "invalid syntax (3575948975.py, line 5)",
     "output_type": "error",
     "traceback": [
      "\u001b[1;36m  Cell \u001b[1;32mIn[45], line 5\u001b[1;36m\u001b[0m\n\u001b[1;33m    else:\u001b[0m\n\u001b[1;37m    ^\u001b[0m\n\u001b[1;31mSyntaxError\u001b[0m\u001b[1;31m:\u001b[0m invalid syntax\n"
     ]
    }
   ],
   "source": [
    "print(\"hello\")\n",
    "if 100>10:\n",
    "    print(\"good condition\")\n",
    "print(\"why you are in middle\")\n",
    "else:\n",
    "    print(\"not a good condition\")\n",
    "print(\"bye\")"
   ]
  },
  {
   "cell_type": "code",
   "execution_count": 48,
   "id": "a813b530-db75-4c98-b5ea-5c4e718dc766",
   "metadata": {},
   "outputs": [
    {
     "name": "stdout",
     "output_type": "stream",
     "text": [
      "10\n",
      "5\n",
      "15\n",
      "0.5\n",
      "2.0\n"
     ]
    }
   ],
   "source": [
    "if True:\n",
    "    a=10\n",
    "    b=5\n",
    "    print(a)  # 10\n",
    "    print(b)   #  5\n",
    "    c=a+b\n",
    "    print(c)    # 10+5= 15\n",
    "    d=b/a\n",
    "    print(d)     # 0.5\n",
    "    e=a/b\n",
    "    print(e)   # 2"
   ]
  },
  {
   "cell_type": "code",
   "execution_count": 49,
   "id": "e9a4ca8b-47a7-403b-930f-db552087a98e",
   "metadata": {},
   "outputs": [
    {
     "data": {
      "text/plain": [
       "1.25"
      ]
     },
     "execution_count": 49,
     "metadata": {},
     "output_type": "execute_result"
    }
   ],
   "source": [
    "5/4 # normal division\n"
   ]
  },
  {
   "cell_type": "code",
   "execution_count": 50,
   "id": "6032b3fd-af6d-4c79-85fd-ed9915546109",
   "metadata": {},
   "outputs": [
    {
     "data": {
      "text/plain": [
       "1"
      ]
     },
     "execution_count": 50,
     "metadata": {},
     "output_type": "execute_result"
    }
   ],
   "source": [
    "5//4 # floor division\n"
   ]
  },
  {
   "cell_type": "code",
   "execution_count": 52,
   "id": "6a2f8068-3627-4422-ad4f-06013bc3c948",
   "metadata": {},
   "outputs": [
    {
     "data": {
      "text/plain": [
       "1"
      ]
     },
     "execution_count": 52,
     "metadata": {},
     "output_type": "execute_result"
    }
   ],
   "source": [
    "# modulus operator\n",
    "5%4 # reminder"
   ]
  },
  {
   "cell_type": "code",
   "execution_count": 53,
   "id": "895d5cc1-6aa8-4f40-9279-dad10157faeb",
   "metadata": {},
   "outputs": [
    {
     "ename": "SyntaxError",
     "evalue": "invalid syntax (2559214821.py, line 1)",
     "output_type": "error",
     "traceback": [
      "\u001b[1;36m  Cell \u001b[1;32mIn[53], line 1\u001b[1;36m\u001b[0m\n\u001b[1;33m    ---(normal, division(return, a, reminder))\u001b[0m\n\u001b[1;37m                         ^\u001b[0m\n\u001b[1;31mSyntaxError\u001b[0m\u001b[1;31m:\u001b[0m invalid syntax\n"
     ]
    }
   ],
   "source": [
    "/--- normal division(return a reminder)\n",
    "//--- floor division(return  quotient)\n",
    "%--- modulus operator (return reminder"
   ]
  },
  {
   "cell_type": "code",
   "execution_count": null,
   "id": "0ea7b42b-374d-4423-926b-c4c0863d8709",
   "metadata": {},
   "outputs": [],
   "source": [
    "# wap ask the user enter a number\n",
    "# find it is a even number or odd number\n",
    "# idea : any number divided by 2, the reminder=0\n",
    "#if is called as even number\n",
    "\n",
    "# step-1: num=eval(input(\"enter the number\")\n",
    "# step-2: if <condition>\n",
    "# step-3: print()\n",
    "# step-4: else:\n",
    "# step-5: print()\n",
    "\n"
   ]
  },
  {
   "cell_type": "code",
   "execution_count": 11,
   "id": "998a74e8-a5bb-4169-a79c-7bd2cd097140",
   "metadata": {},
   "outputs": [
    {
     "name": "stdin",
     "output_type": "stream",
     "text": [
      "Enter a number: 29\n"
     ]
    },
    {
     "name": "stdout",
     "output_type": "stream",
     "text": [
      "The number is even\n"
     ]
    }
   ],
   "source": [
    "num=eval(input(\"Enter a number:\"))\n",
    "if num%2==0:\n",
    "    print(f\"The number is even\")\n",
    "else:\n",
    "    print(f\"The number is odd: \")"
   ]
  },
  {
   "cell_type": "code",
   "execution_count": 12,
   "id": "de4e4c13-14d6-4433-8b8d-30a51ae39c02",
   "metadata": {},
   "outputs": [
    {
     "name": "stdin",
     "output_type": "stream",
     "text": [
      "Enter a number: 783785\n"
     ]
    },
    {
     "name": "stdout",
     "output_type": "stream",
     "text": [
      "The number is odd\n"
     ]
    }
   ],
   "source": [
    "num=eval(input(\"Enter a number:\"))\n",
    "if num%1==0:\n",
    "    print(f\"The number is odd\")\n",
    "else:\n",
    "    print(f\"The number is even\")"
   ]
  },
  {
   "cell_type": "code",
   "execution_count": 3,
   "id": "00bc10e0-9ab8-40e5-abd5-a630ddf1f1af",
   "metadata": {},
   "outputs": [
    {
     "name": "stdout",
     "output_type": "stream",
     "text": [
      "the 10 is even:\n"
     ]
    }
   ],
   "source": [
    "# implement the above problem by taking a random input between 1,100\n",
    "\n",
    "import random\n",
    "num=random.randint(1,100)\n",
    "if num%2==0:\n",
    "    print(f\"the {num} is even:\")\n",
    "else:\n",
    "    print(f\"the {num} is odd:\")"
   ]
  },
  {
   "cell_type": "markdown",
   "id": "75549c75-49db-427f-bf20-208070883ca5",
   "metadata": {},
   "source": [
    "- we are providing values means it is hard coded\n",
    "- code should be always generic,without hard coding"
   ]
  },
  {
   "cell_type": "code",
   "execution_count": 6,
   "id": "0ccec427-34ac-4be0-99bd-8f6bd6867158",
   "metadata": {},
   "outputs": [
    {
     "name": "stdin",
     "output_type": "stream",
     "text": [
      "enter the distance 100\n",
      "enter the charge 25\n"
     ]
    },
    {
     "name": "stdout",
     "output_type": "stream",
     "text": [
      "the total charge is: 2500\n"
     ]
    }
   ],
   "source": [
    "# wap ask the user enter the distance\n",
    "# if distance greater then 25km\n",
    "# then enter the charge\n",
    "# print the total cost\n",
    "# otherwise\n",
    "# print free ride\n",
    "\n",
    "distance=eval(input(\"enter the distance\"))\n",
    "if distance>25:\n",
    "    charge=eval(input(\"enter the charge\"))\n",
    "    cost=distance*charge\n",
    "    print(\"the total charge is:\",cost)\n",
    "else:\n",
    "    print(\"enjoy the free ride\")"
   ]
  },
  {
   "cell_type": "code",
   "execution_count": 17,
   "id": "5fe3418d-f5c4-47ce-83e6-3138f2996dfa",
   "metadata": {},
   "outputs": [
    {
     "name": "stdin",
     "output_type": "stream",
     "text": [
      "enter the distance: 35\n",
      "enter the cutoff distance: 5\n",
      "enter charge value: 20\n"
     ]
    },
    {
     "name": "stdout",
     "output_type": "stream",
     "text": [
      "the total charge is: 600\n"
     ]
    }
   ],
   "source": [
    "# wap ask the user enter the distance\n",
    "# cutoff distance enter 25km\n",
    "# if distance greater than 25\n",
    "# print(\"good news your charge is applicable only remaining of \"25\")\n",
    "# chargeable distance = distance-cuttoff\n",
    "# then enter the charge\n",
    "# print the total cost\n",
    "# otherwise\n",
    "# print free ride\n",
    "\n",
    "distance=eval(input(\"enter the distance:\"))\n",
    "cutoff_distance=eval(input(\"enter the cutoff distance:\"))\n",
    "if distance>cutoff_distance:\n",
    "    chargeble_distance=distance-cutoff_distance\n",
    "    charge=eval(input(\"enter charge value:\"))\n",
    "    cost=chargeble_distance*charge\n",
    "    print(\"the total charge is:\",cost)\n",
    "else:\n",
    "    print(\"enjoy the free ride\")\n"
   ]
  },
  {
   "cell_type": "code",
   "execution_count": 24,
   "id": "f0e81431-15a8-41a4-a512-bb25d90e7f06",
   "metadata": {},
   "outputs": [
    {
     "name": "stdin",
     "output_type": "stream",
     "text": [
      "Enter the course name: jntu\n",
      "Enter the institute name: cse\n"
     ]
    },
    {
     "name": "stdout",
     "output_type": "stream",
     "text": [
      "bad\n"
     ]
    }
   ],
   "source": [
    "\n",
    "# wap ask the user enter the course\n",
    "# ask the user enter the institute\n",
    "# if the course is equal to datascience and institute equal to naresh it\n",
    "# then you are good\n",
    "# otherwise\n",
    "# you are bad\n",
    "\n",
    "course= input(\"Enter the course name:\")\n",
    "institute=input(\"Enter the institute name:\")\n",
    "if course=='data science' or institute=='naresh it':\n",
    "    print(\"good\")\n",
    "else:\n",
    "    print(\"bad\")"
   ]
  },
  {
   "cell_type": "code",
   "execution_count": null,
   "id": "3ed94ee1-7627-4997-8594-08213d638a57",
   "metadata": {},
   "outputs": [],
   "source": [
    "***\n",
    "***"
   ]
  },
  {
   "cell_type": "code",
   "execution_count": 26,
   "id": "14b8b577-3a9e-4c3d-a6a2-2fca51a25b22",
   "metadata": {},
   "outputs": [
    {
     "name": "stdin",
     "output_type": "stream",
     "text": [
      "enter the number2 value: 6\n"
     ]
    },
    {
     "name": "stdout",
     "output_type": "stream",
     "text": [
      "you lost\n"
     ]
    }
   ],
   "source": [
    "# wap ask the user to enter a number btwn 1 to 10, treat this as a number1\n",
    "# wap ask the user to enter another number from the key board,treat this as number2\n",
    "# if number1 eqqul to nmber2\n",
    "# print you won\n",
    "# else\n",
    "# print you lost\n",
    "\n",
    "num1= random.randint(1,10)\n",
    "num2=eval(input(\"enter the number2 value:\"))\n",
    "if num1==num2:\n",
    "    print(\"you won\")\n",
    "else:\n",
    "    print(\"you lost\")\n",
    "    "
   ]
  },
  {
   "cell_type": "code",
   "execution_count": 27,
   "id": "bad4d959-3354-4f34-a4d0-c27dce9b8950",
   "metadata": {},
   "outputs": [
    {
     "ename": "SyntaxError",
     "evalue": "invalid syntax (1827493649.py, line 1)",
     "output_type": "error",
     "traceback": [
      "\u001b[1;36m  Cell \u001b[1;32mIn[27], line 1\u001b[1;36m\u001b[0m\n\u001b[1;33m    if <condition>:\u001b[0m\n\u001b[1;37m       ^\u001b[0m\n\u001b[1;31mSyntaxError\u001b[0m\u001b[1;31m:\u001b[0m invalid syntax\n"
     ]
    }
   ],
   "source": [
    "if <condition>:\n",
    "    <statements>\n",
    "elif <codition>:\n",
    "    <statements>\n",
    "else:\n",
    "    <statement>\n",
    "\n",
    "if-else(1)\n",
    "if-elif-else(2)\n",
    "if-elif-elif-else(3)"
   ]
  },
  {
   "cell_type": "code",
   "execution_count": 29,
   "id": "e1612004-bca6-44dc-b094-e12872363ff4",
   "metadata": {},
   "outputs": [
    {
     "name": "stdin",
     "output_type": "stream",
     "text": [
      "enter the num: 5\n"
     ]
    },
    {
     "name": "stdout",
     "output_type": "stream",
     "text": [
      "enter a valid number\n"
     ]
    }
   ],
   "source": [
    "# wap ask the user to enter number\n",
    "# if number equal to 1 then print one\n",
    "# if the number equal to 2 then print two\n",
    "# if the number equal to 3 then print three\n",
    "# other wise print enter a valid number\n",
    "\n",
    "num=eval(input(\"enter the num:\"))\n",
    "if num==1:\n",
    "    print(\"one\")\n",
    "elif num==2:\n",
    "    print(\"two\")\n",
    "elif num==3:\n",
    "    print(\"three\")\n",
    "else:\n",
    "    print(\"enter a valid number\")"
   ]
  },
  {
   "cell_type": "code",
   "execution_count": 32,
   "id": "bb4bc40c-0e43-46ab-a54b-4597621187ef",
   "metadata": {},
   "outputs": [
    {
     "name": "stdin",
     "output_type": "stream",
     "text": [
      "enter the num: 0\n"
     ]
    },
    {
     "name": "stdout",
     "output_type": "stream",
     "text": [
      "zero\n"
     ]
    }
   ],
   "source": [
    "# wap ask the user to enter a number\n",
    "# if that number greater than zero print positive\n",
    "# if that number is less than zero print negative\n",
    "# other wise print zero\n",
    "\n",
    "num=eval(input(\"enter the num:\"))\n",
    "if num>0:\n",
    "    print(\"positive\")\n",
    "elif num<0:\n",
    "    print(\"negative\")\n",
    "else:\n",
    "    print(\"zero\")"
   ]
  },
  {
   "cell_type": "code",
   "execution_count": 33,
   "id": "d3ff8f52-727b-4aaf-8361-4fa1f991c3f0",
   "metadata": {},
   "outputs": [
    {
     "name": "stdin",
     "output_type": "stream",
     "text": [
      "Enter the percentage of marks: 90\n"
     ]
    },
    {
     "name": "stdout",
     "output_type": "stream",
     "text": [
      "A grade\n"
     ]
    }
   ],
   "source": [
    "# wap ask the user to enter the percentage of marks 0 to 100\n",
    "# if percentage greater than 90 print A grade\n",
    "# if percentage between 75 to 90 print B grade\n",
    "# if percentage between 50 to 75 print C grade\n",
    "# if percentage between 25 to 50 print D grade\n",
    "# if percentage less then 35 print fail\n",
    "\n",
    "percentage=eval(input(\"Enter the percentage of marks:\"))\n",
    "if percentage>=90:\n",
    "    print(\"A grade\")\n",
    "elif percentage>=75:\n",
    "    print(\"B grade\")\n",
    "elif percentage>=50:\n",
    "    print(\"C grade\")\n",
    "elif percentage>=35:\n",
    "    print(\"D grade\")\n",
    "else:\n",
    "    print(\"fail\")"
   ]
  },
  {
   "cell_type": "code",
   "execution_count": null,
   "id": "2d2fbb20-fcf0-42cf-9a52-ce8d455830fb",
   "metadata": {},
   "outputs": [],
   "source": [
    "# wap ask the user to enter the age\n",
    "# if age greater than 100 print you are lucky\n",
    "# if the age greater than 75 print old age\n",
    "# if the age between 50 to 75  print senior citizen\n",
    "# if the age btwn 30 to 50 print middle age\n",
    "# if the age btwn 15 to 30 print young age\n",
    "# if the age less than 15 print kid\n",
    "\n"
   ]
  },
  {
   "cell_type": "code",
   "execution_count": 8,
   "id": "5f3aa331-abee-4a48-bd0c-fc824097e5c7",
   "metadata": {},
   "outputs": [
    {
     "name": "stdin",
     "output_type": "stream",
     "text": [
      "Enter a number1:  25\n",
      "Enter a number2:  15\n"
     ]
    },
    {
     "name": "stdout",
     "output_type": "stream",
     "text": [
      "Enter operation 1 for add\n",
      "Enter operation 2 for mul\n",
      "Enter operation 3 for sub\n",
      "Enter operation 4 for div\n"
     ]
    },
    {
     "name": "stdin",
     "output_type": "stream",
     "text": [
      "Enter the operation between 1 to 4 2\n"
     ]
    },
    {
     "name": "stdout",
     "output_type": "stream",
     "text": [
      "invalid operation\n"
     ]
    }
   ],
   "source": [
    "# wap ask the user to enter 2 numbers\n",
    "# num1\n",
    "# num2\n",
    "# you need to print\n",
    "# enter operation 1 for addition\n",
    "# enter operation 2 for milti\n",
    "# enter operation 3 for sub\n",
    "# enter operation 4 for divi\n",
    "\n",
    "# enter the operation btwn 1 and 4\n",
    "# if operation equal to 1 then do add\n",
    "# if operation equal to 2 then do multi\n",
    "# if operation equal to 3 then do sub\n",
    "# if operation equal to 4 then do div\n",
    "# otherwise print enter a valid number\n",
    "\n",
    "num1=eval(input(\"Enter a number1: \"))\n",
    "num2=eval(input(\"Enter a number2: \"))\n",
    "\n",
    "print(\"Enter operation 1 for add\")\n",
    "print(\"Enter operation 2 for mul\")\n",
    "print(\"Enter operation 3 for sub\")\n",
    "print(\"Enter operation 4 for div\")\n",
    "\n",
    "operation=input(\"Enter the operation between 1 to 4\")\n",
    "\n",
    "#oper_1=num1+num2\n",
    "#oper_2=num1*num2\n",
    "#oper_4=num1/num2\n",
    "\n",
    "if oper_1==1:\n",
    "    sum=num1+num2\n",
    "    print(f\"the addition of the num:\",sum)\n",
    "elif oper_2==2:\n",
    "    mul=num1*num2\n",
    "    print(f\"the multiplication of the num:\",mul)\n",
    "elif oper_3==3:\n",
    "    sub=num1-num2\n",
    "    print(f\"the substraction of the num:\",sub)\n",
    "elif oper_4==4:\n",
    "    div=num1/num2\n",
    "    pirnt(f\"the division of the num:\",div)\n",
    "else:\n",
    "    print(\"invalid operation\")"
   ]
  },
  {
   "cell_type": "code",
   "execution_count": 15,
   "id": "8405d542-82d7-462d-8b5f-1321793ff8c6",
   "metadata": {},
   "outputs": [
    {
     "name": "stdin",
     "output_type": "stream",
     "text": [
      "Enter the gender {male/female}: male\n"
     ]
    },
    {
     "name": "stdout",
     "output_type": "stream",
     "text": [
      "male\n"
     ]
    },
    {
     "name": "stdin",
     "output_type": "stream",
     "text": [
      "Enter the age: 10\n"
     ]
    },
    {
     "name": "stdout",
     "output_type": "stream",
     "text": [
      "boy\n"
     ]
    }
   ],
   "source": [
    "# ask a user enter the gender\n",
    "# if gender equal to male\n",
    "# ask the user enter age\n",
    "# if the age greater than 60 print ss\n",
    "#  if the age berween 30 to 60 print old age\n",
    "# if the age between 15 to 30 print young man\n",
    "# otherwise print kid\n",
    "\n",
    "# if gender equal to female\n",
    "# ask the user enter age\n",
    "# if the age greater than 60 print ss\n",
    "# if the age berween 30 to 60 print old aged girl\n",
    "# if the age between 15 to 30 print young girl\n",
    "# otherwise print girl\n",
    "\n",
    "# otherwise\n",
    "# print enter the a valid age\n",
    "\n",
    "gender=input(\"Enter the gender {male/female}:\")\n",
    "\n",
    "if gender=='male':\n",
    "    print(f\"{gender}\")\n",
    "    age=eval(input(\"Enter the age:\"))\n",
    "    if age>=60:\n",
    "        print(\"senior sitizen\")\n",
    "    elif age>=30:\n",
    "        print(\"middle aged man\")\n",
    "    elif age>=15:\n",
    "        print(\"young man\")\n",
    "    else:\n",
    "        print(\"boy\")\n",
    "        \n",
    "elif gender=='female':\n",
    "    print(f\"{gender}\")\n",
    "    age=eval(input(\"Enter the age:\"))\n",
    "    if age>=60:\n",
    "        print(\"senior sitizen women\")\n",
    "    elif age>=30:\n",
    "        print(\"middle aged women\")\n",
    "    elif age>=15:\n",
    "        print(\"young woman\")\n",
    "    else:\n",
    "        print(\"girl\")\n",
    "    \n"
   ]
  },
  {
   "cell_type": "code",
   "execution_count": 24,
   "id": "fb2b5d58-4fca-4daa-81c3-1db78b4fa71e",
   "metadata": {},
   "outputs": [
    {
     "name": "stdin",
     "output_type": "stream",
     "text": [
      "Enter a number: -2\n"
     ]
    },
    {
     "name": "stdout",
     "output_type": "stream",
     "text": [
      "negative\n"
     ]
    }
   ],
   "source": [
    "# wap ask the user to enter a number\n",
    "# if that number greater than or equal to zero\n",
    "#       if that number is equal to zero\n",
    "#       print zero\n",
    "#    else\n",
    "#       print positive\n",
    "#  else\n",
    "#      print negative\n",
    "\n",
    "\n",
    "num=eval(input(\"Enter a number:\"))\n",
    "\n",
    "if num==0:\n",
    "    print(\"zero\")\n",
    "elif num>=0:\n",
    "    print(\"positive\")\n",
    "else:\n",
    "    print(\"negative\")"
   ]
  },
  {
   "cell_type": "code",
   "execution_count": null,
   "id": "4601cff5-c23d-4ca8-b044-ccd3eba64124",
   "metadata": {},
   "outputs": [],
   "source": []
  }
 ],
 "metadata": {
  "kernelspec": {
   "display_name": "Python 3 (ipykernel)",
   "language": "python",
   "name": "python3"
  },
  "language_info": {
   "codemirror_mode": {
    "name": "ipython",
    "version": 3
   },
   "file_extension": ".py",
   "mimetype": "text/x-python",
   "name": "python",
   "nbconvert_exporter": "python",
   "pygments_lexer": "ipython3",
   "version": "3.11.7"
  }
 },
 "nbformat": 4,
 "nbformat_minor": 5
}
