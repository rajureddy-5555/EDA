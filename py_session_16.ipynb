{
 "cells": [
  {
   "cell_type": "markdown",
   "id": "b0e9b9e5-a711-446c-ad20-b716af8e9d0b",
   "metadata": {},
   "source": [
    "- representations\n",
    "- type\n",
    "- len\n",
    "- max\n",
    "- min\n",
    "- sorted\n",
    "- reversed\n",
    "- in \n",
    "- for loop in \n",
    "- index\n",
    "- for loop in index\n",
    "- mutable\n",
    "- concatenation\n",
    "- slicing\n",
    "- methods"
   ]
  },
  {
   "cell_type": "code",
   "execution_count": null,
   "id": "85d86e70-7465-4692-91f0-a48fabcfc007",
   "metadata": {},
   "outputs": [],
   "source": []
  },
  {
   "cell_type": "code",
   "execution_count": null,
   "id": "65f22a10-ba31-4ef7-91c9-3ac41d744673",
   "metadata": {},
   "outputs": [],
   "source": []
  },
  {
   "cell_type": "code",
   "execution_count": null,
   "id": "c7cece51-8686-42e8-a006-7bed25618526",
   "metadata": {},
   "outputs": [],
   "source": []
  },
  {
   "cell_type": "code",
   "execution_count": null,
   "id": "1bf1b512-ca09-471b-9c5e-d0a6b4d95dd3",
   "metadata": {},
   "outputs": [],
   "source": []
  },
  {
   "cell_type": "markdown",
   "id": "79e4cd6c-c8fc-4951-8520-4d6c2dc64655",
   "metadata": {},
   "source": [
    "**Representation**"
   ]
  },
  {
   "cell_type": "markdown",
   "id": "86d0733b-1e74-4c59-9194-8f4671bc2bf0",
   "metadata": {},
   "source": [
    "- string representation with quotes\n",
    "\n",
    "- list represent with square brackets[]"
   ]
  },
  {
   "cell_type": "code",
   "execution_count": 10,
   "id": "aac58d92-9326-4069-9b96-22d73cd82892",
   "metadata": {},
   "outputs": [
    {
     "name": "stdout",
     "output_type": "stream",
     "text": [
      "[1, 2, 3, 4]\n"
     ]
    }
   ],
   "source": [
    "l1=[1,2,3,4]\n",
    "print(l1)"
   ]
  },
  {
   "cell_type": "code",
   "execution_count": 9,
   "id": "f137fb64-4146-49e5-af8f-b29c2b898cea",
   "metadata": {},
   "outputs": [
    {
     "data": {
      "text/plain": [
       "list"
      ]
     },
     "execution_count": 9,
     "metadata": {},
     "output_type": "execute_result"
    }
   ],
   "source": [
    "type(l1)"
   ]
  },
  {
   "cell_type": "code",
   "execution_count": 11,
   "id": "2571d23e-4547-4151-bf81-15b9f35c35ac",
   "metadata": {},
   "outputs": [
    {
     "data": {
      "text/plain": [
       "['a', 'b', 'c', 'd']"
      ]
     },
     "execution_count": 11,
     "metadata": {},
     "output_type": "execute_result"
    }
   ],
   "source": [
    "l2=['a','b','c','d']\n",
    "l2"
   ]
  },
  {
   "cell_type": "code",
   "execution_count": 12,
   "id": "4233ba43-94d0-4dd4-ba4c-115a11a9989a",
   "metadata": {},
   "outputs": [
    {
     "data": {
      "text/plain": [
       "[1, 2, 3, 4, 'A', 'B', 'C', 'D']"
      ]
     },
     "execution_count": 12,
     "metadata": {},
     "output_type": "execute_result"
    }
   ],
   "source": [
    "l3=[1,2,3,4,'A','B','C','D']\n",
    "l3"
   ]
  },
  {
   "cell_type": "code",
   "execution_count": 13,
   "id": "c4714ef6-22bd-436c-9e24-41852c9f81e3",
   "metadata": {},
   "outputs": [
    {
     "data": {
      "text/plain": [
       "[1, 2, 3, 'Apple', 'Ball', 'cat', True, False]"
      ]
     },
     "execution_count": 13,
     "metadata": {},
     "output_type": "execute_result"
    }
   ],
   "source": [
    "l4=[1,2,3,'Apple','Ball','cat',True,False]\n",
    "l4"
   ]
  },
  {
   "cell_type": "code",
   "execution_count": 15,
   "id": "5c37f369-7513-4b36-a599-beadbd5e8f5c",
   "metadata": {},
   "outputs": [
    {
     "data": {
      "text/plain": [
       "['naresh it']"
      ]
     },
     "execution_count": 15,
     "metadata": {},
     "output_type": "execute_result"
    }
   ],
   "source": [
    "name='naresh it'\n",
    "l5=[name]\n",
    "l5"
   ]
  },
  {
   "cell_type": "code",
   "execution_count": 16,
   "id": "350b127e-7235-4250-bf42-e8ac8a8b5c8b",
   "metadata": {},
   "outputs": [
    {
     "data": {
      "text/plain": [
       "[100, 100, 100]"
      ]
     },
     "execution_count": 16,
     "metadata": {},
     "output_type": "execute_result"
    }
   ],
   "source": [
    "l6=[100,100,100]\n",
    "l6"
   ]
  },
  {
   "cell_type": "code",
   "execution_count": 18,
   "id": "d2e2f72c-c035-490f-9ae9-3fa48d734619",
   "metadata": {},
   "outputs": [
    {
     "data": {
      "text/plain": [
       "[100, 'apple', ['A', 2]]"
      ]
     },
     "execution_count": 18,
     "metadata": {},
     "output_type": "execute_result"
    }
   ],
   "source": [
    "l7=[100,'apple',['A',2]]\n",
    "l7"
   ]
  },
  {
   "cell_type": "markdown",
   "id": "662e1f71-1470-4e51-a734-9c67a2f64b28",
   "metadata": {},
   "source": [
    "- list are array of elements\n",
    "\n",
    "- list elements are heterogeneous all the data types we can represent in a list\n",
    "\n",
    "- list elements are allowed duplicates\n",
    "\n",
    "- list in list is possible\n",
    "\n",
    "- variable assignment also possible in the list"
   ]
  },
  {
   "cell_type": "code",
   "execution_count": null,
   "id": "c6989e31-a57c-4ead-aad1-611802ec6bcd",
   "metadata": {},
   "outputs": [],
   "source": [
    "- len \n",
    "- max\n",
    "- min\n",
    "- sorted\n",
    "- reversed"
   ]
  },
  {
   "cell_type": "markdown",
   "id": "104526f9-e3b2-441a-abfc-748cd264360e",
   "metadata": {},
   "source": [
    "**Len()**"
   ]
  },
  {
   "cell_type": "code",
   "execution_count": 20,
   "id": "dac480dc-e458-4c0c-8614-87e4d2268abf",
   "metadata": {},
   "outputs": [
    {
     "data": {
      "text/plain": [
       "9"
      ]
     },
     "execution_count": 20,
     "metadata": {},
     "output_type": "execute_result"
    }
   ],
   "source": [
    "str1='rajureddy'\n",
    "len(str1)"
   ]
  },
  {
   "cell_type": "code",
   "execution_count": 23,
   "id": "aaa9a544-e873-4021-9115-99761dadf872",
   "metadata": {},
   "outputs": [
    {
     "data": {
      "text/plain": [
       "7"
      ]
     },
     "execution_count": 23,
     "metadata": {},
     "output_type": "execute_result"
    }
   ],
   "source": [
    "str2='1,2,4,5'\n",
    "len(str2)"
   ]
  },
  {
   "cell_type": "markdown",
   "id": "8cbebe54-0fc2-4589-bc3c-a129f2853971",
   "metadata": {},
   "source": [
    "**max()**"
   ]
  },
  {
   "cell_type": "code",
   "execution_count": 24,
   "id": "93b5e58a-7492-4a4b-98df-4a7a557780a4",
   "metadata": {},
   "outputs": [
    {
     "data": {
      "text/plain": [
       "'y'"
      ]
     },
     "execution_count": 24,
     "metadata": {},
     "output_type": "execute_result"
    }
   ],
   "source": [
    "str3='rajureddythada'\n",
    "max(str3)"
   ]
  },
  {
   "cell_type": "markdown",
   "id": "d853f7b5-affc-4d58-b4aa-c3d8e5347190",
   "metadata": {},
   "source": [
    "**min()**"
   ]
  },
  {
   "cell_type": "code",
   "execution_count": 26,
   "id": "477aee2c-bc5e-4599-a994-1b18c10ca8fa",
   "metadata": {},
   "outputs": [
    {
     "data": {
      "text/plain": [
       "'a'"
      ]
     },
     "execution_count": 26,
     "metadata": {},
     "output_type": "execute_result"
    }
   ],
   "source": [
    "str4='rajureddythada'\n",
    "min(str4)"
   ]
  },
  {
   "cell_type": "code",
   "execution_count": 29,
   "id": "fb8efd75-52f2-41d8-b3d4-28802c3805a2",
   "metadata": {},
   "outputs": [
    {
     "data": {
      "text/plain": [
       "['1',\n",
       " '8',\n",
       " '8',\n",
       " '9',\n",
       " '9',\n",
       " '9',\n",
       " 'd',\n",
       " 'd',\n",
       " 'h',\n",
       " 'n',\n",
       " 'q',\n",
       " 'q',\n",
       " 'u',\n",
       " 'x',\n",
       " 'y',\n",
       " 'y']"
      ]
     },
     "execution_count": 29,
     "metadata": {},
     "output_type": "execute_result"
    }
   ],
   "source": [
    "str5='1q89ynd89yhudq9x'\n",
    "sorted(str5)"
   ]
  },
  {
   "cell_type": "markdown",
   "id": "fe4f2584-9157-4349-aa84-b30d8687b5b5",
   "metadata": {},
   "source": [
    "**reversed()**"
   ]
  },
  {
   "cell_type": "code",
   "execution_count": 31,
   "id": "a027a497-6434-49c9-8e42-e0fbd6f92db6",
   "metadata": {},
   "outputs": [
    {
     "data": {
      "text/plain": [
       "<reversed at 0x1c85806b6a0>"
      ]
     },
     "execution_count": 31,
     "metadata": {},
     "output_type": "execute_result"
    }
   ],
   "source": [
    "str6='wpij2oif2fQ5429812OIR'\n",
    "reversed(str6)"
   ]
  },
  {
   "cell_type": "code",
   "execution_count": 34,
   "id": "b18ccd58-770d-43c0-a940-4d2cae8b380e",
   "metadata": {},
   "outputs": [
    {
     "data": {
      "text/plain": [
       "[False, True, 'cat', 'ball', 'apple', 3, 2, 1]"
      ]
     },
     "execution_count": 34,
     "metadata": {},
     "output_type": "execute_result"
    }
   ],
   "source": [
    "f6=[1,2,3,'apple','ball','cat',True,False]\n",
    "list(reversed(f6))"
   ]
  },
  {
   "cell_type": "code",
   "execution_count": 35,
   "id": "157eef8a-425e-4f51-a2de-5f1315fab0cc",
   "metadata": {},
   "outputs": [
    {
     "data": {
      "text/plain": [
       "'bhanu'"
      ]
     },
     "execution_count": 35,
     "metadata": {},
     "output_type": "execute_result"
    }
   ],
   "source": [
    "name=['adithya','aadhithya','bhanu']\n",
    "max(name)"
   ]
  },
  {
   "cell_type": "code",
   "execution_count": 36,
   "id": "a9b8a4a7-30ad-4e16-afaf-b65d5548e0b6",
   "metadata": {},
   "outputs": [
    {
     "data": {
      "text/plain": [
       "3"
      ]
     },
     "execution_count": 36,
     "metadata": {},
     "output_type": "execute_result"
    }
   ],
   "source": [
    "list1=['apple',1,['cherry','banana']]\n",
    "len(list1)"
   ]
  },
  {
   "cell_type": "code",
   "execution_count": 38,
   "id": "1eb0f201-5bc3-4ed8-af8e-7f1f35019bf2",
   "metadata": {},
   "outputs": [
    {
     "ename": "TypeError",
     "evalue": "'>' not supported between instances of 'str' and 'int'",
     "output_type": "error",
     "traceback": [
      "\u001b[1;31m---------------------------------------------------------------------------\u001b[0m",
      "\u001b[1;31mTypeError\u001b[0m                                 Traceback (most recent call last)",
      "Cell \u001b[1;32mIn[38], line 2\u001b[0m\n\u001b[0;32m      1\u001b[0m list1\u001b[38;5;241m=\u001b[39m[\u001b[38;5;241m65\u001b[39m,\u001b[38;5;124m'\u001b[39m\u001b[38;5;124mA\u001b[39m\u001b[38;5;124m'\u001b[39m]\n\u001b[1;32m----> 2\u001b[0m \u001b[38;5;28mmax\u001b[39m(list1)\n",
      "\u001b[1;31mTypeError\u001b[0m: '>' not supported between instances of 'str' and 'int'"
     ]
    }
   ],
   "source": [
    "list1=[65,'A']\n",
    "max(list1)    # error"
   ]
  },
  {
   "cell_type": "markdown",
   "id": "d3fe273a-6929-4502-b2a1-be43ca7c9850",
   "metadata": {},
   "source": [
    "**Index**"
   ]
  },
  {
   "cell_type": "code",
   "execution_count": 40,
   "id": "71e89a1c-a0ff-44c9-aa25-f7ac6a622a5b",
   "metadata": {},
   "outputs": [
    {
     "data": {
      "text/plain": [
       "2"
      ]
     },
     "execution_count": 40,
     "metadata": {},
     "output_type": "execute_result"
    }
   ],
   "source": [
    "l4=[1,2,3,'Apple','Ball','Cat',True,False]\n",
    "l4\n",
    "\n",
    "#  -8   -7   -6   -5   -4    -3   -2    -1    \n",
    "#   1    2    3  apple  ball  cat  true  false\n",
    "#   0    1    2   3    4      5    6     7\n",
    "\n",
    "l1=[1,[2]]\n",
    "new=l1[1]\n",
    "new[0]\n",
    "\n",
    "l1[1][0]"
   ]
  },
  {
   "cell_type": "code",
   "execution_count": 42,
   "id": "5a608afc-6432-44d1-9c6d-2bd75ca64365",
   "metadata": {},
   "outputs": [
    {
     "data": {
      "text/plain": [
       "[1, [2, 'A']]"
      ]
     },
     "execution_count": 42,
     "metadata": {},
     "output_type": "execute_result"
    }
   ],
   "source": [
    "l1=[1,[2,'A']]\n",
    "l1\n",
    "\n",
    "# so we given\n",
    "# the list has two "
   ]
  },
  {
   "cell_type": "code",
   "execution_count": 48,
   "id": "cb7f1003-c908-4330-ae8a-d7a07ae5039f",
   "metadata": {},
   "outputs": [
    {
     "data": {
      "text/plain": [
       "[2, 'A']"
      ]
     },
     "execution_count": 48,
     "metadata": {},
     "output_type": "execute_result"
    }
   ],
   "source": [
    "# how to get 'A'\n",
    "l1=[1,[2,'A']]\n",
    "\n",
    "# Q1) how many elements are there in a list: 2\n",
    "# Q2) 'A' is at which index :\n",
    "# In python index start at 0\n",
    "# 0 and 1\n",
    "\n",
    "l1[1]      # [2,'A']\n"
   ]
  },
  {
   "cell_type": "code",
   "execution_count": 54,
   "id": "7c5d5dd1-347f-4cd4-b72d-aeaf60c8aec7",
   "metadata": {},
   "outputs": [
    {
     "data": {
      "text/plain": [
       "'B'"
      ]
     },
     "execution_count": 54,
     "metadata": {},
     "output_type": "execute_result"
    }
   ],
   "source": [
    "l1=[1,\n",
    "   [2,['A','B']]\n",
    "   ]\n",
    "# i want 'B'\n",
    "len(l1)\n",
    "l1[1][1][1]"
   ]
  },
  {
   "cell_type": "code",
   "execution_count": 63,
   "id": "ab6dc810-b9b9-4b7b-b549-17cd61890925",
   "metadata": {},
   "outputs": [
    {
     "data": {
      "text/plain": [
       "3"
      ]
     },
     "execution_count": 63,
     "metadata": {},
     "output_type": "execute_result"
    }
   ],
   "source": [
    "l1=[1,2,[3,[4,[5,['apple']]]]]\n",
    "\n",
    "len(l1)\n",
    "\n",
    "#l1[2][1][1][1]"
   ]
  },
  {
   "cell_type": "code",
   "execution_count": 64,
   "id": "3bb8d4ab-2623-4dad-89c4-846fee53d93e",
   "metadata": {},
   "outputs": [
    {
     "data": {
      "text/plain": [
       "['apple']"
      ]
     },
     "execution_count": 64,
     "metadata": {},
     "output_type": "execute_result"
    }
   ],
   "source": [
    "l1=[1,2,[3,[4,[5,['apple']]]]]\n",
    "\n",
    "len(l1)\n",
    "\n",
    "l1[2][1][1][1]"
   ]
  },
  {
   "cell_type": "code",
   "execution_count": 103,
   "id": "41ea4a63-a8bb-48b1-8632-c944113d4c5c",
   "metadata": {},
   "outputs": [
    {
     "data": {
      "text/plain": [
       "3"
      ]
     },
     "execution_count": 103,
     "metadata": {},
     "output_type": "execute_result"
    }
   ],
   "source": [
    "list1=['bana','1','2']\n",
    "len(list1)"
   ]
  },
  {
   "cell_type": "code",
   "execution_count": null,
   "id": "d439f273-0719-4fde-971f-febb166b4734",
   "metadata": {},
   "outputs": [],
   "source": [
    "l1=[1,[2,['A','B']]]\n",
    "\n",
    "\n",
    "l1=[1,2,[3,[4,[5,['Apple']]]]]\n",
    "\n",
    "list1=['Apple',1,'Solapur',['cherry','papaya',70,[123,'Banana'],'tomato'],'python'] #get banana\n"
   ]
  },
  {
   "cell_type": "code",
   "execution_count": 99,
   "id": "32476aff-19e0-4e86-9cd1-32a769a9e6d0",
   "metadata": {},
   "outputs": [
    {
     "data": {
      "text/plain": [
       "'cherry'"
      ]
     },
     "execution_count": 99,
     "metadata": {},
     "output_type": "execute_result"
    }
   ],
   "source": [
    "list1=[[[[[[[[['1','cherry']]]]]]]]]\n",
    "len(list1)\n",
    "list1[0][0][0][0][0][0][0][0][1]"
   ]
  },
  {
   "cell_type": "code",
   "execution_count": 85,
   "id": "941347a7-9bfd-440f-8504-25230bc9f6c1",
   "metadata": {},
   "outputs": [
    {
     "data": {
      "text/plain": [
       "2"
      ]
     },
     "execution_count": 85,
     "metadata": {},
     "output_type": "execute_result"
    }
   ],
   "source": [
    "red=['mh',['nagpur',['orange',['likes',['king',['shivaji',['son',['shambaji']]]]]]]]\n",
    "len(red)"
   ]
  },
  {
   "cell_type": "code",
   "execution_count": 94,
   "id": "db294cca-951d-4be0-b160-b83c17e7522c",
   "metadata": {},
   "outputs": [
    {
     "data": {
      "text/plain": [
       "'shambaji'"
      ]
     },
     "execution_count": 94,
     "metadata": {},
     "output_type": "execute_result"
    }
   ],
   "source": [
    "red[1][1][1][1][1][1][1][0]"
   ]
  },
  {
   "cell_type": "code",
   "execution_count": 104,
   "id": "98dbc57c-c478-4ce1-862d-bd7f94ef6554",
   "metadata": {},
   "outputs": [
    {
     "data": {
      "text/plain": [
       "2"
      ]
     },
     "execution_count": 104,
     "metadata": {},
     "output_type": "execute_result"
    }
   ],
   "source": [
    "l1=[1,[2,['A','B']]]\n",
    "len(l1)"
   ]
  },
  {
   "cell_type": "code",
   "execution_count": 106,
   "id": "c425acc2-20dc-4d32-8bf8-ee267e8e56e3",
   "metadata": {},
   "outputs": [
    {
     "data": {
      "text/plain": [
       "'A'"
      ]
     },
     "execution_count": 106,
     "metadata": {},
     "output_type": "execute_result"
    }
   ],
   "source": [
    "l1[1][1][0]"
   ]
  },
  {
   "cell_type": "code",
   "execution_count": 107,
   "id": "8445b860-ef7a-4858-8335-9140b27fbf0b",
   "metadata": {},
   "outputs": [
    {
     "data": {
      "text/plain": [
       "3"
      ]
     },
     "execution_count": 107,
     "metadata": {},
     "output_type": "execute_result"
    }
   ],
   "source": [
    "l2=[1,2,[3,[4,[5,['Apple']]]]]\n",
    "\n",
    "len(l2)"
   ]
  },
  {
   "cell_type": "code",
   "execution_count": 113,
   "id": "fb13f71e-f05a-45ab-a525-36c224873af7",
   "metadata": {},
   "outputs": [
    {
     "data": {
      "text/plain": [
       "'Apple'"
      ]
     },
     "execution_count": 113,
     "metadata": {},
     "output_type": "execute_result"
    }
   ],
   "source": [
    "l2[2][1][1][1][0]"
   ]
  },
  {
   "cell_type": "code",
   "execution_count": 114,
   "id": "134b34f7-86b8-437a-b2c4-bf4348501e42",
   "metadata": {},
   "outputs": [
    {
     "data": {
      "text/plain": [
       "5"
      ]
     },
     "execution_count": 114,
     "metadata": {},
     "output_type": "execute_result"
    }
   ],
   "source": [
    "list1=['Apple',1,'Solapur',['cherry','papaya',70,[123,'Banana'],'tomato'],'python'] #get banana\n",
    "len(list1)"
   ]
  },
  {
   "cell_type": "code",
   "execution_count": 118,
   "id": "f98bbb7a-35cb-4e0b-b7ae-d306f65295d9",
   "metadata": {},
   "outputs": [
    {
     "data": {
      "text/plain": [
       "'Banana'"
      ]
     },
     "execution_count": 118,
     "metadata": {},
     "output_type": "execute_result"
    }
   ],
   "source": [
    "list1[3][3][1]"
   ]
  },
  {
   "cell_type": "code",
   "execution_count": 120,
   "id": "25a15936-ed6f-45f6-aba0-a98af43f1134",
   "metadata": {},
   "outputs": [
    {
     "name": "stdout",
     "output_type": "stream",
     "text": [
      "1\n",
      "the positive index of the 1 is 0\n",
      "2\n",
      "the positive index of the 2 is 1\n",
      "3\n",
      "the positive index of the 3 is 2\n",
      "A\n",
      "the positive index of the A is 3\n",
      "B\n",
      "the positive index of the B is 4\n",
      "C\n",
      "the positive index of the C is 5\n",
      "True\n",
      "the positive index of the True is 6\n",
      "False\n",
      "the positive index of the False is 7\n"
     ]
    }
   ],
   "source": [
    "l4=[1,2,3,'A','B','C',True,False]\n",
    "\n",
    "# -8   -7    -6    -5    -4     -3     -2     -1 \n",
    "#  1    2     3     4     5      6      7      8\n",
    "#  0    1     2     3     4      5      6      7\n",
    "\n",
    "\n",
    "for i in range(len(l4)):\n",
    "    print(l4[i])\n",
    "    print(f\"the positive index of the {l4[i]} is {i}\")\n",
    "    "
   ]
  },
  {
   "cell_type": "code",
   "execution_count": null,
   "id": "8cfce390-5af7-408a-a02f-f1e10189fe19",
   "metadata": {},
   "outputs": [],
   "source": [
    "for i in range(len(l4)):\n",
    "    "
   ]
  },
  {
   "cell_type": "code",
   "execution_count": 121,
   "id": "36326469-d9f6-43a0-8d6c-09edf229d137",
   "metadata": {},
   "outputs": [
    {
     "data": {
      "text/plain": [
       "[100, 2, 3]"
      ]
     },
     "execution_count": 121,
     "metadata": {},
     "output_type": "execute_result"
    }
   ],
   "source": [
    "# we want to change 1 with 100\n",
    "\n",
    "I=[1,2,3]\n",
    "I[0]=100\n",
    "I"
   ]
  },
  {
   "cell_type": "code",
   "execution_count": 124,
   "id": "b4cc6560-80dc-4b62-b86b-9b7b368510c1",
   "metadata": {},
   "outputs": [
    {
     "ename": "TypeError",
     "evalue": "'str' object does not support item assignment",
     "output_type": "error",
     "traceback": [
      "\u001b[1;31m---------------------------------------------------------------------------\u001b[0m",
      "\u001b[1;31mTypeError\u001b[0m                                 Traceback (most recent call last)",
      "Cell \u001b[1;32mIn[124], line 8\u001b[0m\n\u001b[0;32m      5\u001b[0m s\u001b[38;5;241m=\u001b[39m\u001b[38;5;124m'\u001b[39m\u001b[38;5;124mNaresh\u001b[39m\u001b[38;5;124m'\u001b[39m\n\u001b[0;32m      6\u001b[0m \u001b[38;5;66;03m# we want to change  'h' to 'I'\u001b[39;00m\n\u001b[1;32m----> 8\u001b[0m s[\u001b[38;5;241m5\u001b[39m]\u001b[38;5;241m=\u001b[39m\u001b[38;5;124m'\u001b[39m\u001b[38;5;124mi\u001b[39m\u001b[38;5;124m'\u001b[39m\n\u001b[0;32m      9\u001b[0m s\n",
      "\u001b[1;31mTypeError\u001b[0m: 'str' object does not support item assignment"
     ]
    }
   ],
   "source": [
    "I=[1,2,3]\n",
    "I[0]=100\n",
    "I\n",
    "\n",
    "# sir how strings are immmutable ........how explain\n",
    "\n",
    "s='Naresh'\n",
    "# we want to change  'h' to 'I'\n",
    "\n",
    "s[5]='i'\n",
    "s"
   ]
  },
  {
   "cell_type": "code",
   "execution_count": 128,
   "id": "0dcf13f8-dfd5-4d37-ae6e-f61adb49085f",
   "metadata": {},
   "outputs": [
    {
     "data": {
      "text/plain": [
       "[4, 6, 'B']"
      ]
     },
     "execution_count": 128,
     "metadata": {},
     "output_type": "execute_result"
    }
   ],
   "source": [
    "I=[1,2,3,4,5,6,'A','B','C','D','E','F','G']\n",
    "\n",
    "I[3:9:2]   # possible\n",
    "#I[3:9:-2]  # np\n",
    "#I[3,-9,2]   # ......\n",
    "#I[3,-9,-2]   # np\n",
    "#I[-3,9,2]     # np\n",
    "#I[-3,-9,-2]    # np\n",
    "#I[-3,9,2]       #  np\n"
   ]
  },
  {
   "cell_type": "code",
   "execution_count": 131,
   "id": "9d174059-712c-4175-9e3f-ea0dd1aa2e10",
   "metadata": {},
   "outputs": [
    {
     "data": {
      "text/plain": [
       "[]"
      ]
     },
     "execution_count": 131,
     "metadata": {},
     "output_type": "execute_result"
    }
   ],
   "source": [
    "I[3:9:-2]"
   ]
  },
  {
   "cell_type": "code",
   "execution_count": 132,
   "id": "1cd5f6cc-b5eb-4366-b9c9-8c4086fe1662",
   "metadata": {},
   "outputs": [
    {
     "data": {
      "text/plain": [
       "[4]"
      ]
     },
     "execution_count": 132,
     "metadata": {},
     "output_type": "execute_result"
    }
   ],
   "source": [
    "I[3:-9:2]"
   ]
  },
  {
   "cell_type": "code",
   "execution_count": 133,
   "id": "e0868432-dbea-4ba6-9a75-705df1a0f042",
   "metadata": {},
   "outputs": [
    {
     "data": {
      "text/plain": [
       "[]"
      ]
     },
     "execution_count": 133,
     "metadata": {},
     "output_type": "execute_result"
    }
   ],
   "source": [
    "I[3:-9:-2]"
   ]
  },
  {
   "cell_type": "code",
   "execution_count": 134,
   "id": "1ecd6a9e-9338-4564-a9be-1f114d278265",
   "metadata": {},
   "outputs": [
    {
     "data": {
      "text/plain": [
       "[]"
      ]
     },
     "execution_count": 134,
     "metadata": {},
     "output_type": "execute_result"
    }
   ],
   "source": [
    "I[-3:9:2] "
   ]
  },
  {
   "cell_type": "code",
   "execution_count": 135,
   "id": "d65054eb-6f6e-47af-9418-93c0c9cc2aff",
   "metadata": {},
   "outputs": [
    {
     "data": {
      "text/plain": [
       "[]"
      ]
     },
     "execution_count": 135,
     "metadata": {},
     "output_type": "execute_result"
    }
   ],
   "source": [
    "I[-3:9:2] "
   ]
  },
  {
   "cell_type": "markdown",
   "id": "3e68bcd2-52e8-4440-a00f-c3caabe0e341",
   "metadata": {},
   "source": [
    "**list methods**"
   ]
  },
  {
   "cell_type": "code",
   "execution_count": 136,
   "id": "d9ea874e-727f-4fae-bcff-2ea86163aaf1",
   "metadata": {},
   "outputs": [
    {
     "data": {
      "text/plain": [
       "['__add__',\n",
       " '__class__',\n",
       " '__class_getitem__',\n",
       " '__contains__',\n",
       " '__delattr__',\n",
       " '__delitem__',\n",
       " '__dir__',\n",
       " '__doc__',\n",
       " '__eq__',\n",
       " '__format__',\n",
       " '__ge__',\n",
       " '__getattribute__',\n",
       " '__getitem__',\n",
       " '__getstate__',\n",
       " '__gt__',\n",
       " '__hash__',\n",
       " '__iadd__',\n",
       " '__imul__',\n",
       " '__init__',\n",
       " '__init_subclass__',\n",
       " '__iter__',\n",
       " '__le__',\n",
       " '__len__',\n",
       " '__lt__',\n",
       " '__mul__',\n",
       " '__ne__',\n",
       " '__new__',\n",
       " '__reduce__',\n",
       " '__reduce_ex__',\n",
       " '__repr__',\n",
       " '__reversed__',\n",
       " '__rmul__',\n",
       " '__setattr__',\n",
       " '__setitem__',\n",
       " '__sizeof__',\n",
       " '__str__',\n",
       " '__subclasshook__',\n",
       " 'append',\n",
       " 'clear',\n",
       " 'copy',\n",
       " 'count',\n",
       " 'extend',\n",
       " 'index',\n",
       " 'insert',\n",
       " 'pop',\n",
       " 'remove',\n",
       " 'reverse',\n",
       " 'sort']"
      ]
     },
     "execution_count": 136,
     "metadata": {},
     "output_type": "execute_result"
    }
   ],
   "source": [
    "dir(list)"
   ]
  },
  {
   "cell_type": "markdown",
   "id": "28d14300-e571-44b0-b3db-6ff7b44dd3b5",
   "metadata": {},
   "source": [
    "**append**\n",
    "\n",
    "- adding elements in a list at last index\n",
    "\n",
    "- append method is very important\n",
    "\n",
    "- most of the time will use append inn the real time\n",
    "\n",
    "- when you add the value in the original list will be overwrite"
   ]
  },
  {
   "cell_type": "code",
   "execution_count": 144,
   "id": "47069a8e-3cc2-4198-b18b-d33bb32f9757",
   "metadata": {},
   "outputs": [
    {
     "data": {
      "text/plain": [
       "['apple', 'ball', 'cat']"
      ]
     },
     "execution_count": 144,
     "metadata": {},
     "output_type": "execute_result"
    }
   ],
   "source": [
    "I=['apple','ball','cat']\n",
    "I"
   ]
  },
  {
   "cell_type": "code",
   "execution_count": null,
   "id": "9fb43bac-b575-402d-aa2a-68f22775919b",
   "metadata": {},
   "outputs": [],
   "source": [
    "# you want to add Doll in a given list\n",
    "\n",
    "\n",
    "# keywords vs methods\n",
    "len()\n",
    "max()\n",
    "min()\n",
    "reversed()\n",
    "sorted()\n",
    "\n",
    "# methods\n",
    "<package>.<methods>()\n",
    "\n",
    "# we already discussed \n",
    "# data types has own methods\n",
    "# "
   ]
  },
  {
   "cell_type": "code",
   "execution_count": 149,
   "id": "4aaf9e75-1254-4eff-b03d-3823734bf60a",
   "metadata": {},
   "outputs": [
    {
     "data": {
      "text/plain": [
       "['apple', 'ball', 'cat', 'ball', 'ball', 'doll']"
      ]
     },
     "execution_count": 149,
     "metadata": {},
     "output_type": "execute_result"
    }
   ],
   "source": [
    "I.append('doll')\n",
    "I"
   ]
  },
  {
   "cell_type": "code",
   "execution_count": 148,
   "id": "35649c18-06c4-48e3-893e-9bf0980c1a2b",
   "metadata": {},
   "outputs": [
    {
     "data": {
      "text/plain": [
       "['apple', 'ball', 'cat', 'ball', 'ball']"
      ]
     },
     "execution_count": 148,
     "metadata": {},
     "output_type": "execute_result"
    }
   ],
   "source": [
    "I"
   ]
  },
  {
   "cell_type": "code",
   "execution_count": null,
   "id": "5eda49c5-0794-464c-a9cf-8b0d1d3699c8",
   "metadata": {},
   "outputs": [],
   "source": [
    "I1=append()"
   ]
  },
  {
   "cell_type": "code",
   "execution_count": 152,
   "id": "84133882-8f10-4e1d-8b42-f87315c3ccbe",
   "metadata": {},
   "outputs": [
    {
     "data": {
      "text/plain": [
       "[10, 20, 'apple', ['A', 1], True]"
      ]
     },
     "execution_count": 152,
     "metadata": {},
     "output_type": "execute_result"
    }
   ],
   "source": [
    "l2=[]\n",
    "l2.append(10)\n",
    "l2.append(20)\n",
    "l2.append('apple')\n",
    "l2.append(['A',1])\n",
    "l2.append(True)\n",
    "l2"
   ]
  },
  {
   "cell_type": "code",
   "execution_count": 158,
   "id": "bbc756d0-95e7-4c7c-8aa0-c26f7cee4c17",
   "metadata": {},
   "outputs": [
    {
     "data": {
      "text/plain": [
       "['raju', 'reddy', 'thada', 'raju']"
      ]
     },
     "execution_count": 158,
     "metadata": {},
     "output_type": "execute_result"
    }
   ],
   "source": [
    "l3=[]\n",
    "l3.append('raju')\n",
    "l3.append('reddy')\n",
    "l3.append('thada')\n",
    "l3.append('raju')\n",
    "l3"
   ]
  },
  {
   "cell_type": "code",
   "execution_count": 164,
   "id": "175ef028-529b-4b4d-9114-e36002d24fd6",
   "metadata": {},
   "outputs": [
    {
     "name": "stdout",
     "output_type": "stream",
     "text": [
      "1\n",
      "4\n",
      "9\n",
      "16\n",
      "25\n"
     ]
    },
    {
     "data": {
      "text/plain": [
       "[1, 4, 9, 16, 25]"
      ]
     },
     "execution_count": 164,
     "metadata": {},
     "output_type": "execute_result"
    }
   ],
   "source": [
    "square_list=[]\n",
    "\n",
    "for i in range(1,6):      \n",
    "    print(i*i)\n",
    "    square_list.append(i*i)\n",
    "   \n",
    "# print=====square_list.append\n",
    "\n",
    "square_list"
   ]
  },
  {
   "cell_type": "code",
   "execution_count": 167,
   "id": "5cb5feef-d802-4475-b76b-bb0760ca5ec9",
   "metadata": {},
   "outputs": [
    {
     "data": {
      "text/plain": [
       "'python'"
      ]
     },
     "execution_count": 167,
     "metadata": {},
     "output_type": "execute_result"
    }
   ],
   "source": [
    "s=''\n",
    "for i in 'python':\n",
    "    s=s+i\n",
    "\n",
    "s\n",
    "\n",
    "# str='hai hai hai'\n",
    "# what are index of 'a'\n",
    "# save that index numbers in a list"
   ]
  },
  {
   "cell_type": "code",
   "execution_count": null,
   "id": "91530773-59da-4c39-916f-e273ce215da0",
   "metadata": {},
   "outputs": [],
   "source": [
    "s=[]\n",
    "for i in 'python':\n",
    "    s=s+i"
   ]
  },
  {
   "cell_type": "code",
   "execution_count": 170,
   "id": "0fb2a14a-087f-4415-93af-2c65f68baf65",
   "metadata": {},
   "outputs": [
    {
     "data": {
      "text/plain": [
       "[1, 5, 9]"
      ]
     },
     "execution_count": 170,
     "metadata": {},
     "output_type": "execute_result"
    }
   ],
   "source": [
    "str='hai hai hai'\n",
    "id_list=[]\n",
    "for i in range(len(str)):\n",
    "    if str[i]=='a':\n",
    "        id_list.append(i)\n",
    "\n",
    "id_list"
   ]
  },
  {
   "cell_type": "code",
   "execution_count": 172,
   "id": "dd329b87-2e21-4f28-a4fe-3bbe454f9eaa",
   "metadata": {},
   "outputs": [
    {
     "data": {
      "text/plain": [
       "15"
      ]
     },
     "execution_count": 172,
     "metadata": {},
     "output_type": "execute_result"
    }
   ],
   "source": [
    "summ=0\n",
    "str1='hai hai hai'\n",
    "for i in range(len(str1)):\n",
    "    if str1[i]=='a':\n",
    "        summ=summ+i\n",
    "\n",
    "summ"
   ]
  },
  {
   "cell_type": "code",
   "execution_count": null,
   "id": "11bcb46b-cc5e-41e3-acdf-c47185acaa1b",
   "metadata": {},
   "outputs": [],
   "source": [
    "#Q2) L1=['hyd','mumbai','chennai','blr']\n",
    "# ans=['mumbai','chennai']\n",
    "# we want elements which are len of  4\n",
    "\n",
    "# Q3) L1=['hyd','mumbai','chennai','blr']"
   ]
  },
  {
   "cell_type": "code",
   "execution_count": null,
   "id": "1f7fd4ea-f23b-4638-9fd2-d6ccd239c11e",
   "metadata": {},
   "outputs": [],
   "source": [
    "# Q6) l1=['hyd','mumbai','chennai','blr']\n",
    "# ans=['mumbai','chennai']\n",
    "# ans without [hyd,blr] \n",
    "# we want elements which are having 'a'"
   ]
  },
  {
   "cell_type": "code",
   "execution_count": null,
   "id": "3fdc29dc-76e6-4d7f-845c-11128bc0e359",
   "metadata": {},
   "outputs": [],
   "source": [
    "# Q7) ask the user get 5 numbers randomly\n",
    "# even_list and odd_list\n",
    "# even numbers should append at odd_list\n",
    "# odd number should append at even_lsit\n"
   ]
  },
  {
   "cell_type": "code",
   "execution_count": null,
   "id": "1b4796a1-d927-4c2d-89a0-fa371cb8883b",
   "metadata": {},
   "outputs": [],
   "source": [
    "# Q10)  you have two lists \n",
    "# ans=['what is capital of India',\n",
    "     # 'who is pm of india',\n",
    "     # 'who is ICT ODI capital',\n",
    "# ans =['Delhi','modi','rohit']\n"
   ]
  },
  {
   "cell_type": "markdown",
   "id": "038d4ec9-b39b-4992-babc-0f5090e11883",
   "metadata": {},
   "source": [
    "**split-join**"
   ]
  },
  {
   "cell_type": "markdown",
   "id": "66b395ac-e336-41f3-99a5-b45d0030c9b4",
   "metadata": {},
   "source": [
    "- split-strings\n",
    "- split-list"
   ]
  },
  {
   "cell_type": "code",
   "execution_count": 175,
   "id": "a98dce3f-6b38-4678-afa0-69d7e51d4dea",
   "metadata": {},
   "outputs": [
    {
     "data": {
      "text/plain": [
       "'Hello Im Learning Python'"
      ]
     },
     "execution_count": 175,
     "metadata": {},
     "output_type": "execute_result"
    }
   ],
   "source": [
    "str1='hello im learning python'\n",
    "words=str1.split()\n",
    "new_words=[]\n",
    "for i in words:\n",
    "    new_words.append(i.capitalize())\n",
    "\n",
    "' '.join(new_words)"
   ]
  },
  {
   "cell_type": "code",
   "execution_count": 181,
   "id": "19aa7034-d961-4652-b0e8-c2df81257582",
   "metadata": {},
   "outputs": [
    {
     "name": "stdout",
     "output_type": "stream",
     "text": [
      "1.4142135623730951\n"
     ]
    }
   ],
   "source": [
    "# calculate the distance between two points\n",
    "\n",
    "# a=[1,2]\n",
    "# b=[4,5]\n",
    "# a=[x1,x2]\n",
    "# b=[y1,y2]\n",
    "\n",
    "# area of triangle\n",
    "\n",
    "# import math\n",
    "\n",
    "# step-1: x2-x1 = a[2]-a[1]   ====index\n",
    "# step-2: y2-y1 = b[2]-b[1]  ====index\n",
    "# step-3: v11=v1**2\n",
    "# step-4: v22=v2**2\n",
    "# step-5: ans=math.sqrt(v11+v22)\n",
    "\n",
    "a=[1,2]\n",
    "b=[4,5]\n",
    "#a=[x1,x2]\n",
    "#b=[y1,y2]\n",
    "import math\n",
    "\n",
    "v1=a[1]-a[0]\n",
    "v2=b[1]-b[0]\n",
    "v11=v1**2\n",
    "v22=v2**2\n",
    "print(math.sqrt(v11+v22))"
   ]
  },
  {
   "cell_type": "code",
   "execution_count": 183,
   "id": "5eb3074c-2a83-491d-ae70-e88bad987242",
   "metadata": {},
   "outputs": [],
   "source": [
    "str=[1,2,3,4,5,4,3,2,1]\n",
    "str1=[100,500,600,700,400,300,50]"
   ]
  },
  {
   "cell_type": "code",
   "execution_count": 185,
   "id": "fb9c3ea8-b35e-481a-a0f3-0e954042e35a",
   "metadata": {},
   "outputs": [
    {
     "name": "stdout",
     "output_type": "stream",
     "text": [
      "3.0\n"
     ]
    }
   ],
   "source": [
    "points=[[1,2],[2,3],[3,4]]\n",
    "val=[2,3]\n",
    "\n",
    "# calculate the distance between val [2,3] to each and every point\n",
    "# and find the maximum distance\n",
    "a=[1,2]       # [x1,y1]\n",
    "b=[1,5]       # [x2-y2]\n",
    "\n",
    "v1=b[0]-a[0]       # x2-x1\n",
    "v2=b[1]-a[1]       # y2-y1\n",
    "v11=v1**2\n",
    "v22=v2**2\n",
    "print(math.sqrt(v11+v22))"
   ]
  },
  {
   "cell_type": "code",
   "execution_count": 186,
   "id": "0ff8445c-a8a4-426a-ba9a-3231e15448e1",
   "metadata": {},
   "outputs": [
    {
     "name": "stdout",
     "output_type": "stream",
     "text": [
      "1 2\n",
      "2 3\n",
      "=====\n",
      "2 3\n",
      "2 3\n",
      "=====\n",
      "3 4\n",
      "2 3\n",
      "=====\n"
     ]
    }
   ],
   "source": [
    "points=[[1,2],[2,3],[3,4]]\n",
    "val=[2,3]\n",
    "\n",
    "for i in points:\n",
    "    print(i[0],i[1])\n",
    "    print(val[0],val[1])\n",
    "    print('=====')\n",
    "\n"
   ]
  },
  {
   "cell_type": "code",
   "execution_count": 1,
   "id": "17e52e36-caee-4e62-9161-79cdf18cca47",
   "metadata": {},
   "outputs": [
    {
     "ename": "SyntaxError",
     "evalue": "f-string: expecting '}' (2467319392.py, line 7)",
     "output_type": "error",
     "traceback": [
      "\u001b[1;36m  Cell \u001b[1;32mIn[1], line 7\u001b[1;36m\u001b[0m\n\u001b[1;33m    print(f\"{val[1]}-{val[0]}={0},{val[0]-{i[0]}={o2}\")\u001b[0m\n\u001b[1;37m                                                      ^\u001b[0m\n\u001b[1;31mSyntaxError\u001b[0m\u001b[1;31m:\u001b[0m f-string: expecting '}'\n"
     ]
    }
   ],
   "source": [
    "points=[[1,2],[2,3],[3,4]]\n",
    "for i in points:\n",
    "    print(i[0],i[1])\n",
    "    print(val[0],val[1])\n",
    "    o1=val[0]-i[0]\n",
    "    o2=val[1]-val[0]\n",
    "    print(f\"{val[1]}-{val[0]}={0},{val[0]-{i[0]}={o2}\")\n",
    "    v11=o1**2\n",
    "    v22=o2**2"
   ]
  },
  {
   "cell_type": "code",
   "execution_count": 191,
   "id": "dbfffca9-ab7c-4181-a093-a5574d65ccd0",
   "metadata": {},
   "outputs": [
    {
     "data": {
      "text/plain": [
       "['hello', 'hai', 'how', 'are', 'you']"
      ]
     },
     "execution_count": 191,
     "metadata": {},
     "output_type": "execute_result"
    }
   ],
   "source": [
    "str1='hello hai how are you'\n",
    "words=str1.split()\n",
    "words\n",
    "\n",
    "list1=[]\n",
    "\n",
    "for i in words:\n",
    "    list1.append(i)\n",
    "\n",
    "list1"
   ]
  },
  {
   "cell_type": "code",
   "execution_count": 195,
   "id": "a1eab7c9-c77b-4f05-bf74-880c3f21ec5b",
   "metadata": {},
   "outputs": [
    {
     "name": "stdout",
     "output_type": "stream",
     "text": [
      "hello\n"
     ]
    }
   ],
   "source": [
    "str1='hai hello how are you'\n",
    "words=str1.split()\n",
    "len_words=[]\n",
    "\n",
    "for i in words:\n",
    "    x=len(i)\n",
    "    len_words.append(x)\n",
    "max_len=max(len_words)\n",
    "\n",
    "for i in words:\n",
    "    if len(i)==max_len:\n",
    "        print(i)\n",
    "\n",
    "\n",
    "\n",
    "# we are splitting \n",
    "# the we are calculating each and every len of words and append in a list\n",
    "# we are taking the max value from the list\n",
    "\n",
    "# again we are iterating words list\n",
    "# calculating len of each word\n",
    "# if that word length equal to amx value\n",
    "# the that is our answer\n",
    "\n",
    "hello==0\n"
   ]
  },
  {
   "cell_type": "code",
   "execution_count": 4,
   "id": "d1fd19a1-8e30-41d2-aecb-15bb9861f761",
   "metadata": {},
   "outputs": [
    {
     "name": "stdin",
     "output_type": "stream",
     "text": [
      "what is the capital of india Delhi\n",
      "who is the pm of india modi\n",
      "who is ICT ODI captain rohit\n"
     ]
    },
    {
     "name": "stdout",
     "output_type": "stream",
     "text": [
      "the total marks are: 3\n"
     ]
    }
   ],
   "source": [
    "qns_list=['what is the capital of india',\n",
    "         'who is the pm of india',\n",
    "         'who is ICT ODI captain']\n",
    "ans_list=['Delhi','modi','rohit']\n",
    "\n",
    "marks=0\n",
    "for i in range(len(qns_list)):\n",
    "    ans=input(qns_list[i])\n",
    "    if ans.lower()==ans_list[i].lower():\n",
    "        marks=marks+1\n",
    "\n",
    "print('the total marks are:',marks)"
   ]
  },
  {
   "cell_type": "markdown",
   "id": "4d08c4e7-da96-4e31-8168-7479b914a921",
   "metadata": {},
   "source": [
    "- clear\n",
    "- copy\n",
    "- count\n",
    "- extend\n",
    "- index\n",
    "- insert\n",
    "- pop\n",
    "- remove\n",
    "- reverse\n",
    "- sort"
   ]
  },
  {
   "cell_type": "code",
   "execution_count": 5,
   "id": "e93ab11f-3144-46cb-940f-dc46ec734d31",
   "metadata": {},
   "outputs": [],
   "source": [
    "# append vs extend vs concatenation vs insert\n",
    "# pop vs remove\n",
    "# reverse vs sorted\n",
    "# sort vs sorted\n",
    "# index\n",
    "# count\n",
    "# clear and copy"
   ]
  },
  {
   "cell_type": "code",
   "execution_count": 11,
   "id": "33ff5b3a-81a8-4be5-a1d5-17aaf343fe91",
   "metadata": {},
   "outputs": [
    {
     "data": {
      "text/plain": [
       "[[1, 2, 3, 4, 5, 6, 7, 8]]"
      ]
     },
     "execution_count": 11,
     "metadata": {},
     "output_type": "execute_result"
    }
   ],
   "source": [
    "str=[1,2,3,4,5,6,7,8]\n",
    "str2=[]\n",
    "str2.append(str)\n",
    "str2"
   ]
  },
  {
   "cell_type": "code",
   "execution_count": 12,
   "id": "a7ad76fd-bf8a-442b-8138-237d0cedbd69",
   "metadata": {},
   "outputs": [
    {
     "data": {
      "text/plain": [
       "[[1, 2, 3, 4, 5, 6, 7, 8], 1, 2, 3, 4, 5, 6, 7, 8]"
      ]
     },
     "execution_count": 12,
     "metadata": {},
     "output_type": "execute_result"
    }
   ],
   "source": [
    "str2.extend(str)\n",
    "str2"
   ]
  },
  {
   "cell_type": "code",
   "execution_count": 29,
   "id": "309ed7ba-659e-4502-b171-3194508d5ebc",
   "metadata": {},
   "outputs": [
    {
     "data": {
      "text/plain": [
       "[1,\n",
       " 2,\n",
       " 3,\n",
       " 4,\n",
       " 5,\n",
       " 6,\n",
       " 7,\n",
       " 8,\n",
       " 30,\n",
       " [1, 2, 3, 4, 5, 6, 7, 8, 30],\n",
       " 1,\n",
       " 2,\n",
       " 3,\n",
       " 4,\n",
       " 5,\n",
       " 6,\n",
       " 7,\n",
       " 8]"
      ]
     },
     "execution_count": 29,
     "metadata": {},
     "output_type": "execute_result"
    }
   ],
   "source": [
    "str3=str+str2\n",
    "str3      # concatenation"
   ]
  },
  {
   "cell_type": "markdown",
   "id": "fa8b2c46-0c51-4a07-8eb4-04df815445ac",
   "metadata": {},
   "source": [
    "**copy**"
   ]
  },
  {
   "cell_type": "code",
   "execution_count": 32,
   "id": "dfae22d1-0dd2-4f1b-bff4-14bc12816208",
   "metadata": {},
   "outputs": [
    {
     "data": {
      "text/plain": [
       "[1, 2, 3, 100, 200, 300, 24, 45]"
      ]
     },
     "execution_count": 32,
     "metadata": {},
     "output_type": "execute_result"
    }
   ],
   "source": [
    "l1=[1,2,3,100,200,300,24,45]\n",
    "l2=l1.copy()\n",
    "l2"
   ]
  },
  {
   "cell_type": "code",
   "execution_count": 33,
   "id": "b8badfce-1fe0-4ed4-a3ba-0664a440d3b9",
   "metadata": {},
   "outputs": [
    {
     "data": {
      "text/plain": [
       "([1, 2, 3, 100, 200, 300, 24, 45], [1, 2, 3, 100, 200, 300, 24, 45])"
      ]
     },
     "execution_count": 33,
     "metadata": {},
     "output_type": "execute_result"
    }
   ],
   "source": [
    "l1,l2"
   ]
  },
  {
   "cell_type": "markdown",
   "id": "8a2767ed-659f-4aa4-97c5-7b52df8b42e4",
   "metadata": {},
   "source": [
    "**clear**"
   ]
  },
  {
   "cell_type": "code",
   "execution_count": 35,
   "id": "e8344273-52c1-4966-ac80-dad525e0b558",
   "metadata": {},
   "outputs": [
    {
     "data": {
      "text/plain": [
       "[]"
      ]
     },
     "execution_count": 35,
     "metadata": {},
     "output_type": "execute_result"
    }
   ],
   "source": [
    "l1.clear()\n",
    "l1"
   ]
  },
  {
   "cell_type": "code",
   "execution_count": 34,
   "id": "fe357fc6-49c0-407a-a492-347154a3999a",
   "metadata": {},
   "outputs": [
    {
     "data": {
      "text/plain": [
       "[1, 2, 3, 100, 200, 300, 24, 45]"
      ]
     },
     "execution_count": 34,
     "metadata": {},
     "output_type": "execute_result"
    }
   ],
   "source": [
    "l2"
   ]
  },
  {
   "cell_type": "markdown",
   "id": "b48c48e7-f410-420b-b686-28708cb10e19",
   "metadata": {},
   "source": [
    "**append-extend-concatenation-insert**"
   ]
  },
  {
   "cell_type": "code",
   "execution_count": 40,
   "id": "b2587343-6ce0-46ee-9ff5-1627d1ee3718",
   "metadata": {},
   "outputs": [
    {
     "data": {
      "text/plain": [
       "[1, 2, 3, 4, 5, 6, ['a', 'b', 'c', 'd', 'e']]"
      ]
     },
     "execution_count": 40,
     "metadata": {},
     "output_type": "execute_result"
    }
   ],
   "source": [
    "l1=[1,2,3,4,5,6]\n",
    "l2=['a','b','c','d','e']\n",
    "\n",
    "l1.append(l2)\n",
    "l1"
   ]
  },
  {
   "cell_type": "code",
   "execution_count": 41,
   "id": "6bf981ed-5ec7-4045-b81d-9e9323420f99",
   "metadata": {},
   "outputs": [
    {
     "name": "stdout",
     "output_type": "stream",
     "text": [
      "[1, 2, 3, 4, 5, 6, 'a', 'b', 'c', 'd', 'e']\n",
      "['a', 'b', 'c', 'd', 'e']\n"
     ]
    }
   ],
   "source": [
    "l1=[1,2,3,4,5,6]\n",
    "l2=['a','b','c','d','e']\n",
    "\n",
    "l1.extend(l2)\n",
    "print(l1)\n",
    "print(l2)"
   ]
  },
  {
   "cell_type": "code",
   "execution_count": 47,
   "id": "2f00b8b0-b2b3-468b-a48f-2a24ed227428",
   "metadata": {},
   "outputs": [
    {
     "name": "stdout",
     "output_type": "stream",
     "text": [
      "[1, 2, 3, 4, 5, 6, 'a', 'b', 'c', 'd', 'e']\n",
      "['a', 'b', 'c', 'd', 'e', 1, 2, 3, 4, 5, 6]\n",
      "[1, 2, 3, 4, 5, 6]\n",
      "['a', 'b', 'c', 'd', 'e']\n"
     ]
    }
   ],
   "source": [
    "l1=[1,2,3,4,5,6]\n",
    "l2=['a','b','c','d','e']\n",
    "\n",
    "print(l1+l2)\n",
    "print(l2+l1)\n",
    "print(l1)\n",
    "print(l2)"
   ]
  },
  {
   "cell_type": "code",
   "execution_count": 49,
   "id": "2cc0665d-e0d8-4c29-9f69-f5ebfe40862d",
   "metadata": {},
   "outputs": [
    {
     "data": {
      "text/plain": [
       "[1, 2, 3, 4, 5, 6, 'a', 'p', 'p', 'l', 'e']"
      ]
     },
     "execution_count": 49,
     "metadata": {},
     "output_type": "execute_result"
    }
   ],
   "source": [
    "l1=[1,2,3,4,5,6]\n",
    "l1.extend('apple')\n",
    "l1"
   ]
  },
  {
   "cell_type": "code",
   "execution_count": 50,
   "id": "68044920-75ce-4d7b-ba2f-f324341d35a2",
   "metadata": {},
   "outputs": [
    {
     "data": {
      "text/plain": [
       "[1, 2, 3, 4, 5, 6, 10, 20, 30, 40]"
      ]
     },
     "execution_count": 50,
     "metadata": {},
     "output_type": "execute_result"
    }
   ],
   "source": [
    "l1=[1,2,3,4,5,6]\n",
    "l1.extend((10,20,30,40))\n",
    "l1"
   ]
  },
  {
   "cell_type": "markdown",
   "id": "f0477616-c369-4568-a10f-a7b957f1b54e",
   "metadata": {},
   "source": [
    "- append just append the value with base data type\n",
    "- extend is concatenate the value, and the list will be overwrite with new values\n",
    "- extend can take any iterable format type i.e. string,list,tuple\n",
    "- extend and concatenation both are same\n",
    "- the list will not oveerwrite in concatenation"
   ]
  },
  {
   "cell_type": "markdown",
   "id": "8b48dca4-e129-44db-b2c3-9c59904bb5ff",
   "metadata": {},
   "source": [
    "**index**"
   ]
  },
  {
   "cell_type": "markdown",
   "id": "a89a50fa-18ef-4ca9-a5da-e7de42271d8a",
   "metadata": {},
   "source": [
    "- same like string only"
   ]
  },
  {
   "cell_type": "code",
   "execution_count": 62,
   "id": "95f1cffb-fc30-472b-9862-f3a8ff698a11",
   "metadata": {},
   "outputs": [
    {
     "data": {
      "text/plain": [
       "(3, 6)"
      ]
     },
     "execution_count": 62,
     "metadata": {},
     "output_type": "execute_result"
    }
   ],
   "source": [
    "l1=[1,2,3,'apple',10,20,'apple',30,40]\n",
    "\n",
    "\n",
    "l1.index(2)\n",
    "\n",
    "i1=l1.index('apple')\n",
    "i2=l1.index('apple',i1+1)\n",
    "i1,i2"
   ]
  },
  {
   "cell_type": "code",
   "execution_count": 68,
   "id": "f51a2080-aeee-4e9c-8009-c7ca7a9179cc",
   "metadata": {},
   "outputs": [
    {
     "name": "stdout",
     "output_type": "stream",
     "text": [
      "3\n"
     ]
    },
    {
     "data": {
      "text/plain": [
       "6"
      ]
     },
     "execution_count": 68,
     "metadata": {},
     "output_type": "execute_result"
    }
   ],
   "source": [
    "l1=[1,2,3,'apple',10,20,'apple',30,40]\n",
    "#   0 1 2   3     4   5   6     7   8\n",
    "i1=l1.index('apple')\n",
    "print(i1)\n",
    "\n",
    "i2=l1.index('apple',i1+1)\n",
    "i2\n",
    "\n",
    "# if i want second 'apple'\n",
    "# from which index my eyes will start"
   ]
  },
  {
   "cell_type": "markdown",
   "id": "1a6eb222-c067-4e9f-a9d0-cf4ced220663",
   "metadata": {},
   "source": [
    "- case-1: Directly get the index\n",
    "- case-2: Next value index, by providing start\n",
    "- case-3: Between the values"
   ]
  },
  {
   "cell_type": "code",
   "execution_count": 1,
   "id": "0257e7c5-8850-47ef-a002-472d465c1e3e",
   "metadata": {},
   "outputs": [
    {
     "data": {
      "text/plain": [
       "[1, 2, 3, 'apple', 10, 20, 'apple', 'cherry', 40]"
      ]
     },
     "execution_count": 1,
     "metadata": {},
     "output_type": "execute_result"
    }
   ],
   "source": [
    "l1=[1,2,3,'apple',10,20,'apple',40]\n",
    "\n",
    "i1=l1.index(40)\n",
    "l1.insert(i1,'cherry')\n",
    "l1\n"
   ]
  },
  {
   "cell_type": "code",
   "execution_count": null,
   "id": "167c9484-fe77-416a-aebb-0c4393124e3e",
   "metadata": {},
   "outputs": [],
   "source": [
    "# if we want to add cherry before 2nd apple then how?\n",
    "\n",
    "l1=[1,2,3,'apple',10,20,'apple',40]\n",
    "\n",
    "\n",
    "# step-1: we want to find the index of 2nd 'apple' \n",
    "# step-2: how to find "
   ]
  },
  {
   "cell_type": "code",
   "execution_count": 12,
   "id": "a6d27a64-3eb9-4148-ae52-d1421a1da665",
   "metadata": {},
   "outputs": [
    {
     "data": {
      "text/plain": [
       "[1, 2, 3, 'apple', 10, 20, 'cherry', 'apple', 40]"
      ]
     },
     "execution_count": 12,
     "metadata": {},
     "output_type": "execute_result"
    }
   ],
   "source": [
    "l1=[1,2,3,'apple',10,20,'apple',40]\n",
    "i1=l1.index('apple')\n",
    "i2=l1.index('apple',i1+1)\n",
    "l1.insert(6,'cherry')\n",
    "l1"
   ]
  },
  {
   "cell_type": "code",
   "execution_count": null,
   "id": "127ee4ac-52a4-4277-a00e-f0e7936b9797",
   "metadata": {},
   "outputs": [],
   "source": []
  },
  {
   "cell_type": "code",
   "execution_count": null,
   "id": "0726efaa-4e81-4362-96ba-84b6b9c65bb0",
   "metadata": {},
   "outputs": [],
   "source": []
  },
  {
   "cell_type": "markdown",
   "id": "d7508e1a-c857-4ead-8ddb-06f1a8d42eae",
   "metadata": {},
   "source": [
    "**pop-remove-del**\n",
    "\n",
    "- pop will remove the item\n",
    "- pop also display the item which is removing\n",
    "- pop will take one argument : index\n",
    "- pop will remove the item based on index\n",
    "- if you don't provide any index,by default will remove last value\n",
    "- because the default index value is -1"
   ]
  },
  {
   "cell_type": "code",
   "execution_count": null,
   "id": "8b09385b-48bf-41e8-8cf9-934b94a507aa",
   "metadata": {},
   "outputs": [],
   "source": []
  },
  {
   "cell_type": "code",
   "execution_count": 18,
   "id": "1d41ee32-cd9e-44ef-b4de-ad132dac2151",
   "metadata": {},
   "outputs": [
    {
     "data": {
      "text/plain": [
       "[1, 2, 3, 'apple', 10, 20, 'apple']"
      ]
     },
     "execution_count": 18,
     "metadata": {},
     "output_type": "execute_result"
    }
   ],
   "source": [
    "l1=[1,2,3,'apple',10,20,'apple',40]\n",
    "l1.pop()\n",
    "l1"
   ]
  },
  {
   "cell_type": "code",
   "execution_count": 13,
   "id": "3b887cca-1c57-4c00-a153-c88d437a5a04",
   "metadata": {},
   "outputs": [
    {
     "data": {
      "text/plain": [
       "['__add__',\n",
       " '__class__',\n",
       " '__class_getitem__',\n",
       " '__contains__',\n",
       " '__delattr__',\n",
       " '__delitem__',\n",
       " '__dir__',\n",
       " '__doc__',\n",
       " '__eq__',\n",
       " '__format__',\n",
       " '__ge__',\n",
       " '__getattribute__',\n",
       " '__getitem__',\n",
       " '__getstate__',\n",
       " '__gt__',\n",
       " '__hash__',\n",
       " '__iadd__',\n",
       " '__imul__',\n",
       " '__init__',\n",
       " '__init_subclass__',\n",
       " '__iter__',\n",
       " '__le__',\n",
       " '__len__',\n",
       " '__lt__',\n",
       " '__mul__',\n",
       " '__ne__',\n",
       " '__new__',\n",
       " '__reduce__',\n",
       " '__reduce_ex__',\n",
       " '__repr__',\n",
       " '__reversed__',\n",
       " '__rmul__',\n",
       " '__setattr__',\n",
       " '__setitem__',\n",
       " '__sizeof__',\n",
       " '__str__',\n",
       " '__subclasshook__',\n",
       " 'append',\n",
       " 'clear',\n",
       " 'copy',\n",
       " 'count',\n",
       " 'extend',\n",
       " 'index',\n",
       " 'insert',\n",
       " 'pop',\n",
       " 'remove',\n",
       " 'reverse',\n",
       " 'sort']"
      ]
     },
     "execution_count": 13,
     "metadata": {},
     "output_type": "execute_result"
    }
   ],
   "source": [
    "dir([])"
   ]
  },
  {
   "cell_type": "code",
   "execution_count": 20,
   "id": "9957e052-a1d3-400d-b45b-be36f9396384",
   "metadata": {},
   "outputs": [
    {
     "data": {
      "text/plain": [
       "[1, 2, 3, 10, 20, 'apple', 40]"
      ]
     },
     "execution_count": 20,
     "metadata": {},
     "output_type": "execute_result"
    }
   ],
   "source": [
    "l1=[1,2,3,'apple',10,20,'apple',40]\n",
    "i1=l1.index('apple')\n",
    "l1.pop(i1)\n",
    "l1"
   ]
  },
  {
   "cell_type": "code",
   "execution_count": 21,
   "id": "4dd4167a-f3cb-4f66-b3df-450faa0683bf",
   "metadata": {},
   "outputs": [
    {
     "data": {
      "text/plain": [
       "[1, 2, 3, 'apple', 10, 20, 40]"
      ]
     },
     "execution_count": 21,
     "metadata": {},
     "output_type": "execute_result"
    }
   ],
   "source": [
    "l1=[1,2,3,'apple',10,20,'apple',40]\n",
    "i1=l1.index('apple',i1+1)\n",
    "l1.pop(i1)\n",
    "l1"
   ]
  },
  {
   "cell_type": "code",
   "execution_count": 22,
   "id": "c6117a9d-31dd-49e0-8bf2-bb3ac700f2ae",
   "metadata": {},
   "outputs": [
    {
     "data": {
      "text/plain": [
       "[1, 2, 3, 10, 20, 40]"
      ]
     },
     "execution_count": 22,
     "metadata": {},
     "output_type": "execute_result"
    }
   ],
   "source": [
    "l1=[1,2,3,'apple',10,20,'apple',40]\n",
    "i1=l1.index('apple')\n",
    "l1.pop(i1)        # l1=[1,2,3,10,20,'apple',40]\n",
    "\n",
    "i1=l1.index('apple')\n",
    "l1.pop(i1)         # l1=[1,2,3,10,20,40]\n",
    "l1"
   ]
  },
  {
   "cell_type": "code",
   "execution_count": 35,
   "id": "6cb3ebb9-0112-4ba2-955a-39adad8cc962",
   "metadata": {},
   "outputs": [
    {
     "ename": "IndexError",
     "evalue": "pop index out of range",
     "output_type": "error",
     "traceback": [
      "\u001b[1;31m---------------------------------------------------------------------------\u001b[0m",
      "\u001b[1;31mIndexError\u001b[0m                                Traceback (most recent call last)",
      "Cell \u001b[1;32mIn[35], line 5\u001b[0m\n\u001b[0;32m      3\u001b[0m \u001b[38;5;28;01mfor\u001b[39;00m i \u001b[38;5;129;01min\u001b[39;00m \u001b[38;5;28mrange\u001b[39m(\u001b[38;5;241m2\u001b[39m):\n\u001b[0;32m      4\u001b[0m     i1\u001b[38;5;241m=\u001b[39m\u001b[38;5;28mstr\u001b[39m\u001b[38;5;241m.\u001b[39mindex(\u001b[38;5;124m'\u001b[39m\u001b[38;5;124mapple\u001b[39m\u001b[38;5;124m'\u001b[39m,i1\u001b[38;5;241m+\u001b[39m\u001b[38;5;241m1\u001b[39m)\n\u001b[1;32m----> 5\u001b[0m     l1\u001b[38;5;241m.\u001b[39mpop(i1)\n\u001b[0;32m      6\u001b[0m i1\n",
      "\u001b[1;31mIndexError\u001b[0m: pop index out of range"
     ]
    }
   ],
   "source": [
    "l1=[1,2,3,'apple',10,20,'apple',40]\n",
    "\n",
    "for i in range(2):\n",
    "    i1=str.index('apple',i1+1)\n",
    "    l1.pop(i1)\n",
    "i1\n",
    "    "
   ]
  },
  {
   "cell_type": "code",
   "execution_count": 45,
   "id": "a9826246-2e5e-4b5e-ab0e-eed42c8ab816",
   "metadata": {},
   "outputs": [
    {
     "data": {
      "text/plain": [
       "'hai how are you im good thank you'"
      ]
     },
     "execution_count": 45,
     "metadata": {},
     "output_type": "execute_result"
    }
   ],
   "source": [
    "str='hai apple how are you apple im good apple thank you apple'\n",
    "# o/p='hai how are you im good thank you'\n",
    "# step-1 split\n",
    "# step-2 iterate\n",
    "# \n",
    "list1=str.split()\n",
    "count=list1.count('apple')\n",
    "\n",
    "for i in range(count):\n",
    "    i1=list1.index('apple')\n",
    "    list1.pop(i1)\n",
    "\n",
    "' '.join(list1)\n",
    "    "
   ]
  },
  {
   "cell_type": "code",
   "execution_count": 44,
   "id": "10436164-0fd5-447f-a62f-ff8fdc38ab33",
   "metadata": {},
   "outputs": [
    {
     "data": {
      "text/plain": [
       "[1, 2, 3, 10, 20, 'apple', 40]"
      ]
     },
     "execution_count": 44,
     "metadata": {},
     "output_type": "execute_result"
    }
   ],
   "source": [
    "l1=[1,2,3,'apple',10,20,'apple',40]\n",
    "l1.remove('apple')\n",
    "l1"
   ]
  },
  {
   "cell_type": "code",
   "execution_count": 47,
   "id": "cb41dd9b-9031-4670-bf4f-d8278f0aa8d9",
   "metadata": {},
   "outputs": [
    {
     "data": {
      "text/plain": [
       "'hai how are you im good thank you'"
      ]
     },
     "execution_count": 47,
     "metadata": {},
     "output_type": "execute_result"
    }
   ],
   "source": [
    "str='hai apple how are you apple im good apple thank you apple'\n",
    "\n",
    "list1=str.split()\n",
    "count=list1.count('apple')\n",
    "\n",
    "for i in range(count):\n",
    "    list1.remove('apple')\n",
    "' '.join(list1)"
   ]
  },
  {
   "cell_type": "markdown",
   "id": "f351ce5e-d367-44f8-9af0-10d3cb240a66",
   "metadata": {},
   "source": [
    "**del**"
   ]
  },
  {
   "cell_type": "code",
   "execution_count": 50,
   "id": "9d17b5d1-1121-4a4f-929e-d83a1c9adc30",
   "metadata": {},
   "outputs": [
    {
     "data": {
      "text/plain": [
       "[1, 2, 3, 10, 20, 'apple', 40]"
      ]
     },
     "execution_count": 50,
     "metadata": {},
     "output_type": "execute_result"
    }
   ],
   "source": [
    "l1=[1,2,3,'apple',10,20,'apple',40]\n",
    "del(l1[3])\n",
    "l1"
   ]
  },
  {
   "cell_type": "markdown",
   "id": "fcee9cb4-e100-49d8-976b-a49ee378a7e8",
   "metadata": {},
   "source": [
    "- append / extend / insert / concatenation\n",
    "\n",
    "- pop / remove / del\n",
    "\n",
    "- sort / sorted\n",
    "\n",
    "- reverse / reversed\n",
    "\n",
    "- count / index"
   ]
  },
  {
   "cell_type": "code",
   "execution_count": null,
   "id": "918311f1-78d8-4d39-9406-409174662864",
   "metadata": {},
   "outputs": [],
   "source": [
    "representation\n",
    "\n",
    "- type\n",
    "\n",
    "- len\n",
    "\n",
    "- max\n",
    "\n",
    "- min\n",
    "\n",
    "- sum\n",
    "\n",
    "- reversed\n",
    "\n",
    "- in \n",
    "\n",
    "- for loop with in\n",
    "\n",
    "- "
   ]
  },
  {
   "cell_type": "code",
   "execution_count": null,
   "id": "1aaa245b-f74a-49ea-bbc2-671612b79d29",
   "metadata": {},
   "outputs": [],
   "source": []
  },
  {
   "cell_type": "code",
   "execution_count": null,
   "id": "21997abf-3bf1-46c4-9772-e829bcb722b4",
   "metadata": {},
   "outputs": [],
   "source": []
  },
  {
   "cell_type": "code",
   "execution_count": 1,
   "id": "23d7b787-c87d-467f-85fa-c93182b6bf13",
   "metadata": {},
   "outputs": [
    {
     "data": {
      "text/plain": [
       "['HYD', 'MUMBAI', 'CHENNAI', 'BLR']"
      ]
     },
     "execution_count": 1,
     "metadata": {},
     "output_type": "execute_result"
    }
   ],
   "source": [
    "# Q2).l1=(hyd,mumbai,chennai,blr)\n",
    "\n",
    "# upper_list=['hyd','mumbai','chenai','blr']\n",
    "l1=('hyd','mumbai','chennai','blr')\n",
    "upper_list=[]\n",
    "for i in l1:\n",
    "    upper_list.append(i.upper())\n",
    "\n",
    "upper_list"
   ]
  },
  {
   "cell_type": "code",
   "execution_count": 3,
   "id": "bb5be104-3ef7-4292-b487-9d1a839089d4",
   "metadata": {},
   "outputs": [
    {
     "data": {
      "text/plain": [
       "['HYD', 'MUMBAI', 'CHENNAI', 'BLR']"
      ]
     },
     "execution_count": 3,
     "metadata": {},
     "output_type": "execute_result"
    }
   ],
   "source": [
    "l1=['hyd','mumbai','chennai','blr']\n",
    "upper_list=[i.upper() for i in l1]\n",
    "           \n",
    "upper_list\n"
   ]
  },
  {
   "cell_type": "code",
   "execution_count": 5,
   "id": "335b5508-4cd1-426f-a128-94535d17f217",
   "metadata": {},
   "outputs": [
    {
     "data": {
      "text/plain": [
       "['hyd', 'mumbai', 'chennai', 'blr']"
      ]
     },
     "execution_count": 5,
     "metadata": {},
     "output_type": "execute_result"
    }
   ],
   "source": [
    "# Q3).lower list\n",
    "\n",
    "l1=['Hyd','Mumbai','Chennai','Blr']\n",
    "lower_list=[i.lower() for i in l1]\n",
    "           \n",
    "lower_list\n"
   ]
  },
  {
   "cell_type": "code",
   "execution_count": 16,
   "id": "483c5624-27bc-4b31-b3bd-cdbfc9d9916f",
   "metadata": {},
   "outputs": [
    {
     "name": "stdout",
     "output_type": "stream",
     "text": [
      "0\n",
      "1\n",
      "2\n",
      "3\n"
     ]
    },
    {
     "data": {
      "text/plain": [
       "4"
      ]
     },
     "execution_count": 16,
     "metadata": {},
     "output_type": "execute_result"
    }
   ],
   "source": [
    "# Q4). l1=['Hyd','Mumbai','Chennai','Blr']\n",
    "# sum of the index of all elements\n",
    "\n",
    "l1=['Hyd','Mumbai','Chennai','Blr']                         # in list comprehension will not work initialisations like sum=0\n",
    "summ=0\n",
    "for i in l1:                           # wrong process\n",
    "    print(l1.index(i))\n",
    "    summ=summ+1\n",
    "summ"
   ]
  },
  {
   "cell_type": "code",
   "execution_count": 29,
   "id": "c17ec85d-f638-4cdd-8b73-46218e1f23e3",
   "metadata": {},
   "outputs": [
    {
     "ename": "TypeError",
     "evalue": "'int' object is not callable",
     "output_type": "error",
     "traceback": [
      "\u001b[1;31m---------------------------------------------------------------------------\u001b[0m",
      "\u001b[1;31mTypeError\u001b[0m                                 Traceback (most recent call last)",
      "Cell \u001b[1;32mIn[29], line 6\u001b[0m\n\u001b[0;32m      4\u001b[0m l2\u001b[38;5;241m=\u001b[39m[\u001b[38;5;124m'\u001b[39m\u001b[38;5;124mHyd\u001b[39m\u001b[38;5;124m'\u001b[39m,\u001b[38;5;124m'\u001b[39m\u001b[38;5;124mMumbai\u001b[39m\u001b[38;5;124m'\u001b[39m,\u001b[38;5;124m'\u001b[39m\u001b[38;5;124mChennai\u001b[39m\u001b[38;5;124m'\u001b[39m,\u001b[38;5;124m'\u001b[39m\u001b[38;5;124mBlr\u001b[39m\u001b[38;5;124m'\u001b[39m] \n\u001b[0;32m      5\u001b[0m idx_list1\u001b[38;5;241m=\u001b[39m[l2\u001b[38;5;241m.\u001b[39mindex(i) \u001b[38;5;28;01mfor\u001b[39;00m i \u001b[38;5;129;01min\u001b[39;00m l2]\n\u001b[1;32m----> 6\u001b[0m \u001b[38;5;28msum\u001b[39m(idx_list1)\n",
      "\u001b[1;31mTypeError\u001b[0m: 'int' object is not callable"
     ]
    }
   ],
   "source": [
    "# Q4). l1=['Hyd','Mumbai','Chennai','Blr']\n",
    "# sum of the index of all elements\n",
    "\n",
    "l2=['Hyd','Mumbai','Chennai','Blr'] \n",
    "idx_list1=[l2.index(i) for i in l2]\n",
    "sum(idx_list1)\n"
   ]
  },
  {
   "cell_type": "markdown",
   "id": "6ef89640-7bc7-4397-9594-242ccbaee4a2",
   "metadata": {},
   "source": [
    "- making empty list will not works in the list comprehension\n",
    "- initialisations will not works in the list comprehension"
   ]
  },
  {
   "cell_type": "markdown",
   "id": "c95c7832-bc28-471c-9303-444c49b1d0a2",
   "metadata": {},
   "source": [
    "***`pattern-2***"
   ]
  },
  {
   "cell_type": "markdown",
   "id": "bbe552f8-4d45-450f-8fd9-ab1062a52893",
   "metadata": {},
   "source": [
    "**for-loop if condition**"
   ]
  },
  {
   "cell_type": "code",
   "execution_count": 30,
   "id": "d9fe3618-189b-4d9b-9cf5-1bfedf5389e0",
   "metadata": {},
   "outputs": [],
   "source": [
    "# syntax\n",
    "# [<output> <for loop> <if condition>]"
   ]
  },
  {
   "cell_type": "code",
   "execution_count": 59,
   "id": "1a978552-1d09-429d-bf18-1a3c994b2823",
   "metadata": {},
   "outputs": [
    {
     "data": {
      "text/plain": [
       "[[False, False, False, False]]"
      ]
     },
     "execution_count": 59,
     "metadata": {},
     "output_type": "execute_result"
    }
   ],
   "source": [
    "# Q5).l1=['Hyd','Mumbai','Chennai','Blr']\n",
    "# we want elements which are len of element>4\n",
    "\n",
    "l1=['Hyd','Mumbai','Chennai','Blr']\n",
    "l2=[]\n",
    "for i in l1:\n",
    "    \n",
    "li_list=[(len(l1)>4) for i in l1]\n",
    "l2.append(li_list)\n",
    "l2"
   ]
  },
  {
   "cell_type": "code",
   "execution_count": 65,
   "id": "b8fbd464-bc24-4450-ad4f-4c533f21491c",
   "metadata": {},
   "outputs": [
    {
     "data": {
      "text/plain": [
       "['Mum#bai', 'Ch#nnai']"
      ]
     },
     "execution_count": 65,
     "metadata": {},
     "output_type": "execute_result"
    }
   ],
   "source": [
    "# Q6). \n",
    "\n",
    "l1=['Hyd','Mum#bai','Ch#nnai','Blr']\n",
    "op_ash=[i for i in l1 if '#'  in i]\n",
    "op_ash"
   ]
  },
  {
   "cell_type": "code",
   "execution_count": null,
   "id": "48238749-c9de-42e8-8c49-54a9c80630f2",
   "metadata": {},
   "outputs": [],
   "source": [
    "str1='virat.kohili@rcb.com','rohith.sharma@mi.com','kl.rahul@"
   ]
  },
  {
   "cell_type": "code",
   "execution_count": null,
   "id": "021d3fcb-fce0-4ec9-9f44-30c6ad8e4066",
   "metadata": {},
   "outputs": [],
   "source": [
    "return(n)"
   ]
  },
  {
   "cell_type": "code",
   "execution_count": null,
   "id": "781e4dea-e1e5-45fc-bcc5-320ed88f016c",
   "metadata": {},
   "outputs": [],
   "source": [
    "num = 5\n",
    "while num>0:\n",
    "    print(num)\n",
    "    num-=1\n",
    "    if num==3:\n",
    "        break\n",
    "    else:\n",
    "    print('Done')"
   ]
  },
  {
   "cell_type": "code",
   "execution_count": null,
   "id": "92376303-051d-48d9-aace-202f5bc679d8",
   "metadata": {},
   "outputs": [],
   "source": [
    "fruits=[\"apple\",\"banana\",\"cherry\"]\n",
    "for i in fruits:\n",
    "    print(fruits)"
   ]
  },
  {
   "cell_type": "markdown",
   "id": "36edcc22-6928-4d65-b465-e32aa50dc1b8",
   "metadata": {},
   "source": [
    "***pattern-3***\n",
    "\n",
    "**even-odd**\n"
   ]
  },
  {
   "cell_type": "code",
   "execution_count": 2,
   "id": "2e134ec8-94d3-42c1-ada0-41a57eeec89e",
   "metadata": {},
   "outputs": [
    {
     "ename": "NameError",
     "evalue": "name 'odd_list' is not defined",
     "output_type": "error",
     "traceback": [
      "\u001b[1;31m---------------------------------------------------------------------------\u001b[0m",
      "\u001b[1;31mNameError\u001b[0m                                 Traceback (most recent call last)",
      "Cell \u001b[1;32mIn[2], line 5\u001b[0m\n\u001b[0;32m      3\u001b[0m         even_list\u001b[38;5;241m.\u001b[39mappend(\u001b[38;5;124mf\u001b[39m\u001b[38;5;124m\"\u001b[39m\u001b[38;5;124meven:\u001b[39m\u001b[38;5;132;01m{\u001b[39;00mi\u001b[38;5;132;01m}\u001b[39;00m\u001b[38;5;124m\"\u001b[39m)\n\u001b[0;32m      4\u001b[0m     \u001b[38;5;28;01melse\u001b[39;00m:\n\u001b[1;32m----> 5\u001b[0m         odd_list\u001b[38;5;241m.\u001b[39mappend(\u001b[38;5;124mf\u001b[39m\u001b[38;5;124m\"\u001b[39m\u001b[38;5;124modd:\u001b[39m\u001b[38;5;132;01m{\u001b[39;00mi\u001b[38;5;132;01m}\u001b[39;00m\u001b[38;5;124m\"\u001b[39m)\n\u001b[0;32m      7\u001b[0m even_list,odd_list\n",
      "\u001b[1;31mNameError\u001b[0m: name 'odd_list' is not defined"
     ]
    }
   ],
   "source": [
    "for i in range(1,20):\n",
    "    if i%2==0:\n",
    "        even_list.append(f\"even:{i}\")\n",
    "    else:\n",
    "        odd_list.append(f\"odd:{i}\")\n",
    "\n",
    "even_list,odd_list"
   ]
  },
  {
   "cell_type": "code",
   "execution_count": 3,
   "id": "f95c3bba-571e-46a4-a6a6-df3ce9ea0be9",
   "metadata": {},
   "outputs": [
    {
     "data": {
      "text/plain": [
       "['odd:1',\n",
       " 'even:2',\n",
       " 'odd:3',\n",
       " 'even:4',\n",
       " 'odd:5',\n",
       " 'even:6',\n",
       " 'odd:7',\n",
       " 'even:8',\n",
       " 'odd:9',\n",
       " 'even:10',\n",
       " 'odd:11',\n",
       " 'even:12',\n",
       " 'odd:13',\n",
       " 'even:14',\n",
       " 'odd:15',\n",
       " 'even:16',\n",
       " 'odd:17',\n",
       " 'even:18',\n",
       " 'odd:19']"
      ]
     },
     "execution_count": 3,
     "metadata": {},
     "output_type": "execute_result"
    }
   ],
   "source": [
    "op_list=[]\n",
    "for i in range(1,20):\n",
    "    if i%2==0:\n",
    "        op_list.append(f\"even:{i}\")\n",
    "    else:\n",
    "        op_list.append(f\"odd:{i}\")\n",
    "\n",
    "op_list"
   ]
  },
  {
   "cell_type": "code",
   "execution_count": 4,
   "id": "89cd7ba7-9148-4f80-960a-6054ea4fb531",
   "metadata": {},
   "outputs": [
    {
     "data": {
      "text/plain": [
       "['odd:1',\n",
       " 'even:2',\n",
       " 'odd:3',\n",
       " 'even:4',\n",
       " 'odd:5',\n",
       " 'even:6',\n",
       " 'odd:7',\n",
       " 'even:8',\n",
       " 'odd:9',\n",
       " 'even:10',\n",
       " 'odd:11',\n",
       " 'even:12',\n",
       " 'odd:13',\n",
       " 'even:14',\n",
       " 'odd:15',\n",
       " 'even:16',\n",
       " 'odd:17',\n",
       " 'even:18',\n",
       " 'odd:19']"
      ]
     },
     "execution_count": 4,
     "metadata": {},
     "output_type": "execute_result"
    }
   ],
   "source": [
    "[f\"even:{i}\" if i%2==0 else f\"odd:{i}\" for i in range(1,20)]"
   ]
  },
  {
   "cell_type": "code",
   "execution_count": null,
   "id": "28f2d802-b799-49bf-8b20-be6bf0b824bc",
   "metadata": {},
   "outputs": [],
   "source": []
  },
  {
   "cell_type": "code",
   "execution_count": null,
   "id": "69decc86-44bc-4bec-a6a1-1f5494aa2f6d",
   "metadata": {},
   "outputs": [],
   "source": []
  },
  {
   "cell_type": "code",
   "execution_count": null,
   "id": "13666425-e999-46f0-8ca4-12190278af05",
   "metadata": {},
   "outputs": [],
   "source": []
  },
  {
   "cell_type": "code",
   "execution_count": null,
   "id": "e1deb269-de92-4285-8968-439484681a02",
   "metadata": {},
   "outputs": [],
   "source": []
  },
  {
   "cell_type": "code",
   "execution_count": null,
   "id": "91b02870-77c4-4d4a-b0de-4000bcb54a09",
   "metadata": {},
   "outputs": [],
   "source": []
  },
  {
   "cell_type": "code",
   "execution_count": null,
   "id": "d342e757-737a-4687-a9ac-7c9d5029e675",
   "metadata": {},
   "outputs": [],
   "source": []
  },
  {
   "cell_type": "code",
   "execution_count": null,
   "id": "dab1d66d-1c18-4693-8447-51c3adfe79c0",
   "metadata": {},
   "outputs": [],
   "source": []
  },
  {
   "cell_type": "code",
   "execution_count": null,
   "id": "e6b43e34-e4c6-441f-ae80-3510e6d3a453",
   "metadata": {},
   "outputs": [],
   "source": []
  },
  {
   "cell_type": "code",
   "execution_count": null,
   "id": "3eb078b8-fd6f-4872-a1f5-85065d09d2ae",
   "metadata": {},
   "outputs": [],
   "source": []
  },
  {
   "cell_type": "code",
   "execution_count": null,
   "id": "a1b14a9f-2f57-4496-a3ee-8a829b34186f",
   "metadata": {},
   "outputs": [],
   "source": []
  },
  {
   "cell_type": "code",
   "execution_count": null,
   "id": "ffc5178d-fbec-4b3c-a8e3-e1f9a2e9fd15",
   "metadata": {},
   "outputs": [],
   "source": []
  },
  {
   "cell_type": "code",
   "execution_count": null,
   "id": "b8b622f3-1087-47bb-9ef5-ccaddc3ca7c9",
   "metadata": {},
   "outputs": [],
   "source": []
  },
  {
   "cell_type": "code",
   "execution_count": null,
   "id": "69ac8651-5150-4732-859d-f4b0e470fc1b",
   "metadata": {},
   "outputs": [],
   "source": []
  }
 ],
 "metadata": {
  "kernelspec": {
   "display_name": "Python 3 (ipykernel)",
   "language": "python",
   "name": "python3"
  },
  "language_info": {
   "codemirror_mode": {
    "name": "ipython",
    "version": 3
   },
   "file_extension": ".py",
   "mimetype": "text/x-python",
   "name": "python",
   "nbconvert_exporter": "python",
   "pygments_lexer": "ipython3",
   "version": "3.11.7"
  }
 },
 "nbformat": 4,
 "nbformat_minor": 5
}
