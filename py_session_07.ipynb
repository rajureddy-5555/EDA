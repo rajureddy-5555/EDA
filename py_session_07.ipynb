{
 "cells": [
  {
   "cell_type": "code",
   "execution_count": null,
   "id": "5658dd2a-a62e-402d-b748-41dc1e1b8d7c",
   "metadata": {},
   "outputs": [],
   "source": [
    "# step-1:\n",
    "# import <package_name>\n",
    "\n",
    "# step-2:\n",
    "# dir(<package_name>)\n",
    "\n",
    "# step-3:\n",
    "# help(<package_name><method_name>)\n"
   ]
  },
  {
   "cell_type": "code",
   "execution_count": 1,
   "id": "2b9aba4f-f499-4026-a9c4-561e658831a4",
   "metadata": {},
   "outputs": [
    {
     "data": {
      "text/plain": [
       "['BPF',\n",
       " 'LOG4',\n",
       " 'NV_MAGICCONST',\n",
       " 'RECIP_BPF',\n",
       " 'Random',\n",
       " 'SG_MAGICCONST',\n",
       " 'SystemRandom',\n",
       " 'TWOPI',\n",
       " '_ONE',\n",
       " '_Sequence',\n",
       " '_Set',\n",
       " '__all__',\n",
       " '__builtins__',\n",
       " '__cached__',\n",
       " '__doc__',\n",
       " '__file__',\n",
       " '__loader__',\n",
       " '__name__',\n",
       " '__package__',\n",
       " '__spec__',\n",
       " '_accumulate',\n",
       " '_acos',\n",
       " '_bisect',\n",
       " '_ceil',\n",
       " '_cos',\n",
       " '_e',\n",
       " '_exp',\n",
       " '_floor',\n",
       " '_index',\n",
       " '_inst',\n",
       " '_isfinite',\n",
       " '_log',\n",
       " '_os',\n",
       " '_pi',\n",
       " '_random',\n",
       " '_repeat',\n",
       " '_sha512',\n",
       " '_sin',\n",
       " '_sqrt',\n",
       " '_test',\n",
       " '_test_generator',\n",
       " '_urandom',\n",
       " '_warn',\n",
       " 'betavariate',\n",
       " 'choice',\n",
       " 'choices',\n",
       " 'expovariate',\n",
       " 'gammavariate',\n",
       " 'gauss',\n",
       " 'getrandbits',\n",
       " 'getstate',\n",
       " 'lognormvariate',\n",
       " 'normalvariate',\n",
       " 'paretovariate',\n",
       " 'randbytes',\n",
       " 'randint',\n",
       " 'random',\n",
       " 'randrange',\n",
       " 'sample',\n",
       " 'seed',\n",
       " 'setstate',\n",
       " 'shuffle',\n",
       " 'triangular',\n",
       " 'uniform',\n",
       " 'vonmisesvariate',\n",
       " 'weibullvariate']"
      ]
     },
     "execution_count": 1,
     "metadata": {},
     "output_type": "execute_result"
    }
   ],
   "source": [
    "import random\n",
    "dir(random)"
   ]
  },
  {
   "cell_type": "code",
   "execution_count": 2,
   "id": "97736651-1103-4462-b329-c239fde6e6a6",
   "metadata": {},
   "outputs": [
    {
     "data": {
      "text/plain": [
       "<bound method Random.randint of <random.Random object at 0x0000022511A320C0>>"
      ]
     },
     "execution_count": 2,
     "metadata": {},
     "output_type": "execute_result"
    }
   ],
   "source": [
    "random.randint"
   ]
  },
  {
   "cell_type": "code",
   "execution_count": 3,
   "id": "b7ec5cbb-8439-40cd-a29c-5b6e7095e7fc",
   "metadata": {},
   "outputs": [],
   "source": [
    "import math\n"
   ]
  },
  {
   "cell_type": "code",
   "execution_count": 4,
   "id": "616ff203-a1e7-4c56-aaca-18ab770595d0",
   "metadata": {},
   "outputs": [
    {
     "data": {
      "text/plain": [
       "3.141592653589793"
      ]
     },
     "execution_count": 4,
     "metadata": {},
     "output_type": "execute_result"
    }
   ],
   "source": [
    "math.pi"
   ]
  },
  {
   "cell_type": "markdown",
   "id": "96a725bc-49cf-44f0-8924-d8da68704545",
   "metadata": {},
   "source": [
    "- () : functions or methods\n",
    "- only functions or methhods\n",
    "- if something says not callable means, it is not a function\n",
    "- it is not a function means,you need to remove bracket\n",
    "- bound method means ==== add the brackets\n",
    "- function===add the brackets\n",
    "- not callable ====remove the brackets\n"
   ]
  },
  {
   "cell_type": "markdown",
   "id": "65a05e79-7f1e-4510-af02-8098eedac901",
   "metadata": {},
   "source": [
    "- random\n",
    "\n",
    "- math  \n",
    "\n",
    "- keyword"
   ]
  },
  {
   "cell_type": "code",
   "execution_count": 5,
   "id": "8e4c0774-19d2-49b9-8a30-f92db146654f",
   "metadata": {},
   "outputs": [
    {
     "name": "stdout",
     "output_type": "stream",
     "text": [
      "CPU times: total: 0 ns\n",
      "Wall time: 0 ns\n"
     ]
    }
   ],
   "source": [
    "time"
   ]
  },
  {
   "cell_type": "code",
   "execution_count": 8,
   "id": "9a09d82c-e133-4dc4-9985-a7054a591d52",
   "metadata": {},
   "outputs": [
    {
     "name": "stdout",
     "output_type": "stream",
     "text": [
      "father:hello\n",
      "D: hai papa how are you?\n",
      "Father:do you have school today?\n"
     ]
    }
   ],
   "source": [
    "import time\n",
    "print(\"father:hello\")\n",
    "time.sleep(2)\n",
    "print(\"D: hai papa how are you?\")\n",
    "time.sleep(2)\n",
    "print(\"Father:do you have school today?\")\n"
   ]
  },
  {
   "cell_type": "markdown",
   "id": "111629c2-4f6d-4760-ae2e-44f4059c80f8",
   "metadata": {},
   "source": [
    "computer vision is used to image operations\n",
    "like video operations\n",
    "\n",
    "we called it as opencv\n",
    "package_name: cv2\n"
   ]
  },
  {
   "cell_type": "code",
   "execution_count": 1,
   "id": "c46bbda2-cf80-4955-ab31-6328d2b19935",
   "metadata": {},
   "outputs": [
    {
     "ename": "ModuleNotFoundError",
     "evalue": "No module named 'cv2'",
     "output_type": "error",
     "traceback": [
      "\u001b[1;31m---------------------------------------------------------------------------\u001b[0m",
      "\u001b[1;31mModuleNotFoundError\u001b[0m                       Traceback (most recent call last)",
      "Cell \u001b[1;32mIn[1], line 1\u001b[0m\n\u001b[1;32m----> 1\u001b[0m \u001b[38;5;28;01mimport\u001b[39;00m \u001b[38;5;21;01mcv2\u001b[39;00m\n",
      "\u001b[1;31mModuleNotFoundError\u001b[0m: No module named 'cv2'"
     ]
    }
   ],
   "source": [
    "import cv2\n"
   ]
  },
  {
   "cell_type": "code",
   "execution_count": null,
   "id": "f1a3fd4d-9379-48b9-ba43-aab528b1476b",
   "metadata": {},
   "outputs": [],
   "source": [
    "- when ever module not find , we need to install it\n",
    "\n",
    "- here our package name is cv2\n",
    "\n",
    "- 99% the installation will be like this\n",
    "\n",
    "pip istall <package name>\n",
    "\n",
    "- some packages installation name will different and python import name is different\n",
    "\n",
    "- inorder to install the packages we need internet\n",
    "\n",
    "- "
   ]
  },
  {
   "cell_type": "code",
   "execution_count": 12,
   "id": "4a827c46-030e-4f1b-9f2a-0bb21adb700a",
   "metadata": {},
   "outputs": [
    {
     "ename": "ModuleNotFoundError",
     "evalue": "No module named 'cv2'",
     "output_type": "error",
     "traceback": [
      "\u001b[1;31m---------------------------------------------------------------------------\u001b[0m",
      "\u001b[1;31mModuleNotFoundError\u001b[0m                       Traceback (most recent call last)",
      "Cell \u001b[1;32mIn[12], line 1\u001b[0m\n\u001b[1;32m----> 1\u001b[0m \u001b[38;5;28;01mimport\u001b[39;00m \u001b[38;5;21;01mcv2\u001b[39;00m\n",
      "\u001b[1;31mModuleNotFoundError\u001b[0m: No module named 'cv2'"
     ]
    }
   ],
   "source": [
    "import cv2"
   ]
  },
  {
   "cell_type": "code",
   "execution_count": 13,
   "id": "bfab38e1-c984-4533-aeab-c369653f46de",
   "metadata": {},
   "outputs": [],
   "source": [
    "import streamlit"
   ]
  },
  {
   "cell_type": "markdown",
   "id": "f0d4db85-af5e-443a-9f40-32a6d762fb06",
   "metadata": {},
   "source": [
    "**NOTE**\n",
    "\n",
    "- pip freeze is the command to know the already existed packages in our laptop"
   ]
  },
  {
   "cell_type": "code",
   "execution_count": 14,
   "id": "86fd6843-ccd4-4245-87a4-6331838e82ae",
   "metadata": {},
   "outputs": [],
   "source": [
    "import streamlit"
   ]
  },
  {
   "cell_type": "code",
   "execution_count": 15,
   "id": "da1594d7-ae91-4e91-8ae2-623fa04b67a7",
   "metadata": {},
   "outputs": [],
   "source": [
    "import numpy"
   ]
  },
  {
   "cell_type": "code",
   "execution_count": 16,
   "id": "32f892a1-7832-469b-a871-23b97d47cb64",
   "metadata": {},
   "outputs": [
    {
     "data": {
      "text/plain": [
       "<module 'numpy' from 'C:\\\\Users\\\\rajur\\\\anaconda3\\\\Anaconda\\\\Lib\\\\site-packages\\\\numpy\\\\__init__.py'>"
      ]
     },
     "execution_count": 16,
     "metadata": {},
     "output_type": "execute_result"
    }
   ],
   "source": [
    "numpy"
   ]
  },
  {
   "cell_type": "markdown",
   "id": "d9ecbb63-e13f-432b-b79d-d45190ebf6e4",
   "metadata": {},
   "source": [
    "**!pip install opencv-python**\n",
    "\n",
    "- in jupiter notebook we need add ! mark\n",
    "\n",
    "- in anaconda prompt we need of ! mark\n",
    "\n",
    "- directly name you can provide"
   ]
  },
  {
   "cell_type": "code",
   "execution_count": 17,
   "id": "e468e306-8645-4ff1-b987-aede05107e50",
   "metadata": {},
   "outputs": [
    {
     "name": "stdout",
     "output_type": "stream",
     "text": [
      "30\n"
     ]
    }
   ],
   "source": [
    "number1=10\n",
    "number2=20\n",
    "add=number1+number2\n",
    "print(add)\n"
   ]
  },
  {
   "cell_type": "code",
   "execution_count": 18,
   "id": "d3de7a8b-aa02-4335-9e41-2aad329d3d58",
   "metadata": {},
   "outputs": [
    {
     "name": "stdin",
     "output_type": "stream",
     "text": [
      "enter the number1: 120\n",
      "enter the number2: 200\n"
     ]
    },
    {
     "name": "stdout",
     "output_type": "stream",
     "text": [
      "320\n"
     ]
    }
   ],
   "source": [
    "number1=eval(input(\"enter the number1:\"))\n",
    "number2=eval(input(\"enter the number2:\"))\n",
    "add=number1+number2\n",
    "print(add)\n"
   ]
  },
  {
   "cell_type": "code",
   "execution_count": 19,
   "id": "6f2a8a91-0ec5-4b0a-88da-549daf7720f2",
   "metadata": {},
   "outputs": [
    {
     "name": "stdout",
     "output_type": "stream",
     "text": [
      " The addition of 5 and 178 is 320\n"
     ]
    }
   ],
   "source": [
    "# we can take the numbers randomly also\n",
    "import random\n",
    "number1=random.randint(1,100)\n",
    "number2=random.randint(100,200)\n",
    "print(f\" The addition of {number1} and {number2} is {add}\")\n"
   ]
  },
  {
   "cell_type": "markdown",
   "id": "47e35313-dd6f-4fed-9e8d-533377815001",
   "metadata": {},
   "source": [
    "**how we pass the numbers**\n",
    "\n",
    "- hard codings\n",
    "\n",
    "- using keyboard\n",
    "\n",
    "- using random package, taking numbers randomly"
   ]
  },
  {
   "cell_type": "code",
   "execution_count": null,
   "id": "66b4e3fa-2e6a-45f0-a9df-082597ef4410",
   "metadata": {},
   "outputs": [],
   "source": [
    "number1=10\n",
    "number2=20\n",
    "add=number1+number2\n",
    "print(add)\n",
    "\n",
    "\n",
    "##############################################################\n",
    "\n",
    "number1=eval(input(\"enter the number1:\"))\n",
    "number2=eval(input(\"enter the number2:\"))\n",
    "add=number1+number2\n",
    "print(add)\n",
    "\n",
    "##############################################################\n",
    "\n",
    "import random\n",
    "number1=random.randint(1,100)\n",
    "number2=random.randint(100,200)\n",
    "print(f\" The addition of {number1} and {number2} is {add}\")\n"
   ]
  },
  {
   "cell_type": "code",
   "execution_count": 21,
   "id": "1cdd0a9f-abd5-4578-ae09-c599fa65dae9",
   "metadata": {},
   "outputs": [
    {
     "name": "stdin",
     "output_type": "stream",
     "text": [
      "Enter the n2: 30\n"
     ]
    },
    {
     "name": "stdout",
     "output_type": "stream",
     "text": [
      "The average of 10,30 and 39 is : 26.333333333333332\n"
     ]
    }
   ],
   "source": [
    "n1=10\n",
    "n2=eval(input(\"Enter the n2:\"))\n",
    "n3=random.randint(1,100)\n",
    "avg=(n1+n2+n3)/3\n",
    "print(f\"The average of {n1},{n2} and {n3} is : {avg}\")"
   ]
  },
  {
   "cell_type": "code",
   "execution_count": null,
   "id": "bb2d0a7c-451f-4d15-be19-b501260d6dc2",
   "metadata": {},
   "outputs": [],
   "source": [
    "# in the entire notebook\n",
    "# if you import packages\n",
    "# no need to import the "
   ]
  },
  {
   "cell_type": "code",
   "execution_count": null,
   "id": "64847bb2-615e-4343-bf21-6ec6bd906af1",
   "metadata": {},
   "outputs": [],
   "source": [
    "# assignment-2\n",
    "# assignment-1 qns only but\n",
    "# you need to take a random values every\n",
    "\n",
    "\n",
    "# 11 the print statement using "
   ]
  },
  {
   "cell_type": "markdown",
   "id": "1d7518de-e2b0-4585-899b-e60583273847",
   "metadata": {},
   "source": [
    "**Round**"
   ]
  },
  {
   "cell_type": "code",
   "execution_count": 24,
   "id": "beddc3c3-bc03-4681-b51c-4a06ad303746",
   "metadata": {},
   "outputs": [
    {
     "data": {
      "text/plain": [
       "26"
      ]
     },
     "execution_count": 24,
     "metadata": {},
     "output_type": "execute_result"
    }
   ],
   "source": [
    "avg=26.3333333334\n",
    "round(avg)"
   ]
  },
  {
   "cell_type": "code",
   "execution_count": 25,
   "id": "5332f5eb-4b67-48d3-b372-9f3d980d1f4e",
   "metadata": {},
   "outputs": [
    {
     "data": {
      "text/plain": [
       "26.333"
      ]
     },
     "execution_count": 25,
     "metadata": {},
     "output_type": "execute_result"
    }
   ],
   "source": [
    "avg=26.3333333334\n",
    "round(avg,3)"
   ]
  },
  {
   "cell_type": "code",
   "execution_count": null,
   "id": "4cb49b52-0031-4faf-b049-038052fbb0c7",
   "metadata": {},
   "outputs": [],
   "source": []
  }
 ],
 "metadata": {
  "kernelspec": {
   "display_name": "Python 3 (ipykernel)",
   "language": "python",
   "name": "python3"
  },
  "language_info": {
   "codemirror_mode": {
    "name": "ipython",
    "version": 3
   },
   "file_extension": ".py",
   "mimetype": "text/x-python",
   "name": "python",
   "nbconvert_exporter": "python",
   "pygments_lexer": "ipython3",
   "version": "3.11.7"
  }
 },
 "nbformat": 4,
 "nbformat_minor": 5
}
