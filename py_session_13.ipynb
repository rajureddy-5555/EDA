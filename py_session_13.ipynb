{
 "cells": [
  {
   "cell_type": "code",
   "execution_count": null,
   "id": "93ff3edd-5d50-44e4-9619-49f17377b203",
   "metadata": {},
   "outputs": [],
   "source": [
    "########## python divided 3 parts\n",
    "\n",
    "-----------------------------basics\n",
    "1.variables\n",
    "2.data types\n",
    "3.type conversions\n",
    "4.evel input\n",
    "5.packages\n",
    "6.try except\n",
    "7.conditional statements\n",
    "8.functions\n",
    "9.for\n",
    "10.while\n",
    "---------------------------intermediate\n",
    "11.strings\n",
    "12.lists\n",
    "13.dictionary\n",
    "14.tuples(you will do this)\n",
    "15.sets\n",
    "16.lamda functions\n",
    "17.file handling\n",
    "-------------------------advanced\n",
    "18.oops\n"
   ]
  },
  {
   "cell_type": "markdown",
   "id": "d9fa2084-7f3a-4572-a086-3d97ad1fe37a",
   "metadata": {},
   "source": [
    "--------------------------------part-1-------------------------\n",
    "\n",
    "- initialisation\n",
    "- type\n",
    "- len\n",
    "- max\n",
    "- min\n",
    "- sorted\n",
    "- reversed\n",
    "- in\n",
    "- for loop using in\n",
    "- index\n",
    "- for loop using index\n",
    "- mutable\n",
    "- concatenation\n",
    "\n",
    "------------------------------part-2--------------------------\n",
    "\n",
    "# methods"
   ]
  },
  {
   "cell_type": "markdown",
   "id": "500a0122-f217-4012-826b-77bd32dc6adc",
   "metadata": {},
   "source": [
    "**Initialisation**"
   ]
  },
  {
   "cell_type": "code",
   "execution_count": 1,
   "id": "928a8c57-9640-4e34-83e8-37874d3a08bd",
   "metadata": {},
   "outputs": [
    {
     "data": {
      "text/plain": [
       "'python'"
      ]
     },
     "execution_count": 1,
     "metadata": {},
     "output_type": "execute_result"
    }
   ],
   "source": [
    "str1='python'\n",
    "str1"
   ]
  },
  {
   "cell_type": "code",
   "execution_count": 2,
   "id": "1de666e9-d506-4049-b0d7-facaf9ca4e0c",
   "metadata": {},
   "outputs": [
    {
     "data": {
      "text/plain": [
       "'python'"
      ]
     },
     "execution_count": 2,
     "metadata": {},
     "output_type": "execute_result"
    }
   ],
   "source": [
    "str2=\"python\"\n",
    "str2"
   ]
  },
  {
   "cell_type": "code",
   "execution_count": 3,
   "id": "97b4b09d-4b0d-4477-a5af-d04eebf3df21",
   "metadata": {},
   "outputs": [
    {
     "name": "stdout",
     "output_type": "stream",
     "text": [
      "python\n"
     ]
    }
   ],
   "source": [
    "print(str1)       # do not confuse im not setting the quotes"
   ]
  },
  {
   "cell_type": "markdown",
   "id": "4d31c0c6-2015-44a5-9b75-8719d7d39704",
   "metadata": {},
   "source": [
    "**Note**\n",
    "\n",
    "- if we mentioned single or double quotes by default python provides in single quotes only.\n",
    "\n",
    "- if we print the strings we will answer without quotes\n",
    "\n",
    "- tripple quote are using for doc string\n",
    "\n",
    "- in order to convey the information about coding part we will use doc \n",
    "\n",
    "- ant thing insidde the single or double quotes is considered as string in pyton\n"
   ]
  },
  {
   "cell_type": "markdown",
   "id": "93097580-e398-4bdc-b335-6959f35aa8c4",
   "metadata": {},
   "source": [
    "**Tripple quotes**"
   ]
  },
  {
   "cell_type": "code",
   "execution_count": 4,
   "id": "ea9c62c0-b0ca-41e9-a318-6c96c1ea724b",
   "metadata": {},
   "outputs": [
    {
     "data": {
      "text/plain": [
       "'hi how are you\\n              im good'"
      ]
     },
     "execution_count": 4,
     "metadata": {},
     "output_type": "execute_result"
    }
   ],
   "source": [
    "str3=\"\"\"hi how are you\n",
    "              im good\"\"\"\n",
    "str3"
   ]
  },
  {
   "cell_type": "markdown",
   "id": "6427c9c3-e265-4f54-815c-fa6cde2c27ff",
   "metadata": {},
   "source": [
    "**Type**"
   ]
  },
  {
   "cell_type": "code",
   "execution_count": 5,
   "id": "c5d0ec6a-5910-45aa-a937-181e477e5638",
   "metadata": {},
   "outputs": [
    {
     "data": {
      "text/plain": [
       "str"
      ]
     },
     "execution_count": 5,
     "metadata": {},
     "output_type": "execute_result"
    }
   ],
   "source": [
    "type(str1)    # type is string time"
   ]
  },
  {
   "cell_type": "code",
   "execution_count": 8,
   "id": "b90a5e5c-d160-49b4-8d4b-943b258e73ac",
   "metadata": {},
   "outputs": [
    {
     "data": {
      "text/plain": [
       "'True'"
      ]
     },
     "execution_count": 8,
     "metadata": {},
     "output_type": "execute_result"
    }
   ],
   "source": [
    "str4='10'          # integer value in the form of string\n",
    "str5='10.5'        # float  value in the form of string\n",
    "str6='123abc'       # integer and string values in the form of string\n",
    "str7='True'         # boolean value in the form of string\n",
    "str4\n",
    "str5\n",
    "str6\n",
    "str7"
   ]
  },
  {
   "cell_type": "markdown",
   "id": "8b7836b6-0852-4397-a401-ba073b1f629a",
   "metadata": {},
   "source": [
    "**Len**"
   ]
  },
  {
   "cell_type": "code",
   "execution_count": 11,
   "id": "6c45bc1d-45d0-4015-9eb6-248c120e8c52",
   "metadata": {},
   "outputs": [
    {
     "data": {
      "text/plain": [
       "5"
      ]
     },
     "execution_count": 11,
     "metadata": {},
     "output_type": "execute_result"
    }
   ],
   "source": [
    "str1='python'\n",
    "len(str1)"
   ]
  },
  {
   "cell_type": "markdown",
   "id": "27fd3917-9345-4387-9a2a-8541ee4ebadc",
   "metadata": {},
   "source": [
    "**Max and Min**"
   ]
  },
  {
   "cell_type": "code",
   "execution_count": 12,
   "id": "24ffd21c-85bf-4227-a421-a0aba871ad6b",
   "metadata": {},
   "outputs": [
    {
     "data": {
      "text/plain": [
       "'y'"
      ]
     },
     "execution_count": 12,
     "metadata": {},
     "output_type": "execute_result"
    }
   ],
   "source": [
    "str1='python'\n",
    "max(str1)"
   ]
  },
  {
   "cell_type": "code",
   "execution_count": 13,
   "id": "6fac0f0c-d320-4fb8-9195-4e9073b4b0a3",
   "metadata": {},
   "outputs": [
    {
     "data": {
      "text/plain": [
       "(112, 121, 116, 104, 111, 110)"
      ]
     },
     "execution_count": 13,
     "metadata": {},
     "output_type": "execute_result"
    }
   ],
   "source": [
    "ord('p'),ord('y'),ord('t'),ord('h'),ord('o'),ord('n')"
   ]
  },
  {
   "cell_type": "code",
   "execution_count": 14,
   "id": "d221590b-aa1d-4381-863e-406cafc77405",
   "metadata": {},
   "outputs": [
    {
     "data": {
      "text/plain": [
       "'h'"
      ]
     },
     "execution_count": 14,
     "metadata": {},
     "output_type": "execute_result"
    }
   ],
   "source": [
    "str1='python'\n",
    "min(str1)"
   ]
  },
  {
   "cell_type": "markdown",
   "id": "f663dbe6-9d4f-419f-be75-57e49c79ff2b",
   "metadata": {},
   "source": [
    "**Keywords Vs Methods**"
   ]
  },
  {
   "cell_type": "code",
   "execution_count": 15,
   "id": "15ef0078-44fd-4981-8b0b-6a0dcf2f1349",
   "metadata": {},
   "outputs": [
    {
     "ename": "SyntaxError",
     "evalue": "invalid syntax (3915962179.py, line 1)",
     "output_type": "error",
     "traceback": [
      "\u001b[1;36m  Cell \u001b[1;32mIn[15], line 1\u001b[1;36m\u001b[0m\n\u001b[1;33m    type(<>)\u001b[0m\n\u001b[1;37m         ^\u001b[0m\n\u001b[1;31mSyntaxError\u001b[0m\u001b[1;31m:\u001b[0m invalid syntax\n"
     ]
    }
   ],
   "source": [
    "type(<>)\n",
    "print(<>)\n",
    "len(<>)\n",
    "max(<>)\n",
    "min(<>)\n",
    "eval(<>)\n",
    "input(<>)\n",
    "sum(<>)"
   ]
  },
  {
   "cell_type": "code",
   "execution_count": 17,
   "id": "fa632fb6-0bab-42d9-8500-f01bea28d6de",
   "metadata": {},
   "outputs": [],
   "source": [
    "- in order to use methods we need to call package\n",
    "\n",
    "import random\n",
    "random.randint()\n",
    "\n",
    "\n",
    "import math\n",
    "math.sqrt()\n",
    "\n",
    "\n",
    "import time\n",
    "time.sleep()"
   ]
  },
  {
   "cell_type": "code",
   "execution_count": 20,
   "id": "928c584c-2fbe-40c0-9612-7c02bf3f80dd",
   "metadata": {},
   "outputs": [
    {
     "data": {
      "text/plain": [
       "'python123'"
      ]
     },
     "execution_count": 20,
     "metadata": {},
     "output_type": "execute_result"
    }
   ],
   "source": [
    "str1='python123'\n",
    "(str1)"
   ]
  },
  {
   "cell_type": "code",
   "execution_count": 19,
   "id": "fb9dd22e-d5e1-4980-adeb-9c0c721fa9b9",
   "metadata": {},
   "outputs": [
    {
     "ename": "TypeError",
     "evalue": "unsupported operand type(s) for +: 'int' and 'str'",
     "output_type": "error",
     "traceback": [
      "\u001b[1;31m---------------------------------------------------------------------------\u001b[0m",
      "\u001b[1;31mTypeError\u001b[0m                                 Traceback (most recent call last)",
      "Cell \u001b[1;32mIn[19], line 2\u001b[0m\n\u001b[0;32m      1\u001b[0m str1\u001b[38;5;241m=\u001b[39m\u001b[38;5;124m'\u001b[39m\u001b[38;5;124mpython123\u001b[39m\u001b[38;5;124m'\u001b[39m\n\u001b[1;32m----> 2\u001b[0m \u001b[38;5;28msum\u001b[39m(str1)\n",
      "\u001b[1;31mTypeError\u001b[0m: unsupported operand type(s) for +: 'int' and 'str'"
     ]
    }
   ],
   "source": [
    "str1='python123'\n",
    "sum(str1)       # we can't add strings and integer"
   ]
  },
  {
   "cell_type": "code",
   "execution_count": 22,
   "id": "93cf8f79-73ad-4e14-923b-31cc709475f7",
   "metadata": {},
   "outputs": [
    {
     "data": {
      "text/plain": [
       "55"
      ]
     },
     "execution_count": 22,
     "metadata": {},
     "output_type": "execute_result"
    }
   ],
   "source": [
    "sum([1,2,3,4,5,6,7,8,9,10])"
   ]
  },
  {
   "cell_type": "markdown",
   "id": "c2b5872e-6e98-4ca8-b774-beae8058b2cd",
   "metadata": {},
   "source": [
    "**Sorted**"
   ]
  },
  {
   "cell_type": "code",
   "execution_count": null,
   "id": "d06e6933-3ecc-49ab-8c32-60fa1608bcd4",
   "metadata": {},
   "outputs": [],
   "source": [
    "len('python')\n",
    "min('python')\n",
    "max('python')\n",
    "print('python')"
   ]
  },
  {
   "cell_type": "code",
   "execution_count": 23,
   "id": "d3dc8fe3-3cff-4baf-8467-a33bd3f95e5f",
   "metadata": {},
   "outputs": [
    {
     "data": {
      "text/plain": [
       "['h', 'n', 'o', 'p', 't', 'y']"
      ]
     },
     "execution_count": 23,
     "metadata": {},
     "output_type": "execute_result"
    }
   ],
   "source": [
    "sorted('python')"
   ]
  },
  {
   "cell_type": "markdown",
   "id": "d123d3f4-e5e1-4ce5-a820-0cf4c530d8c8",
   "metadata": {},
   "source": [
    "- sorted gives ascending order based on ASCII numbers\n",
    "\n",
    "- sorted is kind of a function\n",
    "\n",
    "- every function we have arguments\n",
    "\n",
    "- In that one default argument is **reverse=False**\n",
    "\n",
    "- By default sorted output gives **ascending order**\n",
    "\n",
    "- we can change the order,by providing **reverse=true**\n",
    "\n",
    "- **If we do not mention, it will give the default answer**"
   ]
  },
  {
   "cell_type": "code",
   "execution_count": 44,
   "id": "60a55506-0cf5-4e19-93bc-2e3f93f2cf99",
   "metadata": {},
   "outputs": [
    {
     "data": {
      "text/plain": [
       "['h', 'n', 'o', 'p', 't', 'y']"
      ]
     },
     "execution_count": 44,
     "metadata": {},
     "output_type": "execute_result"
    }
   ],
   "source": [
    "sorted('python')"
   ]
  },
  {
   "cell_type": "code",
   "execution_count": 45,
   "id": "f9537cc2-0ee8-4011-9eab-2dcc4adc7775",
   "metadata": {},
   "outputs": [
    {
     "data": {
      "text/plain": [
       "['y', 't', 'p', 'o', 'n', 'h']"
      ]
     },
     "execution_count": 45,
     "metadata": {},
     "output_type": "execute_result"
    }
   ],
   "source": [
    "sorted('python',reverse=True)"
   ]
  },
  {
   "cell_type": "markdown",
   "id": "5b04b557-f419-4a0e-bbfc-b7b81d9faf12",
   "metadata": {},
   "source": [
    "**Complex**"
   ]
  },
  {
   "cell_type": "code",
   "execution_count": 32,
   "id": "e772ad95-3e16-481d-ae6e-8807d02273a5",
   "metadata": {},
   "outputs": [
    {
     "data": {
      "text/plain": [
       "(10+20j)"
      ]
     },
     "execution_count": 32,
     "metadata": {},
     "output_type": "execute_result"
    }
   ],
   "source": [
    "complex(10,20)        # 0+0j"
   ]
  },
  {
   "cell_type": "code",
   "execution_count": 5,
   "id": "95d5a0df-40be-4e10-b541-370262c7a214",
   "metadata": {},
   "outputs": [
    {
     "data": {
      "text/plain": [
       "(10+30j)"
      ]
     },
     "execution_count": 5,
     "metadata": {},
     "output_type": "execute_result"
    }
   ],
   "source": [
    "complex(real=10,imag=30)         # real and imaginary values"
   ]
  },
  {
   "cell_type": "code",
   "execution_count": 33,
   "id": "e7993c7d-6378-4325-aeeb-540cfab3e5f4",
   "metadata": {},
   "outputs": [
    {
     "ename": "TypeError",
     "evalue": "Random.randint() missing 2 required positional arguments: 'a' and 'b'",
     "output_type": "error",
     "traceback": [
      "\u001b[1;31m---------------------------------------------------------------------------\u001b[0m",
      "\u001b[1;31mTypeError\u001b[0m                                 Traceback (most recent call last)",
      "Cell \u001b[1;32mIn[33], line 2\u001b[0m\n\u001b[0;32m      1\u001b[0m \u001b[38;5;28;01mimport\u001b[39;00m \u001b[38;5;21;01mrandom\u001b[39;00m\n\u001b[1;32m----> 2\u001b[0m random\u001b[38;5;241m.\u001b[39mrandint()\n",
      "\u001b[1;31mTypeError\u001b[0m: Random.randint() missing 2 required positional arguments: 'a' and 'b'"
     ]
    }
   ],
   "source": [
    "import random\n",
    "random.randint()"
   ]
  },
  {
   "cell_type": "code",
   "execution_count": 4,
   "id": "a8383763-3f29-4315-974f-491044df708a",
   "metadata": {},
   "outputs": [
    {
     "ename": "NameError",
     "evalue": "name 'function' is not defined",
     "output_type": "error",
     "traceback": [
      "\u001b[1;31m---------------------------------------------------------------------------\u001b[0m",
      "\u001b[1;31mNameError\u001b[0m                                 Traceback (most recent call last)",
      "Cell \u001b[1;32mIn[4], line 1\u001b[0m\n\u001b[1;32m----> 1\u001b[0m function()  \u001b[38;5;66;03m# Answer\u001b[39;00m\n\u001b[0;32m      2\u001b[0m funtion(a,b)   \u001b[38;5;66;03m# this may return error\u001b[39;00m\n\u001b[0;32m      3\u001b[0m funtion(a\u001b[38;5;241m=\u001b[39m\u001b[38;5;241m10\u001b[39m,b\u001b[38;5;241m=\u001b[39m\u001b[38;5;241m10\u001b[39m)\n",
      "\u001b[1;31mNameError\u001b[0m: name 'function' is not defined"
     ]
    }
   ],
   "source": [
    "function()  # Answer\n",
    "funtion(a,b)   # this may return error\n",
    "funtion(a=10,b=10)"
   ]
  },
  {
   "cell_type": "code",
   "execution_count": 3,
   "id": "46a0f02a-9aa9-4b8e-a212-963afef7d0cf",
   "metadata": {},
   "outputs": [
    {
     "ename": "NameError",
     "evalue": "name 'function' is not defined",
     "output_type": "error",
     "traceback": [
      "\u001b[1;31m---------------------------------------------------------------------------\u001b[0m",
      "\u001b[1;31mNameError\u001b[0m                                 Traceback (most recent call last)",
      "Cell \u001b[1;32mIn[3], line 1\u001b[0m\n\u001b[1;32m----> 1\u001b[0m function() \n\u001b[0;32m      2\u001b[0m funtion(a,b)  \n\u001b[0;32m      3\u001b[0m funtion(a\u001b[38;5;241m=\u001b[39m\u001b[38;5;241m10\u001b[39m,b\u001b[38;5;241m=\u001b[39m\u001b[38;5;241m10\u001b[39m)\n",
      "\u001b[1;31mNameError\u001b[0m: name 'function' is not defined"
     ]
    }
   ],
   "source": [
    "function() \n",
    "funtion(a,b)  \n",
    "funtion(a=10,b=10)"
   ]
  },
  {
   "cell_type": "code",
   "execution_count": 37,
   "id": "e4b1930a-91ff-4557-ab43-5c692f1e7113",
   "metadata": {},
   "outputs": [
    {
     "data": {
      "text/plain": [
       "0.5578836547703225"
      ]
     },
     "execution_count": 37,
     "metadata": {},
     "output_type": "execute_result"
    }
   ],
   "source": [
    "import random\n",
    "random.random()       ##########"
   ]
  },
  {
   "cell_type": "code",
   "execution_count": 35,
   "id": "b8987055-89e2-4f71-b0d7-be82bd51d5cf",
   "metadata": {},
   "outputs": [
    {
     "data": {
      "text/plain": [
       "19"
      ]
     },
     "execution_count": 35,
     "metadata": {},
     "output_type": "execute_result"
    }
   ],
   "source": [
    "import random\n",
    "random.randint(10,20)    # Answer we can change"
   ]
  },
  {
   "cell_type": "code",
   "execution_count": 40,
   "id": "5bea625a-0c14-483d-9c3b-ced0dc5db65e",
   "metadata": {},
   "outputs": [
    {
     "data": {
      "text/plain": [
       "0j"
      ]
     },
     "execution_count": 40,
     "metadata": {},
     "output_type": "execute_result"
    }
   ],
   "source": [
    "complex()    # by default 0,0"
   ]
  },
  {
   "cell_type": "code",
   "execution_count": 39,
   "id": "72a58c69-8f22-42d7-af2b-a57ed69f42e0",
   "metadata": {},
   "outputs": [
    {
     "data": {
      "text/plain": [
       "(10+20j)"
      ]
     },
     "execution_count": 39,
     "metadata": {},
     "output_type": "execute_result"
    }
   ],
   "source": [
    "complex(10,20)"
   ]
  },
  {
   "cell_type": "code",
   "execution_count": 2,
   "id": "0c6a03d4-bfa5-4f82-b381-c74c76849bc9",
   "metadata": {},
   "outputs": [
    {
     "ename": "TypeError",
     "evalue": "sorted expected 1 argument, got 0",
     "output_type": "error",
     "traceback": [
      "\u001b[1;31m---------------------------------------------------------------------------\u001b[0m",
      "\u001b[1;31mTypeError\u001b[0m                                 Traceback (most recent call last)",
      "Cell \u001b[1;32mIn[2], line 1\u001b[0m\n\u001b[1;32m----> 1\u001b[0m \u001b[38;5;28msorted\u001b[39m(iterable\u001b[38;5;241m=\u001b[39m\u001b[38;5;124m'\u001b[39m\u001b[38;5;124mpython\u001b[39m\u001b[38;5;124m'\u001b[39m)   \u001b[38;5;66;03m# error  \u001b[39;00m\n\u001b[0;32m      2\u001b[0m random\u001b[38;5;241m.\u001b[39mrandint(a\u001b[38;5;241m=\u001b[39m\u001b[38;5;241m10\u001b[39m,b\u001b[38;5;241m=\u001b[39m\u001b[38;5;241m20\u001b[39m)\n",
      "\u001b[1;31mTypeError\u001b[0m: sorted expected 1 argument, got 0"
     ]
    }
   ],
   "source": [
    "sorted(iterable='python')   # error  \n",
    "random.randint(a=10,b=20)   # answer"
   ]
  },
  {
   "cell_type": "code",
   "execution_count": 1,
   "id": "415cfcf3-861a-403c-b266-e9f7e26abae3",
   "metadata": {},
   "outputs": [
    {
     "data": {
      "text/plain": [
       "['y', 't', 'p', 'o', 'n', 'h']"
      ]
     },
     "execution_count": 1,
     "metadata": {},
     "output_type": "execute_result"
    }
   ],
   "source": [
    "sorted('python')   # Answer\n",
    "sorted('python',reverse=True)   "
   ]
  },
  {
   "cell_type": "markdown",
   "id": "7b95d996-b4c9-4c79-aac7-fb748f33c803",
   "metadata": {},
   "source": [
    "**Note**\n",
    "\n",
    "- we have arguments before / and after slash\n",
    "\n",
    "- we can use the argument names after / only\n",
    "\n",
    "- for example sorted has two arguments one is iterable and another is reverse\n",
    "\n",
    "- iterable is mentioned before / symbol\n",
    "\n",
    "- reverse is mentioned after / symbol\n",
    "\n",
    "- so we can use only reverse argument name while we are doing the work\n",
    "\n",
    "- we can not use iterable argument name\n",
    "\n",
    "- instead of using iterable name, we can provide direct value at that position"
   ]
  },
  {
   "cell_type": "code",
   "execution_count": 47,
   "id": "16cc4e8b-243d-4215-a14b-86e1823d8802",
   "metadata": {},
   "outputs": [],
   "source": [
    "type()\n",
    "len()\n",
    "min()\n",
    "max()\n",
    "print()\n",
    "sorted()"
   ]
  },
  {
   "cell_type": "code",
   "execution_count": 6,
   "id": "697964e9-83fd-4c2f-90a4-8518403b15d2",
   "metadata": {},
   "outputs": [
    {
     "ename": "SyntaxError",
     "evalue": "invalid syntax (2983687664.py, line 1)",
     "output_type": "error",
     "traceback": [
      "\u001b[1;36m  Cell \u001b[1;32mIn[6], line 1\u001b[1;36m\u001b[0m\n\u001b[1;33m    if=10\u001b[0m\n\u001b[1;37m      ^\u001b[0m\n\u001b[1;31mSyntaxError\u001b[0m\u001b[1;31m:\u001b[0m invalid syntax\n"
     ]
    }
   ],
   "source": [
    "if=10\n",
    "if"
   ]
  },
  {
   "cell_type": "code",
   "execution_count": 48,
   "id": "3e3321cb-cc16-4a28-95ac-800b2b1985b1",
   "metadata": {},
   "outputs": [
    {
     "data": {
      "text/plain": [
       "<reversed at 0x20d03c17d30>"
      ]
     },
     "execution_count": 48,
     "metadata": {},
     "output_type": "execute_result"
    }
   ],
   "source": [
    "reversed('python')"
   ]
  },
  {
   "cell_type": "markdown",
   "id": "72f3bb1e-2577-4f9c-bc5b-590c712ca408",
   "metadata": {},
   "source": [
    "- I already done my work \n",
    "- your output was started in the memory location\n",
    "- whenever you see this kind of answer less than an greater then symbol of memory\n",
    "- use for loop to see the answer"
   ]
  },
  {
   "cell_type": "code",
   "execution_count": 50,
   "id": "fce6d704-59af-4e4b-94fa-db2cd0319ba9",
   "metadata": {},
   "outputs": [
    {
     "name": "stdout",
     "output_type": "stream",
     "text": [
      "n\n",
      "o\n",
      "h\n",
      "t\n",
      "y\n",
      "p\n"
     ]
    }
   ],
   "source": [
    "str1='python'\n",
    "output=reversed(str1)\n",
    "for i in output:\n",
    "    print(i)\n"
   ]
  },
  {
   "cell_type": "code",
   "execution_count": 7,
   "id": "d6ddc54a-9630-4177-8f86-882e40508ff1",
   "metadata": {},
   "outputs": [
    {
     "data": {
      "text/plain": [
       "['a', 'e', 'h', 'n', 'r', 's']"
      ]
     },
     "execution_count": 7,
     "metadata": {},
     "output_type": "execute_result"
    }
   ],
   "source": [
    "sorted('naresh')"
   ]
  },
  {
   "cell_type": "code",
   "execution_count": 2,
   "id": "baa6b40c-f172-4900-9ec5-718f74cf84ec",
   "metadata": {},
   "outputs": [
    {
     "data": {
      "text/plain": [
       "['s', 'r', 'n', 'h', 'e', 'a']"
      ]
     },
     "execution_count": 2,
     "metadata": {},
     "output_type": "execute_result"
    }
   ],
   "source": [
    "l=['a', 'e', 'h', 'n', 'r', 's']\n",
    "l.reverse()\n",
    "l"
   ]
  },
  {
   "cell_type": "code",
   "execution_count": 13,
   "id": "49cbf2b6-a4aa-4568-9fee-d3fc1d164471",
   "metadata": {},
   "outputs": [
    {
     "data": {
      "text/plain": [
       "['s', 'r', 'n', 'h', 'e', 'a']"
      ]
     },
     "execution_count": 13,
     "metadata": {},
     "output_type": "execute_result"
    }
   ],
   "source": [
    "sorted('naresh',reverse=True)"
   ]
  },
  {
   "cell_type": "code",
   "execution_count": 4,
   "id": "f7a228f7-65d9-423c-a867-2f5f476cf937",
   "metadata": {},
   "outputs": [
    {
     "data": {
      "text/plain": [
       "['h', 's', 'e', 'r', 'a', 'n']"
      ]
     },
     "execution_count": 4,
     "metadata": {},
     "output_type": "execute_result"
    }
   ],
   "source": [
    "a=list(reversed('naresh'))\n",
    "a"
   ]
  },
  {
   "cell_type": "code",
   "execution_count": 19,
   "id": "7b87a6e7-a203-4d3a-8d2b-1136ce0de665",
   "metadata": {},
   "outputs": [
    {
     "name": "stdout",
     "output_type": "stream",
     "text": [
      "h\n",
      "s\n",
      "e\n",
      "r\n",
      "a\n",
      "n\n"
     ]
    }
   ],
   "source": [
    "for i in reversed('naresh'):\n",
    "    print(i)\n"
   ]
  },
  {
   "cell_type": "code",
   "execution_count": 21,
   "id": "22d2fed5-85fd-4cf6-adba-c01901b43782",
   "metadata": {},
   "outputs": [
    {
     "data": {
      "text/plain": [
       "[1, 2, 10, 20, 30, 50, 150, 300]"
      ]
     },
     "execution_count": 21,
     "metadata": {},
     "output_type": "execute_result"
    }
   ],
   "source": [
    "sorted([1,10,2,20,300,50,150,30])\n"
   ]
  },
  {
   "cell_type": "code",
   "execution_count": 22,
   "id": "ad199897-395b-4d12-9802-f8eb17c12164",
   "metadata": {},
   "outputs": [
    {
     "data": {
      "text/plain": [
       "[300, 150, 50, 30, 20, 10, 2, 1]"
      ]
     },
     "execution_count": 22,
     "metadata": {},
     "output_type": "execute_result"
    }
   ],
   "source": [
    "sorted([1,10,2,20,300,50,150,30],reverse=True)"
   ]
  },
  {
   "cell_type": "markdown",
   "id": "43f14a54-64ba-465c-89fd-c9b5c0198564",
   "metadata": {},
   "source": [
    "**In**"
   ]
  },
  {
   "cell_type": "code",
   "execution_count": 24,
   "id": "64c15830-9752-438c-8725-83ea1fb60a8a",
   "metadata": {},
   "outputs": [
    {
     "name": "stdout",
     "output_type": "stream",
     "text": [
      "n\n",
      "a\n",
      "r\n",
      "e\n",
      "s\n",
      "h\n"
     ]
    }
   ],
   "source": [
    "str1=('naresh')\n",
    "for i in str1:\n",
    "    print(i)"
   ]
  },
  {
   "cell_type": "markdown",
   "id": "2528e1ed-1b5c-4506-b850-a0bd3172e464",
   "metadata": {},
   "source": [
    "**Note**\n",
    "\n",
    "- In operator diirectly access the letters"
   ]
  },
  {
   "cell_type": "code",
   "execution_count": 34,
   "id": "be7a9244-e7a0-4f53-a75a-f464eb79825a",
   "metadata": {},
   "outputs": [
    {
     "name": "stdout",
     "output_type": "stream",
     "text": [
      "3\n"
     ]
    }
   ],
   "source": [
    "# Q1). wap ask thr user count hou many 'a' are present in a \n",
    "# str1=\"hai naresh how are you\"\n",
    "\n",
    "# idea: counter wrapper\n",
    "# step-1: count=0\n",
    "# step-2: using for loop in operator iterate through given string\n",
    "# step-3: apply the if condition , whenever the letter equal to 'a'\n",
    "# step-4: count=count+1\n",
    "\n",
    "count=0\n",
    "str1=\"hai naresh how are you\"\n",
    "for i in str1:\n",
    "    if i=='a':\n",
    "        count=count+1\n",
    "print(count)\n",
    "    \n",
    "# step-1: i='h'   if 'h'=='a'     False\n",
    "# step-2: i='a'    if 'a'=='a'    count=0+1=1\n",
    "# step-3: i='i'    if 'i'=='a'   count=1\n",
    "# step-4: "
   ]
  },
  {
   "cell_type": "code",
   "execution_count": 35,
   "id": "f675424f-2198-480d-a169-037976a42f37",
   "metadata": {},
   "outputs": [
    {
     "name": "stdout",
     "output_type": "stream",
     "text": [
      "the count is :  9\n"
     ]
    }
   ],
   "source": [
    "# 2Q). wap ask the find how many wovels are there in a given string\n",
    "# str1=\"hai naresh how are you\"\n",
    "\n",
    "count=0\n",
    "str2=\"hai naresh how are you\"\n",
    "for i in str2:\n",
    "    if i in'aeiou':\n",
    "        count=count+1\n",
    "print(\"the count is : \",count)"
   ]
  },
  {
   "cell_type": "code",
   "execution_count": 36,
   "id": "3854546a-7ba4-4d43-99f0-ad569493ec6b",
   "metadata": {},
   "outputs": [
    {
     "name": "stdout",
     "output_type": "stream",
     "text": [
      "the count is :  9\n"
     ]
    }
   ],
   "source": [
    "count=0\n",
    "str2=\"hai naresh how are you\"\n",
    "for i in str2:\n",
    "    if i==\"a\" or i==\"e\" or i==\"i\" or i==\"o\" or i==\"u\":\n",
    "        count=count+1\n",
    "print(\"the count is : \",count)"
   ]
  },
  {
   "cell_type": "code",
   "execution_count": 21,
   "id": "0c4bac48-7c38-4973-a15e-bfede6079db3",
   "metadata": {},
   "outputs": [
    {
     "name": "stdout",
     "output_type": "stream",
     "text": [
      "5 non repeated vowels are  aieou\n"
     ]
    }
   ],
   "source": [
    "# Q3): home work qn\n",
    "# str1= 'hai naresh how are you\"\n",
    "# repeated vowels\n",
    "# we dont want repeated vowels\n",
    "# count the vowels avoid the repetition : unique vowels\n",
    "\n",
    "\n",
    "# step-1: count=0\n",
    "# step-2: take one or more empty string ex= s2=''\n",
    "# step-3: using for loop in operator iterate through given string\n",
    "# step-4: condition-1: that letter should not available in s2\n",
    "# step-5: condition-2: vowels check condition\n",
    "# step-6:    count=count+1\n",
    "# step-7:        update the s2= s2+<letter>\n",
    "\n",
    "count=0\n",
    "str1='hai naresh how are you'\n",
    "str2=''\n",
    "for i in str1:\n",
    "    if i in 'aeiou' and i not in str2:\n",
    "        count=count+1\n",
    "        str2=str2+i\n",
    "print(count,'non repeated vowels are ',str2)"
   ]
  },
  {
   "cell_type": "markdown",
   "id": "ea30a096-cdb7-4125-b3c7-e3307e28f8e0",
   "metadata": {},
   "source": [
    "**how to update the empty strings**"
   ]
  },
  {
   "cell_type": "code",
   "execution_count": 44,
   "id": "67d1bf75-9b7b-4b82-ae23-930fc28c774a",
   "metadata": {},
   "outputs": [
    {
     "data": {
      "text/plain": [
       "'python'"
      ]
     },
     "execution_count": 44,
     "metadata": {},
     "output_type": "execute_result"
    }
   ],
   "source": [
    "s1='python'\n",
    "s2=''\n",
    "for i in s1:\n",
    "    s2=s2+i     # concatenation\n",
    "    \n",
    "s2"
   ]
  },
  {
   "cell_type": "markdown",
   "id": "10466e41-8888-413b-a201-37c1ed9fe6bd",
   "metadata": {},
   "source": [
    "**Concatenation**"
   ]
  },
  {
   "cell_type": "code",
   "execution_count": 46,
   "id": "41bb3b44-38f0-4df3-872a-232862bd40cd",
   "metadata": {},
   "outputs": [
    {
     "data": {
      "text/plain": [
       "'hello bye'"
      ]
     },
     "execution_count": 46,
     "metadata": {},
     "output_type": "execute_result"
    }
   ],
   "source": [
    "s1='hello '\n",
    "s2='bye'\n",
    "s1+s2\n"
   ]
  },
  {
   "cell_type": "code",
   "execution_count": 52,
   "id": "2f14a3b9-a4e5-4abb-92be-d896d1c85c28",
   "metadata": {},
   "outputs": [
    {
     "data": {
      "text/plain": [
       "'hello bye'"
      ]
     },
     "execution_count": 52,
     "metadata": {},
     "output_type": "execute_result"
    }
   ],
   "source": [
    "s1='hello'\n",
    "s2=' '\n",
    "s3='bye'\n",
    "s4=s1+s2+s3\n",
    "s4"
   ]
  },
  {
   "cell_type": "code",
   "execution_count": 55,
   "id": "93fcddc4-2434-40ac-8a81-41edfcf11066",
   "metadata": {},
   "outputs": [
    {
     "ename": "TypeError",
     "evalue": "can't multiply sequence by non-int of type 'str'",
     "output_type": "error",
     "traceback": [
      "\u001b[1;31m---------------------------------------------------------------------------\u001b[0m",
      "\u001b[1;31mTypeError\u001b[0m                                 Traceback (most recent call last)",
      "Cell \u001b[1;32mIn[55], line 3\u001b[0m\n\u001b[0;32m      1\u001b[0m s1\u001b[38;5;241m=\u001b[39m\u001b[38;5;124m'\u001b[39m\u001b[38;5;124mhello\u001b[39m\u001b[38;5;124m'\u001b[39m\n\u001b[0;32m      2\u001b[0m s2\u001b[38;5;241m=\u001b[39m\u001b[38;5;124m'\u001b[39m\u001b[38;5;124mbye\u001b[39m\u001b[38;5;124m'\u001b[39m\n\u001b[1;32m----> 3\u001b[0m s1\u001b[38;5;241m*\u001b[39ms2\n\u001b[0;32m      4\u001b[0m s1\u001b[38;5;241m/\u001b[39ms2\n\u001b[0;32m      5\u001b[0m s1\u001b[38;5;241m-\u001b[39ms2\n",
      "\u001b[1;31mTypeError\u001b[0m: can't multiply sequence by non-int of type 'str'"
     ]
    }
   ],
   "source": [
    "s1='hello'\n",
    "s2='bye'\n",
    "s1*s2\n",
    "s1/s2\n",
    "s1-s2"
   ]
  },
  {
   "cell_type": "code",
   "execution_count": 56,
   "id": "3c3f2c3f-a73d-434c-81ad-1f331734a058",
   "metadata": {},
   "outputs": [
    {
     "ename": "TypeError",
     "evalue": "unsupported operand type(s) for /: 'str' and 'str'",
     "output_type": "error",
     "traceback": [
      "\u001b[1;31m---------------------------------------------------------------------------\u001b[0m",
      "\u001b[1;31mTypeError\u001b[0m                                 Traceback (most recent call last)",
      "Cell \u001b[1;32mIn[56], line 3\u001b[0m\n\u001b[0;32m      1\u001b[0m s1\u001b[38;5;241m=\u001b[39m\u001b[38;5;124m'\u001b[39m\u001b[38;5;124mhello\u001b[39m\u001b[38;5;124m'\u001b[39m\n\u001b[0;32m      2\u001b[0m s2\u001b[38;5;241m=\u001b[39m\u001b[38;5;124m'\u001b[39m\u001b[38;5;124mbye\u001b[39m\u001b[38;5;124m'\u001b[39m\n\u001b[1;32m----> 3\u001b[0m s1\u001b[38;5;241m/\u001b[39ms2\n",
      "\u001b[1;31mTypeError\u001b[0m: unsupported operand type(s) for /: 'str' and 'str'"
     ]
    }
   ],
   "source": [
    "s1='hello'\n",
    "s2='bye'\n",
    "s1/s2"
   ]
  },
  {
   "cell_type": "code",
   "execution_count": 57,
   "id": "823605ee-c579-4054-b792-e1d92353e4b9",
   "metadata": {},
   "outputs": [
    {
     "ename": "TypeError",
     "evalue": "unsupported operand type(s) for -: 'str' and 'str'",
     "output_type": "error",
     "traceback": [
      "\u001b[1;31m---------------------------------------------------------------------------\u001b[0m",
      "\u001b[1;31mTypeError\u001b[0m                                 Traceback (most recent call last)",
      "Cell \u001b[1;32mIn[57], line 3\u001b[0m\n\u001b[0;32m      1\u001b[0m s1\u001b[38;5;241m=\u001b[39m\u001b[38;5;124m'\u001b[39m\u001b[38;5;124mhello\u001b[39m\u001b[38;5;124m'\u001b[39m\n\u001b[0;32m      2\u001b[0m s2\u001b[38;5;241m=\u001b[39m\u001b[38;5;124m'\u001b[39m\u001b[38;5;124mbye\u001b[39m\u001b[38;5;124m'\u001b[39m\n\u001b[1;32m----> 3\u001b[0m s1\u001b[38;5;241m-\u001b[39ms2\n",
      "\u001b[1;31mTypeError\u001b[0m: unsupported operand type(s) for -: 'str' and 'str'"
     ]
    }
   ],
   "source": [
    "s1='hello'\n",
    "s2='bye'\n",
    "s1-s2"
   ]
  },
  {
   "cell_type": "code",
   "execution_count": 58,
   "id": "a0f5be4d-1ac0-48a2-a7f9-453fb9f59096",
   "metadata": {},
   "outputs": [],
   "source": [
    "# s1*s2  cant multiply sequence by non-int of type 'str'\n",
    "# s1/s2  unsupported operand type(s) for /: 'str' and 'str'\n",
    "# s1-s2  unsupported operand type(s) for -: 'str' and 'str'"
   ]
  },
  {
   "cell_type": "code",
   "execution_count": 60,
   "id": "d65203a7-31d2-47f8-91eb-e6516730475a",
   "metadata": {},
   "outputs": [
    {
     "data": {
      "text/plain": [
       "'hellohello'"
      ]
     },
     "execution_count": 60,
     "metadata": {},
     "output_type": "execute_result"
    }
   ],
   "source": [
    "s1='hello'\n",
    "s2=2\n",
    "s1*s2\n"
   ]
  },
  {
   "cell_type": "markdown",
   "id": "f00099c6-5ef6-428d-b91b-94c62eb433b4",
   "metadata": {},
   "source": [
    "**Index**\n",
    "\n",
    "- Index meaning a number attached to a letter\n",
    "\n",
    "- In python index starts with zero\n",
    "\n",
    "- we have two directions\n",
    "\n",
    "    - positive direction\n",
    "         - positive numbers start with zero\n",
    "\n",
    "    - negative direction\n",
    "         - negative numbers start with -1\n",
    "    \n",
    " "
   ]
  },
  {
   "cell_type": "code",
   "execution_count": null,
   "id": "24f1c8ca-5ae2-441b-bb29-75234c20a6b7",
   "metadata": {},
   "outputs": [],
   "source": [
    "s1='python'\n",
    "-6 -5 -4 -3 -2 -1    ===>negative\n",
    "p   y  t  h  0  n\n",
    "6   5  4  3  2  1    ===>positive"
   ]
  },
  {
   "cell_type": "code",
   "execution_count": 62,
   "id": "b3c7520d-655b-49d5-8fc9-846032178bd3",
   "metadata": {},
   "outputs": [
    {
     "data": {
      "text/plain": [
       "('p', 'y', 't', 'h', 'o', 'n')"
      ]
     },
     "execution_count": 62,
     "metadata": {},
     "output_type": "execute_result"
    }
   ],
   "source": [
    "s1='python'\n",
    "s1[0],s1[1],s1[2],s1[3],s1[4],s1[5]"
   ]
  },
  {
   "cell_type": "code",
   "execution_count": 63,
   "id": "02a9fd29-703f-44dc-853d-9ed1a32cc4c9",
   "metadata": {},
   "outputs": [
    {
     "data": {
      "text/plain": [
       "('n', 'o', 'h', 't', 'y', 'p')"
      ]
     },
     "execution_count": 63,
     "metadata": {},
     "output_type": "execute_result"
    }
   ],
   "source": [
    "s1='python'\n",
    "s1[-1],s1[-2],s1[-3],s1[-4],s1[-5],s1[-6]"
   ]
  },
  {
   "cell_type": "code",
   "execution_count": null,
   "id": "49e50518-3e3c-4060-88a5-27d3da7e19fc",
   "metadata": {},
   "outputs": [],
   "source": []
  }
 ],
 "metadata": {
  "kernelspec": {
   "display_name": "Python 3 (ipykernel)",
   "language": "python",
   "name": "python3"
  },
  "language_info": {
   "codemirror_mode": {
    "name": "ipython",
    "version": 3
   },
   "file_extension": ".py",
   "mimetype": "text/x-python",
   "name": "python",
   "nbconvert_exporter": "python",
   "pygments_lexer": "ipython3",
   "version": "3.11.7"
  }
 },
 "nbformat": 4,
 "nbformat_minor": 5
}
