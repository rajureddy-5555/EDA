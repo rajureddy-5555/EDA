{
 "cells": [
  {
   "cell_type": "code",
   "execution_count": 1,
   "id": "483a975d-9de8-4b02-937a-fa40451ae306",
   "metadata": {},
   "outputs": [],
   "source": [
    "num1=100\n",
    "num2=200\n",
    "add=num1+num2"
   ]
  },
  {
   "cell_type": "markdown",
   "id": "3f060afa-229c-4555-ab6a-ed402a60f064",
   "metadata": {},
   "source": [
    "**input**"
   ]
  },
  {
   "cell_type": "markdown",
   "id": "6827435e-93a2-478a-83fa-07a140fa2e8b",
   "metadata": {},
   "source": [
    "- input keyword is used to take the values from user"
   ]
  },
  {
   "cell_type": "code",
   "execution_count": 3,
   "id": "e819f1da-ce52-4665-bf7d-daa050d15e79",
   "metadata": {},
   "outputs": [
    {
     "name": "stdin",
     "output_type": "stream",
     "text": [
      " 10\n"
     ]
    },
    {
     "data": {
      "text/plain": [
       "'10'"
      ]
     },
     "execution_count": 3,
     "metadata": {},
     "output_type": "execute_result"
    }
   ],
   "source": [
    "input()\n"
   ]
  },
  {
   "cell_type": "code",
   "execution_count": 4,
   "id": "c683315a-1ca5-47c1-8d47-c1eff299a1d0",
   "metadata": {},
   "outputs": [
    {
     "name": "stdin",
     "output_type": "stream",
     "text": [
      "enter the number: 200\n"
     ]
    },
    {
     "data": {
      "text/plain": [
       "'200'"
      ]
     },
     "execution_count": 4,
     "metadata": {},
     "output_type": "execute_result"
    }
   ],
   "source": [
    "input(\"enter the number:\")\n"
   ]
  },
  {
   "cell_type": "code",
   "execution_count": 5,
   "id": "564f1db5-f84c-45ad-9242-5e515c21cdd6",
   "metadata": {},
   "outputs": [
    {
     "name": "stdin",
     "output_type": "stream",
     "text": [
      " 100\n",
      " 150\n"
     ]
    },
    {
     "data": {
      "text/plain": [
       "'150'"
      ]
     },
     "execution_count": 5,
     "metadata": {},
     "output_type": "execute_result"
    }
   ],
   "source": [
    "input()\n",
    "input()"
   ]
  },
  {
   "cell_type": "code",
   "execution_count": 6,
   "id": "a34167d3-af91-424e-80dc-5395257e2fc4",
   "metadata": {},
   "outputs": [
    {
     "name": "stdin",
     "output_type": "stream",
     "text": [
      "enter the number1: 10\n",
      "enter the number2: 20\n",
      "enter the number3: 30\n"
     ]
    },
    {
     "data": {
      "text/plain": [
       "'30'"
      ]
     },
     "execution_count": 6,
     "metadata": {},
     "output_type": "execute_result"
    }
   ],
   "source": [
    "input(\"enter the number1:\")\n",
    "input(\"enter the number2:\")\n",
    "input(\"enter the number3:\")"
   ]
  },
  {
   "cell_type": "code",
   "execution_count": 8,
   "id": "d914ae2f-c843-4a8d-835b-e4d22fcb083d",
   "metadata": {},
   "outputs": [
    {
     "data": {
      "text/plain": [
       "30"
      ]
     },
     "execution_count": 8,
     "metadata": {},
     "output_type": "execute_result"
    }
   ],
   "source": [
    "10\n",
    "20\n",
    "30"
   ]
  },
  {
   "cell_type": "code",
   "execution_count": 9,
   "id": "f5c9ca36-1782-4f29-a87b-23e78c01ecce",
   "metadata": {},
   "outputs": [
    {
     "name": "stdin",
     "output_type": "stream",
     "text": [
      "enter the number1: 100\n",
      "enter the number2: 200\n"
     ]
    }
   ],
   "source": [
    "num1=input(\"enter the number1:\")\n",
    "num2=input(\"enter the number2:\")  "
   ]
  },
  {
   "cell_type": "code",
   "execution_count": 10,
   "id": "4b5fb520-7927-44bd-9cdd-beefb5c7b4d7",
   "metadata": {},
   "outputs": [
    {
     "data": {
      "text/plain": [
       "'100'"
      ]
     },
     "execution_count": 10,
     "metadata": {},
     "output_type": "execute_result"
    }
   ],
   "source": [
    "num1\n"
   ]
  },
  {
   "cell_type": "markdown",
   "id": "63090d5c-799b-4c68-933b-eb18f5c42a67",
   "metadata": {},
   "source": [
    "**NOTE**\n",
    "\n",
    "- input always give the string data type only\n",
    "\n",
    "- in order to perform math calculations we need to convert into numerical format i.e. int or flot"
   ]
  },
  {
   "cell_type": "code",
   "execution_count": 11,
   "id": "41ad3847-3fe7-4251-b0e3-5ea71877511a",
   "metadata": {},
   "outputs": [
    {
     "name": "stdin",
     "output_type": "stream",
     "text": [
      " 100\n"
     ]
    },
    {
     "data": {
      "text/plain": [
       "'100'"
      ]
     },
     "execution_count": 11,
     "metadata": {},
     "output_type": "execute_result"
    }
   ],
   "source": [
    "input()\n",
    "\n"
   ]
  },
  {
   "cell_type": "code",
   "execution_count": 14,
   "id": "f5d5be38-d6e0-4521-ae6c-2094b5b9bf37",
   "metadata": {},
   "outputs": [
    {
     "name": "stdin",
     "output_type": "stream",
     "text": [
      "enter the number: 200\n"
     ]
    },
    {
     "data": {
      "text/plain": [
       "'200'"
      ]
     },
     "execution_count": 14,
     "metadata": {},
     "output_type": "execute_result"
    }
   ],
   "source": [
    "input(\"enter the number:\")"
   ]
  },
  {
   "cell_type": "code",
   "execution_count": 19,
   "id": "7cd4a3b4-1b53-4fec-83ea-c5b823293a23",
   "metadata": {},
   "outputs": [
    {
     "name": "stdin",
     "output_type": "stream",
     "text": [
      "enter the number1: 100\n",
      "enter the number2: 200\n"
     ]
    },
    {
     "name": "stdout",
     "output_type": "stream",
     "text": [
      "the addition of 200 and 100 is: 200100\n"
     ]
    }
   ],
   "source": [
    "num2=input(\"enter the number1:\")  #num1='100'\n",
    "num1=input(\"enter the number2:\")  #num2='100'\n",
    "num1+num2  # '100'+'200'='100200'\n",
    "print(f\"the addition of {num1} and {num2} is: {num1+num2}\")"
   ]
  },
  {
   "cell_type": "code",
   "execution_count": 17,
   "id": "233c589f-bd69-45e9-99cc-a7a8d5fb801f",
   "metadata": {},
   "outputs": [
    {
     "name": "stdin",
     "output_type": "stream",
     "text": [
      "enter the number1: 100\n",
      "enter the number2: 200\n"
     ]
    },
    {
     "data": {
      "text/plain": [
       "300"
      ]
     },
     "execution_count": 17,
     "metadata": {},
     "output_type": "execute_result"
    }
   ],
   "source": [
    "num1=input(\"enter the number1:\")  #num1=int'(100')=100\n",
    "num2=input(\"enter the number2:\")  #num2=int('100')=200\n",
    "int(num1)+int(num2)  # int('100')+int('200')=100+200"
   ]
  },
  {
   "cell_type": "markdown",
   "id": "a0935e74-da09-468d-8886-7302eee87bbc",
   "metadata": {},
   "source": [
    "**EVAL**"
   ]
  },
  {
   "cell_type": "markdown",
   "id": "1369624a-05d6-45e8-990e-b219ebd7c348",
   "metadata": {},
   "source": [
    "$EVAL$\n",
    "\n",
    "- eval means evaluate\n",
    "\n",
    "- what ever the number we enter, eval will convert to corresponding data"
   ]
  },
  {
   "cell_type": "code",
   "execution_count": 30,
   "id": "387f254b-7e34-4a20-b0d6-196bc74d985a",
   "metadata": {},
   "outputs": [
    {
     "name": "stdin",
     "output_type": "stream",
     "text": [
      "enter the number1: 100\n",
      "enter the number2: 200\n"
     ]
    },
    {
     "ename": "TypeError",
     "evalue": "can only concatenate str (not \"int\") to str",
     "output_type": "error",
     "traceback": [
      "\u001b[1;31m---------------------------------------------------------------------------\u001b[0m",
      "\u001b[1;31mTypeError\u001b[0m                                 Traceback (most recent call last)",
      "Cell \u001b[1;32mIn[30], line 3\u001b[0m\n\u001b[0;32m      1\u001b[0m num2\u001b[38;5;241m=\u001b[39m\u001b[38;5;28meval\u001b[39m(\u001b[38;5;28minput\u001b[39m(\u001b[38;5;124m\"\u001b[39m\u001b[38;5;124menter the number1:\u001b[39m\u001b[38;5;124m\"\u001b[39m))  \u001b[38;5;66;03m#num1='100'\u001b[39;00m\n\u001b[0;32m      2\u001b[0m num1\u001b[38;5;241m=\u001b[39m\u001b[38;5;28minput\u001b[39m((\u001b[38;5;124m\"\u001b[39m\u001b[38;5;124menter the number2:\u001b[39m\u001b[38;5;124m\"\u001b[39m))  \u001b[38;5;66;03m#num2='100'\u001b[39;00m\n\u001b[1;32m----> 3\u001b[0m add\u001b[38;5;241m=\u001b[39m(num1\u001b[38;5;241m+\u001b[39mnum2)  \u001b[38;5;66;03m# '100'+'200'='100200'\u001b[39;00m\n\u001b[0;32m      4\u001b[0m \u001b[38;5;28mprint\u001b[39m(\u001b[38;5;124mf\u001b[39m\u001b[38;5;124m\"\u001b[39m\u001b[38;5;124mthe addition of \u001b[39m\u001b[38;5;132;01m{\u001b[39;00mnum1\u001b[38;5;132;01m}\u001b[39;00m\u001b[38;5;124m and \u001b[39m\u001b[38;5;132;01m{\u001b[39;00mnum2\u001b[38;5;132;01m}\u001b[39;00m\u001b[38;5;124m is: \u001b[39m\u001b[38;5;132;01m{\u001b[39;00madd\u001b[38;5;132;01m}\u001b[39;00m\u001b[38;5;124m\"\u001b[39m)\n",
      "\u001b[1;31mTypeError\u001b[0m: can only concatenate str (not \"int\") to str"
     ]
    }
   ],
   "source": [
    "num2=eval(input(\"enter the number1:\"))  #num1='100'\n",
    "num1=input((\"enter the number2:\"))  #num2='100'\n",
    "add=(num1+num2)  # '100'+'200'='100200'\n",
    "print(f\"the addition of {num1} and {num2} is: {add}\")"
   ]
  },
  {
   "cell_type": "code",
   "execution_count": null,
   "id": "919b56fd-3e88-454d-b705-7a3144a770b3",
   "metadata": {},
   "outputs": [],
   "source": [
    "# wap ask the user enter 3 numbers calculate average\n",
    "# wap ask the user enter the 2 numbers find the substraction, addition, multiplication, division\n",
    "# wap ask the user enter radius values find the area of the circle\n",
    "# wap ask the user bill amount\n",
    "# wap ask the user how much tip you want to pay iin percentage\n",
    "# wap calculate the total bill\n",
    "\n",
    "# wap ask the user bill amount in dollars\n",
    "# wap ask the user onedollar\n",
    "# wap ask the user to print the bill amount in rupees\n",
    "\n",
    "# wap ask the user enter height calculate area of the triangle\n",
    "# wap ask the user enter length and breadth calculate the area of the ractangle"
   ]
  },
  {
   "cell_type": "code",
   "execution_count": 24,
   "id": "f30be905-58c2-47be-87d0-f5e292a26a5f",
   "metadata": {},
   "outputs": [
    {
     "data": {
      "text/plain": [
       "20.0"
      ]
     },
     "execution_count": 24,
     "metadata": {},
     "output_type": "execute_result"
    }
   ],
   "source": [
    "num1=eval(input(\"enter the number1:\"))  #num1='100'\n",
    "num2=eval(input(\"enter the number2:\"))  #num2='100'\n",
    "num3=eval(input(\"enter the number3:\"))\n",
    "\n",
    "print(f\"the addition of {num1} and {num2} is: {add}\")\n"
   ]
  },
  {
   "cell_type": "code",
   "execution_count": 28,
   "id": "987aedd3-0551-4ae1-935f-6391c6edb82b",
   "metadata": {},
   "outputs": [
    {
     "name": "stdout",
     "output_type": "stream",
     "text": [
      "60\n",
      "-20\n",
      "800\n",
      "0.5\n"
     ]
    }
   ],
   "source": [
    "a=20\n",
    "b=40\n",
    "\n",
    "addition=(a+b)\n",
    "\n",
    "substraction=(a-b)\n",
    "\n",
    "multiplication=(a*b)\n",
    "\n",
    "division=(a/b)\n",
    "\n",
    "print(addition)\n",
    "print(substraction)\n",
    "print(multiplication)\n",
    "print(division)"
   ]
  },
  {
   "cell_type": "code",
   "execution_count": null,
   "id": "0a5084be-5783-451d-8bcf-27a6dc9db4c8",
   "metadata": {},
   "outputs": [],
   "source": [
    "# area of a circle\n",
    "\n",
    "radius=15\n",
    "pi="
   ]
  }
 ],
 "metadata": {
  "kernelspec": {
   "display_name": "Python 3 (ipykernel)",
   "language": "python",
   "name": "python3"
  },
  "language_info": {
   "codemirror_mode": {
    "name": "ipython",
    "version": 3
   },
   "file_extension": ".py",
   "mimetype": "text/x-python",
   "name": "python",
   "nbconvert_exporter": "python",
   "pygments_lexer": "ipython3",
   "version": "3.11.7"
  }
 },
 "nbformat": 4,
 "nbformat_minor": 5
}
