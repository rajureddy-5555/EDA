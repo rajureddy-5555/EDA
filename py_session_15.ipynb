{
 "cells": [
  {
   "cell_type": "code",
   "execution_count": 4,
   "id": "29c5c93f-6b5b-448f-a35f-aa495824b57e",
   "metadata": {},
   "outputs": [
    {
     "data": {
      "text/plain": [
       "'e you'"
      ]
     },
     "execution_count": 4,
     "metadata": {},
     "output_type": "execute_result"
    }
   ],
   "source": [
    "str1='hai how are you'\n",
    "\n",
    "\n",
    "\n",
    "str1[10:]"
   ]
  },
  {
   "cell_type": "code",
   "execution_count": 6,
   "id": "44aae455-6d54-4c94-b8d7-87538772b278",
   "metadata": {},
   "outputs": [
    {
     "data": {
      "text/plain": [
       "'e you'"
      ]
     },
     "execution_count": 6,
     "metadata": {},
     "output_type": "execute_result"
    }
   ],
   "source": [
    "str1[-5:]"
   ]
  },
  {
   "cell_type": "markdown",
   "id": "3b1b6fb0-b003-4cb0-8a52-78f6b9fdf558",
   "metadata": {},
   "source": [
    "$pattern-2$\n",
    "\n",
    "**str1[start:stop]**\n",
    "\n",
    "- start value means by default start only\n",
    "- step is not mentioned positive direction\n",
    "- last=stop-1\n"
   ]
  },
  {
   "cell_type": "code",
   "execution_count": 36,
   "id": "22dedfb7-a314-4e0c-bdfd-a3e3d7b12ad6",
   "metadata": {},
   "outputs": [
    {
     "data": {
      "text/plain": [
       "''"
      ]
     },
     "execution_count": 36,
     "metadata": {},
     "output_type": "execute_result"
    }
   ],
   "source": [
    "# -15  -14  -13  -12  -11  -10  -9  -8  -7  -6  -5  -4  -3  -2  -1\n",
    "# h    a    i         h    o    w        a    r   e    y   o   u\n",
    "# 0   1    2    3    4    5    6   7   8   9   10  11  12  13   14  \n",
    " \n",
    "\n",
    "str1='hai how are you'            # step is not mentioned or mentioned\n",
    "str1[5:14]    # answer\n",
    "str1[-5:14]   # answer\n",
    "str1[5:-14]    # no answer\n",
    "str1[-5:-14]    # no answer"
   ]
  },
  {
   "cell_type": "code",
   "execution_count": 12,
   "id": "db40ca4f-8602-48d1-a8d2-67e55da21637",
   "metadata": {},
   "outputs": [
    {
     "data": {
      "text/plain": [
       "'i how are y'"
      ]
     },
     "execution_count": 12,
     "metadata": {},
     "output_type": "execute_result"
    }
   ],
   "source": [
    "str1[2:13]"
   ]
  },
  {
   "cell_type": "code",
   "execution_count": 16,
   "id": "25876845-3bf9-4771-a3ed-013ca9003bfd",
   "metadata": {},
   "outputs": [
    {
     "data": {
      "text/plain": [
       "'e yo'"
      ]
     },
     "execution_count": 16,
     "metadata": {},
     "output_type": "execute_result"
    }
   ],
   "source": [
    "str1[-5:14]"
   ]
  },
  {
   "cell_type": "code",
   "execution_count": 17,
   "id": "6d5b8790-abf9-40b6-995c-8d55a6cd5fde",
   "metadata": {},
   "outputs": [
    {
     "data": {
      "text/plain": [
       "'ow are you'"
      ]
     },
     "execution_count": 17,
     "metadata": {},
     "output_type": "execute_result"
    }
   ],
   "source": [
    "str1[5:500]"
   ]
  },
  {
   "cell_type": "markdown",
   "id": "d01c7b82-8d73-4dc6-873e-9e2bb0d61c93",
   "metadata": {},
   "source": [
    "**Truncation behaviour**\n",
    "\n",
    "- when ever string range is limited, but we provided unlimited number\n",
    "\n",
    "- string will consider till the range we have\n",
    "\n",
    "- in the above example our range only 15 letters\n",
    "\n",
    "- we provided 500, then 500 will truncate to till 15 letters only"
   ]
  },
  {
   "cell_type": "code",
   "execution_count": null,
   "id": "2c6afe36-2ba8-4803-85d2-f71af29598dc",
   "metadata": {},
   "outputs": [],
   "source": [
    "str1[5:500]  #answer \n",
    "str[-500:500]  # answer\n",
    "str1[-1:500]  # answer\n",
    "str1[500:]   # no naswer\n",
    "str1[-500:-100] # no answer"
   ]
  },
  {
   "cell_type": "code",
   "execution_count": null,
   "id": "309a687c-e18e-4fe3-b2a3-033b8dcd0735",
   "metadata": {},
   "outputs": [],
   "source": [
    "$pattern-3$\n",
    "\n",
    "**str1[start:stop:step]**\n",
    "\n",
    "- start value means start only\n",
    "\n",
    "- if step value positive \n",
    "\n",
    "   - last value=stop-1\n",
    "\n",
    "- if step value negative only\n",
    "\n",
    "   - last value=last+1"
   ]
  },
  {
   "cell_type": "code",
   "execution_count": 23,
   "id": "3af9d153-fee1-45f3-ad0f-f8d0ba8a9a54",
   "metadata": {},
   "outputs": [
    {
     "data": {
      "text/plain": [
       "'swnh'"
      ]
     },
     "execution_count": 23,
     "metadata": {},
     "output_type": "execute_result"
    }
   ],
   "source": [
    "# -15  -14  -13  -12  -11  -10  -9  -8  -7  -6  -5  -4  -3  -2  -1\n",
    "# h    a    i         h    o    w        a    r   e    y   o   u\n",
    "# 0   1    2    3    4    5    6   7   8   9   10  11  12  13   14  \n",
    "\n",
    "# y e s h w a n t h\n",
    "# 0 1 2 3 4 5 6 7 8\n",
    "\n",
    "str2='yeshwanth'\n",
    "str2[2:13:2]  # p"
   ]
  },
  {
   "cell_type": "code",
   "execution_count": 24,
   "id": "be32fa28-77dc-4c3c-94c5-97040a065d05",
   "metadata": {},
   "outputs": [
    {
     "data": {
      "text/plain": [
       "''"
      ]
     },
     "execution_count": 24,
     "metadata": {},
     "output_type": "execute_result"
    }
   ],
   "source": [
    "str2[2:13:-2]  # np"
   ]
  },
  {
   "cell_type": "code",
   "execution_count": 25,
   "id": "b3eb7303-aaae-4fbf-82a2-08891828f6c7",
   "metadata": {},
   "outputs": [
    {
     "data": {
      "text/plain": [
       "''"
      ]
     },
     "execution_count": 25,
     "metadata": {},
     "output_type": "execute_result"
    }
   ],
   "source": [
    "str2[2:-13:2]  # np"
   ]
  },
  {
   "cell_type": "code",
   "execution_count": 26,
   "id": "1f9b2c39-1874-4c54-b2fc-9a9e0cef2365",
   "metadata": {},
   "outputs": [
    {
     "data": {
      "text/plain": [
       "'sy'"
      ]
     },
     "execution_count": 26,
     "metadata": {},
     "output_type": "execute_result"
    }
   ],
   "source": [
    "str2[2:-13:-2]  # np"
   ]
  },
  {
   "cell_type": "code",
   "execution_count": 28,
   "id": "a67bafc8-dadd-4fb2-9621-54690a76eee5",
   "metadata": {},
   "outputs": [
    {
     "data": {
      "text/plain": [
       "'t'"
      ]
     },
     "execution_count": 28,
     "metadata": {},
     "output_type": "execute_result"
    }
   ],
   "source": [
    "str2[-2:13:2]  # p"
   ]
  },
  {
   "cell_type": "code",
   "execution_count": 29,
   "id": "4c87c991-22f3-4b36-a994-e17447b3d434",
   "metadata": {},
   "outputs": [
    {
     "data": {
      "text/plain": [
       "'tahe'"
      ]
     },
     "execution_count": 29,
     "metadata": {},
     "output_type": "execute_result"
    }
   ],
   "source": [
    "str2[-2:-13:-2]  # p"
   ]
  },
  {
   "cell_type": "code",
   "execution_count": 30,
   "id": "6ab14f65-bde4-4c35-bdef-dc2b148e13b6",
   "metadata": {},
   "outputs": [
    {
     "data": {
      "text/plain": [
       "''"
      ]
     },
     "execution_count": 30,
     "metadata": {},
     "output_type": "execute_result"
    }
   ],
   "source": [
    "str2[13:2:2]   # np"
   ]
  },
  {
   "cell_type": "code",
   "execution_count": 31,
   "id": "1ac1bb25-7ad6-42f0-922c-5cce7376152c",
   "metadata": {},
   "outputs": [
    {
     "data": {
      "text/plain": [
       "'y'"
      ]
     },
     "execution_count": 31,
     "metadata": {},
     "output_type": "execute_result"
    }
   ],
   "source": [
    "str2[-13:2:2]  # p"
   ]
  },
  {
   "cell_type": "code",
   "execution_count": 32,
   "id": "6bc317bb-725e-4494-a40f-2acb2cef5e12",
   "metadata": {},
   "outputs": [
    {
     "data": {
      "text/plain": [
       "''"
      ]
     },
     "execution_count": 32,
     "metadata": {},
     "output_type": "execute_result"
    }
   ],
   "source": [
    "str2[-13:-2:-2]   # np"
   ]
  },
  {
   "cell_type": "code",
   "execution_count": 34,
   "id": "aae05bc8-2481-4964-b1a3-e99d28a005e1",
   "metadata": {},
   "outputs": [
    {
     "data": {
      "text/plain": [
       "''"
      ]
     },
     "execution_count": 34,
     "metadata": {},
     "output_type": "execute_result"
    }
   ],
   "source": [
    "str2[-13:-2:-2]   # np"
   ]
  },
  {
   "cell_type": "code",
   "execution_count": 35,
   "id": "926c813c-d067-491c-9a36-3b954a7ed879",
   "metadata": {},
   "outputs": [
    {
     "data": {
      "text/plain": [
       "''"
      ]
     },
     "execution_count": 35,
     "metadata": {},
     "output_type": "execute_result"
    }
   ],
   "source": [
    "str2[-13:2:-2]   # np "
   ]
  },
  {
   "cell_type": "markdown",
   "id": "9956740c-5cca-430a-b03d-2f6dc225af65",
   "metadata": {},
   "source": [
    "**part-2**"
   ]
  },
  {
   "cell_type": "code",
   "execution_count": 40,
   "id": "a2cb4836-66aa-42b4-afb2-3d70fc8d6798",
   "metadata": {},
   "outputs": [
    {
     "data": {
      "text/plain": [
       "'uyeaw'"
      ]
     },
     "execution_count": 40,
     "metadata": {},
     "output_type": "execute_result"
    }
   ],
   "source": [
    "str1='hai how are you'\n",
    "\n",
    "# -15  -14  -13  -12  -11  -10  -9  -8  -7  -6  -5  -4  -3  -2  -1\n",
    "# h    a    i         h    o    w        a    r   e    y   o   u\n",
    "# 0   1    2    3    4    5    6   7   8   9   10  11  12  13   14\n",
    "\n",
    "str1[:5:-2]   # start value -1\n"
   ]
  },
  {
   "cell_type": "code",
   "execution_count": 41,
   "id": "0a244124-a856-4990-99f2-c279dfdd1bcb",
   "metadata": {},
   "outputs": [
    {
     "data": {
      "text/plain": [
       "''"
      ]
     },
     "execution_count": 41,
     "metadata": {},
     "output_type": "execute_result"
    }
   ],
   "source": [
    "str1[-13:2:2]"
   ]
  },
  {
   "cell_type": "code",
   "execution_count": null,
   "id": "05bb6cc4-6cfa-4100-a88a-b1371c81ff63",
   "metadata": {},
   "outputs": [],
   "source": [
    "str1[:]   # complete string\n",
    "str1[::]  # complete string\n",
    "str1[<start>::-1]  # reverse start value = -1\n",
    "str1[<start>:5:-2]   # "
   ]
  },
  {
   "cell_type": "code",
   "execution_count": null,
   "id": "a888bdf1-38b8-4e66-a41e-68aa6e5b7921",
   "metadata": {},
   "outputs": [],
   "source": []
  },
  {
   "cell_type": "markdown",
   "id": "580a9ed9-b60c-4917-9eea-851bff113604",
   "metadata": {},
   "source": [
    "**Methods**"
   ]
  },
  {
   "cell_type": "markdown",
   "id": "fe659e1e-8765-42af-9a40-2a41949ff70a",
   "metadata": {},
   "source": [
    "- strings lists tuple dictionary every data type has its own methods\n",
    "- we already seen that packages has different method\n",
    "- for example random package : randint method\n",
    "- math package : sqrt\n",
    "- In the same way strings also have methods\n",
    "- In order to see methods for the packages\n",
    "   - we are importing the package\n",
    "   - we are applying dir\n",
    "- In the similar way in order to see the methods of string , we need to apply dir omly "
   ]
  },
  {
   "cell_type": "code",
   "execution_count": 42,
   "id": "c7632494-ce10-462d-b95d-1ab8758796cb",
   "metadata": {},
   "outputs": [
    {
     "data": {
      "text/plain": [
       "['__add__',\n",
       " '__class__',\n",
       " '__contains__',\n",
       " '__delattr__',\n",
       " '__dir__',\n",
       " '__doc__',\n",
       " '__eq__',\n",
       " '__format__',\n",
       " '__ge__',\n",
       " '__getattribute__',\n",
       " '__getitem__',\n",
       " '__getnewargs__',\n",
       " '__getstate__',\n",
       " '__gt__',\n",
       " '__hash__',\n",
       " '__init__',\n",
       " '__init_subclass__',\n",
       " '__iter__',\n",
       " '__le__',\n",
       " '__len__',\n",
       " '__lt__',\n",
       " '__mod__',\n",
       " '__mul__',\n",
       " '__ne__',\n",
       " '__new__',\n",
       " '__reduce__',\n",
       " '__reduce_ex__',\n",
       " '__repr__',\n",
       " '__rmod__',\n",
       " '__rmul__',\n",
       " '__setattr__',\n",
       " '__sizeof__',\n",
       " '__str__',\n",
       " '__subclasshook__',\n",
       " 'capitalize',\n",
       " 'casefold',\n",
       " 'center',\n",
       " 'count',\n",
       " 'encode',\n",
       " 'endswith',\n",
       " 'expandtabs',\n",
       " 'find',\n",
       " 'format',\n",
       " 'format_map',\n",
       " 'index',\n",
       " 'isalnum',\n",
       " 'isalpha',\n",
       " 'isascii',\n",
       " 'isdecimal',\n",
       " 'isdigit',\n",
       " 'isidentifier',\n",
       " 'islower',\n",
       " 'isnumeric',\n",
       " 'isprintable',\n",
       " 'isspace',\n",
       " 'istitle',\n",
       " 'isupper',\n",
       " 'join',\n",
       " 'ljust',\n",
       " 'lower',\n",
       " 'lstrip',\n",
       " 'maketrans',\n",
       " 'partition',\n",
       " 'removeprefix',\n",
       " 'removesuffix',\n",
       " 'replace',\n",
       " 'rfind',\n",
       " 'rindex',\n",
       " 'rjust',\n",
       " 'rpartition',\n",
       " 'rsplit',\n",
       " 'rstrip',\n",
       " 'split',\n",
       " 'splitlines',\n",
       " 'startswith',\n",
       " 'strip',\n",
       " 'swapcase',\n",
       " 'title',\n",
       " 'translate',\n",
       " 'upper',\n",
       " 'zfill']"
      ]
     },
     "execution_count": 42,
     "metadata": {},
     "output_type": "execute_result"
    }
   ],
   "source": [
    "dir('')\n"
   ]
  },
  {
   "cell_type": "code",
   "execution_count": null,
   "id": "c12f813a-8501-4ed9-ad51-d2cd33606d03",
   "metadata": {},
   "outputs": [],
   "source": [
    "# dir('hai')\n",
    "# dir('apple')\n",
    "# dir('')"
   ]
  },
  {
   "cell_type": "markdown",
   "id": "5b41516c-f1c2-4bdd-a976-d619c628b69b",
   "metadata": {},
   "source": [
    "- lower \n",
    "- upper\n",
    "- capitalize\n",
    "- Title\n",
    "- casefold\n",
    "- center"
   ]
  },
  {
   "cell_type": "markdown",
   "id": "99a96eff-7096-4cd3-a8af-e8e61100264d",
   "metadata": {},
   "source": [
    "**lower**"
   ]
  },
  {
   "cell_type": "code",
   "execution_count": 44,
   "id": "941022a2-aa4a-4b56-9cce-0a846edd7ccb",
   "metadata": {},
   "outputs": [],
   "source": [
    "str1='hai how are you'\n"
   ]
  },
  {
   "cell_type": "code",
   "execution_count": 52,
   "id": "d7d8a933-7a59-4a56-9e24-201d737f1347",
   "metadata": {},
   "outputs": [
    {
     "name": "stdout",
     "output_type": "stream",
     "text": [
      "No Python documentation found for 'hai how are you'.\n",
      "Use help() to get the interactive help utility.\n",
      "Use help(str) for help on the str class.\n",
      "\n"
     ]
    }
   ],
   "source": [
    "help(str1.lower())"
   ]
  },
  {
   "cell_type": "code",
   "execution_count": 54,
   "id": "43384ffb-3b38-4111-a2fa-cdd8eba82430",
   "metadata": {},
   "outputs": [
    {
     "data": {
      "text/plain": [
       "'hai how are you'"
      ]
     },
     "execution_count": 54,
     "metadata": {},
     "output_type": "execute_result"
    }
   ],
   "source": [
    "str1.lower()"
   ]
  },
  {
   "cell_type": "code",
   "execution_count": null,
   "id": "aa7985f3-a105-4517-b13e-23e11440d80d",
   "metadata": {},
   "outputs": [],
   "source": []
  },
  {
   "cell_type": "markdown",
   "id": "f7a9684b-5b76-403b-a075-98c6739f17ab",
   "metadata": {},
   "source": [
    "**upper**"
   ]
  },
  {
   "cell_type": "code",
   "execution_count": 51,
   "id": "fca0acf9-ce52-4321-915c-338c0dff1280",
   "metadata": {},
   "outputs": [
    {
     "name": "stdout",
     "output_type": "stream",
     "text": [
      "Help on built-in function upper:\n",
      "\n",
      "upper() method of builtins.str instance\n",
      "    Return a copy of the string converted to uppercase.\n",
      "\n"
     ]
    }
   ],
   "source": [
    "help(str1.upper)"
   ]
  },
  {
   "cell_type": "code",
   "execution_count": 53,
   "id": "efa9497f-12de-4c93-9860-a4f29cb728e1",
   "metadata": {},
   "outputs": [
    {
     "data": {
      "text/plain": [
       "'HAI HOW ARE YOU'"
      ]
     },
     "execution_count": 53,
     "metadata": {},
     "output_type": "execute_result"
    }
   ],
   "source": [
    "str1.upper()"
   ]
  },
  {
   "cell_type": "markdown",
   "id": "ac50a90d-fc6c-424b-a522-7bd6640274e2",
   "metadata": {},
   "source": [
    "**capitalize**"
   ]
  },
  {
   "cell_type": "code",
   "execution_count": 56,
   "id": "626832fb-3ac7-422c-bd02-bdf1a6dc8ed2",
   "metadata": {},
   "outputs": [
    {
     "data": {
      "text/plain": [
       "'Hai how are you'"
      ]
     },
     "execution_count": 56,
     "metadata": {},
     "output_type": "execute_result"
    }
   ],
   "source": [
    "str1.capitalize()"
   ]
  },
  {
   "cell_type": "markdown",
   "id": "a7d9d5e7-b42d-4492-8eb8-b59076568375",
   "metadata": {},
   "source": [
    "**Title**"
   ]
  },
  {
   "cell_type": "code",
   "execution_count": 57,
   "id": "b612888b-5e15-4801-b458-0ce35162f097",
   "metadata": {},
   "outputs": [
    {
     "data": {
      "text/plain": [
       "'Hai How Are You'"
      ]
     },
     "execution_count": 57,
     "metadata": {},
     "output_type": "execute_result"
    }
   ],
   "source": [
    "str1.title()"
   ]
  },
  {
   "cell_type": "markdown",
   "id": "22f99f3c-1f3d-45ab-a17a-4e44e7df281f",
   "metadata": {},
   "source": [
    "**casefold**"
   ]
  },
  {
   "cell_type": "code",
   "execution_count": 58,
   "id": "9ad2b66f-4156-457c-95b9-61b8825556ad",
   "metadata": {},
   "outputs": [
    {
     "data": {
      "text/plain": [
       "'hai how are you'"
      ]
     },
     "execution_count": 58,
     "metadata": {},
     "output_type": "execute_result"
    }
   ],
   "source": [
    "str1.casefold()"
   ]
  },
  {
   "cell_type": "markdown",
   "id": "527142e3-b347-43d6-95bb-aac4707a5ce3",
   "metadata": {},
   "source": [
    "**center**"
   ]
  },
  {
   "cell_type": "code",
   "execution_count": 65,
   "id": "1f8699a5-9182-4c7d-957f-280725fc5f8d",
   "metadata": {},
   "outputs": [
    {
     "data": {
      "text/plain": [
       "'  hai how are you   '"
      ]
     },
     "execution_count": 65,
     "metadata": {},
     "output_type": "execute_result"
    }
   ],
   "source": [
    "\n",
    "str1.center(20)"
   ]
  },
  {
   "cell_type": "code",
   "execution_count": 66,
   "id": "a4a28df9-9f42-4c0b-a8e4-9a6a197890d7",
   "metadata": {},
   "outputs": [
    {
     "data": {
      "text/plain": [
       "20"
      ]
     },
     "execution_count": 66,
     "metadata": {},
     "output_type": "execute_result"
    }
   ],
   "source": [
    "len(str1.center(20))"
   ]
  },
  {
   "cell_type": "markdown",
   "id": "42527450-0aee-4547-aeac-b4bb7c177a6d",
   "metadata": {},
   "source": [
    "- center has two arguments\n",
    "   - width\n",
    "   - fill char\n",
    "- original string already : 15 letters\n",
    "- we want to create a new string with 20 letters\n",
    "- remaining 5 letters by default empty\n",
    "- we can fill with characters aslo"
   ]
  },
  {
   "cell_type": "code",
   "execution_count": 67,
   "id": "220ab22c-0fc4-438a-ab43-fa48fe23d0df",
   "metadata": {},
   "outputs": [
    {
     "data": {
      "text/plain": [
       "'*****hai how are you******'"
      ]
     },
     "execution_count": 67,
     "metadata": {},
     "output_type": "execute_result"
    }
   ],
   "source": [
    "str1.center(26,'*')"
   ]
  },
  {
   "cell_type": "code",
   "execution_count": 72,
   "id": "e577dcab-d5f1-4237-857c-12181b1d00fd",
   "metadata": {},
   "outputs": [
    {
     "ename": "TypeError",
     "evalue": "center expected at least 1 argument, got 0",
     "output_type": "error",
     "traceback": [
      "\u001b[1;31m---------------------------------------------------------------------------\u001b[0m",
      "\u001b[1;31mTypeError\u001b[0m                                 Traceback (most recent call last)",
      "Cell \u001b[1;32mIn[72], line 1\u001b[0m\n\u001b[1;32m----> 1\u001b[0m str1\u001b[38;5;241m.\u001b[39mcenter()\n",
      "\u001b[1;31mTypeError\u001b[0m: center expected at least 1 argument, got 0"
     ]
    }
   ],
   "source": [
    "str1.center()"
   ]
  },
  {
   "cell_type": "markdown",
   "id": "a850427a-a1b1-4967-815f-5cb1b84323db",
   "metadata": {},
   "source": [
    "**Count**"
   ]
  },
  {
   "cell_type": "code",
   "execution_count": 73,
   "id": "5c4af60b-d5e3-478e-bb75-c4006c38a04a",
   "metadata": {},
   "outputs": [],
   "source": [
    "str1='hai how are you'\n",
    "# how many 'a's are there"
   ]
  },
  {
   "cell_type": "code",
   "execution_count": 74,
   "id": "ce47f1f5-a4ba-4f06-84ab-a84815802049",
   "metadata": {},
   "outputs": [],
   "source": [
    "count=0\n",
    "for i in str1:\n",
    "    if i=='a':\n",
    "        count=count+1\n",
    "\n",
    "count=0\n"
   ]
  },
  {
   "cell_type": "code",
   "execution_count": 76,
   "id": "23a394a9-d514-4e1f-8418-a9129a3716f2",
   "metadata": {},
   "outputs": [
    {
     "ename": "TypeError",
     "evalue": "count() takes at least 1 argument (0 given)",
     "output_type": "error",
     "traceback": [
      "\u001b[1;31m---------------------------------------------------------------------------\u001b[0m",
      "\u001b[1;31mTypeError\u001b[0m                                 Traceback (most recent call last)",
      "Cell \u001b[1;32mIn[76], line 1\u001b[0m\n\u001b[1;32m----> 1\u001b[0m str1\u001b[38;5;241m.\u001b[39mcount()\n",
      "\u001b[1;31mTypeError\u001b[0m: count() takes at least 1 argument (0 given)"
     ]
    }
   ],
   "source": [
    "str1.count()"
   ]
  },
  {
   "cell_type": "code",
   "execution_count": 77,
   "id": "166cf4cd-f5dd-46a0-a919-6c1933167356",
   "metadata": {},
   "outputs": [
    {
     "data": {
      "text/plain": [
       "2"
      ]
     },
     "execution_count": 77,
     "metadata": {},
     "output_type": "execute_result"
    }
   ],
   "source": [
    "str1='hai how are you'\n",
    "str1.count('a')"
   ]
  },
  {
   "cell_type": "code",
   "execution_count": null,
   "id": "f9cb4e1d-a8b0-4e9c-88c6-320c9073ee13",
   "metadata": {},
   "outputs": [],
   "source": [
    "- we want number of a from a specific index\n",
    "- we want number of a between two indexes"
   ]
  },
  {
   "cell_type": "code",
   "execution_count": 81,
   "id": "e0d95a41-95c8-4e93-93c9-7e52b9c686de",
   "metadata": {},
   "outputs": [
    {
     "data": {
      "text/plain": [
       "0"
      ]
     },
     "execution_count": 81,
     "metadata": {},
     "output_type": "execute_result"
    }
   ],
   "source": [
    "# h  a  i   h  a  i   h  a  i\n",
    "# 0  1  2 3  4  5  6 7 8 9  10\n",
    "str1.count('a')\n",
    "str1.count('a',3)\n",
    "str1.count('a',8,4)"
   ]
  },
  {
   "cell_type": "code",
   "execution_count": 80,
   "id": "802cfb8d-d6b7-4f54-bc54-85ca1290b651",
   "metadata": {},
   "outputs": [
    {
     "data": {
      "text/plain": [
       "3"
      ]
     },
     "execution_count": 80,
     "metadata": {},
     "output_type": "execute_result"
    }
   ],
   "source": [
    "str1='ola ola ola'\n",
    "str1.count('ola')"
   ]
  },
  {
   "cell_type": "markdown",
   "id": "753818ee-0ef1-4fed-b27b-83bb31fdd789",
   "metadata": {},
   "source": [
    "***reverse check karo***"
   ]
  },
  {
   "cell_type": "code",
   "execution_count": 84,
   "id": "03ffa1e6-5d76-4619-9635-8bf88b24d0be",
   "metadata": {},
   "outputs": [],
   "source": [
    "str1='ola ola ola'\n",
    "for i in str1:\n",
    "    if i=='ola':\n",
    "        print(i)\n"
   ]
  },
  {
   "cell_type": "markdown",
   "id": "583f70c2-1ab2-4c5c-923b-0d3b4c56984f",
   "metadata": {},
   "source": [
    "**Window Method**"
   ]
  },
  {
   "cell_type": "code",
   "execution_count": 85,
   "id": "288b61b9-f533-4bf0-ab9a-d9957222e43f",
   "metadata": {},
   "outputs": [
    {
     "ename": "SyntaxError",
     "evalue": "invalid syntax (1507448820.py, line 2)",
     "output_type": "error",
     "traceback": [
      "\u001b[1;36m  Cell \u001b[1;32mIn[85], line 2\u001b[1;36m\u001b[0m\n\u001b[1;33m    i=0 str1[0:3]\u001b[0m\n\u001b[1;37m        ^\u001b[0m\n\u001b[1;31mSyntaxError\u001b[0m\u001b[1;31m:\u001b[0m invalid syntax\n"
     ]
    }
   ],
   "source": [
    "str1[i:i+1]\n",
    "i=0 str1[0:3]\n",
    "i=1 str1[1:4]\n",
    "i=2"
   ]
  },
  {
   "cell_type": "code",
   "execution_count": 95,
   "id": "d0643c0a-e6ba-412a-94f9-ef06f88035ab",
   "metadata": {},
   "outputs": [
    {
     "name": "stdout",
     "output_type": "stream",
     "text": [
      "3\n"
     ]
    }
   ],
   "source": [
    "str1='ola ola ola'\n",
    "count=0\n",
    "for i in range(len(str1)):\n",
    "    if str1[i:i+3]=='ola':\n",
    "        count=count+1\n",
    "\n",
    "print(count)"
   ]
  },
  {
   "cell_type": "code",
   "execution_count": 96,
   "id": "9bde8518-7a80-4bcf-afc3-2fa99dd1fb3b",
   "metadata": {},
   "outputs": [
    {
     "data": {
      "text/plain": [
       "1"
      ]
     },
     "execution_count": 96,
     "metadata": {},
     "output_type": "execute_result"
    }
   ],
   "source": [
    "str1='ola ola ola'\n",
    "str1.count(str1)"
   ]
  },
  {
   "cell_type": "markdown",
   "id": "171b7904-d40d-4015-acc0-43eef4a5df45",
   "metadata": {},
   "source": [
    "**Replace**"
   ]
  },
  {
   "cell_type": "code",
   "execution_count": 97,
   "id": "4e95f85d-4e0e-4aa7-883c-eb3ddce1612f",
   "metadata": {},
   "outputs": [],
   "source": [
    "str1='welcome'\n",
    "# i want to replace  'l' with 'L'"
   ]
  },
  {
   "cell_type": "code",
   "execution_count": 98,
   "id": "0dc2c852-a8ab-4990-b762-92d46c6c6ea3",
   "metadata": {},
   "outputs": [
    {
     "data": {
      "text/plain": [
       "'weLcome'"
      ]
     },
     "execution_count": 98,
     "metadata": {},
     "output_type": "execute_result"
    }
   ],
   "source": [
    "# we know that strings are immutable\n",
    "# we cannot use index operations also\n",
    "# slice and cocatenation\n",
    "# divide welcome : we   come\n",
    "# s1='we'\n",
    "# s2='come'\n",
    "# s1+'L'+s2\n",
    "\n",
    "str1='welcome'\n",
    "s1=str1[0:2]\n",
    "s2=str1[3:]\n",
    "s1+'L'+s2\n",
    "# for i in range(len(str1)):\n",
    "  #  if \n",
    "    "
   ]
  },
  {
   "cell_type": "code",
   "execution_count": 100,
   "id": "bd66a00f-28f6-4a17-bdbd-3bd33e0e1823",
   "metadata": {},
   "outputs": [
    {
     "data": {
      "text/plain": [
       "'L'"
      ]
     },
     "execution_count": 100,
     "metadata": {},
     "output_type": "execute_result"
    }
   ],
   "source": [
    "chr(ord('l')-32)"
   ]
  },
  {
   "cell_type": "code",
   "execution_count": 101,
   "id": "1c8786ed-eb61-4823-a6d7-c9678fc716c4",
   "metadata": {},
   "outputs": [
    {
     "data": {
      "text/plain": [
       "'weLcome'"
      ]
     },
     "execution_count": 101,
     "metadata": {},
     "output_type": "execute_result"
    }
   ],
   "source": [
    "str1='welcome'\n",
    "str1.replace('l','L')"
   ]
  },
  {
   "cell_type": "code",
   "execution_count": 102,
   "id": "1b9cf5f3-fb4b-4f96-9ceb-363a97fe80a0",
   "metadata": {},
   "outputs": [
    {
     "data": {
      "text/plain": [
       "'weLLcome'"
      ]
     },
     "execution_count": 102,
     "metadata": {},
     "output_type": "execute_result"
    }
   ],
   "source": [
    "str1='wellcome'\n",
    "str1.replace('l','L')"
   ]
  },
  {
   "cell_type": "code",
   "execution_count": null,
   "id": "2c4072aa-d56b-4e7d-b26f-92416e611872",
   "metadata": {},
   "outputs": [],
   "source": [
    "- by default replace will change all the \n",
    "- which means we can provide some count also, whic how many i want \n",
    "- give welllcome and change count=1 and count=2 explore it"
   ]
  },
  {
   "cell_type": "code",
   "execution_count": 103,
   "id": "d70d34f3-0bb3-491f-8967-8f9e8c40e750",
   "metadata": {},
   "outputs": [
    {
     "data": {
      "text/plain": [
       "'weLLlcome'"
      ]
     },
     "execution_count": 103,
     "metadata": {},
     "output_type": "execute_result"
    }
   ],
   "source": [
    "str1='welllcome'\n",
    "str1.replace('l','L',2)"
   ]
  },
  {
   "cell_type": "code",
   "execution_count": 112,
   "id": "e4d27834-729a-4604-8280-b2c2acb58e36",
   "metadata": {},
   "outputs": [
    {
     "data": {
      "text/plain": [
       "'resta$t'"
      ]
     },
     "execution_count": 112,
     "metadata": {},
     "output_type": "execute_result"
    }
   ],
   "source": [
    "# str1='restart'\n",
    "# i/p='resta$t'\n",
    "str2='restart'\n",
    "s1=str2[:1]\n",
    "s2=str2[1:]\n",
    "s3=s2.replace('r','$')\n",
    "s1+s3"
   ]
  },
  {
   "cell_type": "code",
   "execution_count": null,
   "id": "8cc279fa-d55a-4a52-8353-4b00bc70b6b8",
   "metadata": {},
   "outputs": [],
   "source": [
    "str1='restart'\n",
    "str1[::-1].replace()"
   ]
  },
  {
   "cell_type": "code",
   "execution_count": null,
   "id": "9dc91e6d-f93f-478f-a739-7fb50bd407c8",
   "metadata": {},
   "outputs": [],
   "source": [
    "'isalnum',\n",
    "'isalpha',\n",
    "'isascii',\n",
    "'isdecimal',\n",
    "'isdigit',\n",
    "'isidentifier',\n",
    "'islower',\n",
    "'isnumeric',\n",
    "'isprintable',\n",
    "'isspace',\n",
    "'istitle',\n",
    "'isupper',"
   ]
  },
  {
   "cell_type": "code",
   "execution_count": 113,
   "id": "3d647dc4-b069-475a-8f0c-42590cc81ee5",
   "metadata": {},
   "outputs": [
    {
     "data": {
      "text/plain": [
       "True"
      ]
     },
     "execution_count": 113,
     "metadata": {},
     "output_type": "execute_result"
    }
   ],
   "source": [
    "str1='welcome'\n",
    "str1.islower()"
   ]
  },
  {
   "cell_type": "markdown",
   "id": "19bd7477-0658-43ce-bc16-72241bc225b4",
   "metadata": {},
   "source": [
    "**Index**\n",
    "\n",
    "- index says that will gie the index of any letter in a given string \n",
    "- we already seen about count : count will how many letters are there\n",
    "  - at what index you want to count\n",
    "- between indexes also we can count the letters\n",
    "- index meaning it will provide the index\n",
    "- imagine that there same letters repeated \n",
    "- how can we find the next index"
   ]
  },
  {
   "cell_type": "code",
   "execution_count": 115,
   "id": "5aab9fb3-e931-42b3-bf41-44a4068c620e",
   "metadata": {},
   "outputs": [
    {
     "data": {
      "text/plain": [
       "1"
      ]
     },
     "execution_count": 115,
     "metadata": {},
     "output_type": "execute_result"
    }
   ],
   "source": [
    "# h  a  i    h   a   i     h   a  i\n",
    "# 0  1  2  3  4  5   6  7  8  9  10\n",
    "\n",
    "str1='hai hai hai'\n",
    "str1.index('a')"
   ]
  },
  {
   "cell_type": "code",
   "execution_count": 116,
   "id": "8ae9bc1e-e4ba-4d29-8423-96897da8460f",
   "metadata": {},
   "outputs": [
    {
     "data": {
      "text/plain": [
       "5"
      ]
     },
     "execution_count": 116,
     "metadata": {},
     "output_type": "execute_result"
    }
   ],
   "source": [
    "str1='hai hai hai'\n",
    "str1.index('a',3)"
   ]
  },
  {
   "cell_type": "code",
   "execution_count": 117,
   "id": "b5c6056d-4dd3-402a-87f2-81247622414e",
   "metadata": {},
   "outputs": [
    {
     "data": {
      "text/plain": [
       "5"
      ]
     },
     "execution_count": 117,
     "metadata": {},
     "output_type": "execute_result"
    }
   ],
   "source": [
    "# I always return a lowest index only\n",
    "\n",
    "str1='hai hai hai'\n",
    "str1.index('a',3,7)"
   ]
  },
  {
   "cell_type": "code",
   "execution_count": null,
   "id": "b0d369d5-63cc-4b37-ba09-4762eb8e3b76",
   "metadata": {},
   "outputs": [],
   "source": [
    "# I always a return a lowest index only\n",
    "\n",
    "\n",
    "str1='hai hai hai'         # among all the indexes the lowest index is '1'\n",
    "str1.index('a')\n",
    "\n",
    "str1='hai hai hai'         # after 3rd index the lowest \n",
    "str1.index('a',3)\n",
    "\n",
    "str1='hai hai hai'\n",
    "str1.index('a',3,7)"
   ]
  },
  {
   "cell_type": "code",
   "execution_count": 118,
   "id": "2b7a5ebc-21e2-4e4d-9b24-9473c0f89449",
   "metadata": {},
   "outputs": [
    {
     "data": {
      "text/plain": [
       "9"
      ]
     },
     "execution_count": 118,
     "metadata": {},
     "output_type": "execute_result"
    }
   ],
   "source": [
    "str1='hai hai hai'\n",
    "str1.index('a',-3,-1)"
   ]
  },
  {
   "cell_type": "code",
   "execution_count": 119,
   "id": "42e603e4-4437-4572-812f-11b492d2329d",
   "metadata": {},
   "outputs": [
    {
     "data": {
      "text/plain": [
       "5"
      ]
     },
     "execution_count": 119,
     "metadata": {},
     "output_type": "execute_result"
    }
   ],
   "source": [
    "str1='hai hai hai'\n",
    "str1.index('a',-9,-4)"
   ]
  },
  {
   "cell_type": "code",
   "execution_count": 121,
   "id": "39185ad8-42fa-46b5-b305-1799057c35ef",
   "metadata": {},
   "outputs": [
    {
     "ename": "ValueError",
     "evalue": "substring not found",
     "output_type": "error",
     "traceback": [
      "\u001b[1;31m---------------------------------------------------------------------------\u001b[0m",
      "\u001b[1;31mValueError\u001b[0m                                Traceback (most recent call last)",
      "Cell \u001b[1;32mIn[121], line 2\u001b[0m\n\u001b[0;32m      1\u001b[0m str1\u001b[38;5;241m=\u001b[39m\u001b[38;5;124m'\u001b[39m\u001b[38;5;124mhai hai hai\u001b[39m\u001b[38;5;124m'\u001b[39m\n\u001b[1;32m----> 2\u001b[0m \u001b[38;5;28mprint\u001b[39m(str1\u001b[38;5;241m.\u001b[39mindex(\u001b[38;5;124m'\u001b[39m\u001b[38;5;124ma\u001b[39m\u001b[38;5;124m'\u001b[39m,\u001b[38;5;241m-\u001b[39m\u001b[38;5;241m9\u001b[39m,\u001b[38;5;241m-\u001b[39m\u001b[38;5;241m6\u001b[39m))\n",
      "\u001b[1;31mValueError\u001b[0m: substring not found"
     ]
    }
   ],
   "source": [
    "str1='hai hai hai'\n",
    "print(str1.index('a',-9,-6))"
   ]
  },
  {
   "cell_type": "code",
   "execution_count": 122,
   "id": "33ec7ca2-12a9-46ca-a1d6-6f0acb5bad50",
   "metadata": {},
   "outputs": [
    {
     "data": {
      "text/plain": [
       "5"
      ]
     },
     "execution_count": 122,
     "metadata": {},
     "output_type": "execute_result"
    }
   ],
   "source": [
    "str1='hai hai hai'\n",
    "str1.index('a',3,10)"
   ]
  },
  {
   "cell_type": "code",
   "execution_count": 123,
   "id": "181d9db3-c63f-46cc-a37e-f2733a66e172",
   "metadata": {},
   "outputs": [
    {
     "data": {
      "text/plain": [
       "3"
      ]
     },
     "execution_count": 123,
     "metadata": {},
     "output_type": "execute_result"
    }
   ],
   "source": [
    "# h  a  i    h   a   i     h   a  i\n",
    "# 0  1  2  3  4  5   6  7  8  9  10\n",
    "#-1 -2 -3 -4 -5 -6  -7 -8 -9  -10 -11\n",
    "\n",
    "str1='hai hai hai'\n",
    "str1.count('a')"
   ]
  },
  {
   "cell_type": "code",
   "execution_count": 124,
   "id": "d9ff7f70-19af-423f-a16f-769f2d0b1674",
   "metadata": {},
   "outputs": [
    {
     "data": {
      "text/plain": [
       "2"
      ]
     },
     "execution_count": 124,
     "metadata": {},
     "output_type": "execute_result"
    }
   ],
   "source": [
    "str1='hai hai hai'\n",
    "str1.count('a',3)"
   ]
  },
  {
   "cell_type": "code",
   "execution_count": 125,
   "id": "195545b6-4646-4af3-bb47-df8147e89d0c",
   "metadata": {},
   "outputs": [
    {
     "data": {
      "text/plain": [
       "1"
      ]
     },
     "execution_count": 125,
     "metadata": {},
     "output_type": "execute_result"
    }
   ],
   "source": [
    "str1='hai hai hai'\n",
    "str1.count('a',3,7)"
   ]
  },
  {
   "cell_type": "code",
   "execution_count": null,
   "id": "0be13818-41e2-4f2c-adf9-e4e516995d6f",
   "metadata": {},
   "outputs": [],
   "source": [
    "str1='hai hai hai'\n",
    "str1.count('a')\n",
    "str1.count('a',3)\n",
    "str1.count('a',3,7)"
   ]
  },
  {
   "cell_type": "code",
   "execution_count": 126,
   "id": "0a4f88c5-7b3b-4c54-8f04-eef53f72e4eb",
   "metadata": {},
   "outputs": [
    {
     "data": {
      "text/plain": [
       "['Formatter',\n",
       " 'Template',\n",
       " '_ChainMap',\n",
       " '__all__',\n",
       " '__builtins__',\n",
       " '__cached__',\n",
       " '__doc__',\n",
       " '__file__',\n",
       " '__loader__',\n",
       " '__name__',\n",
       " '__package__',\n",
       " '__spec__',\n",
       " '_re',\n",
       " '_sentinel_dict',\n",
       " '_string',\n",
       " 'ascii_letters',\n",
       " 'ascii_lowercase',\n",
       " 'ascii_uppercase',\n",
       " 'capwords',\n",
       " 'digits',\n",
       " 'hexdigits',\n",
       " 'octdigits',\n",
       " 'printable',\n",
       " 'punctuation',\n",
       " 'whitespace']"
      ]
     },
     "execution_count": 126,
     "metadata": {},
     "output_type": "execute_result"
    }
   ],
   "source": [
    "import string\n",
    "name='praveen'\n",
    "dir(name)\n",
    "dir(string)"
   ]
  },
  {
   "cell_type": "code",
   "execution_count": 127,
   "id": "be91d62a-af58-4ff5-beb3-73ba9de0e543",
   "metadata": {},
   "outputs": [
    {
     "name": "stdout",
     "output_type": "stream",
     "text": [
      "1\n",
      "5\n",
      "9\n"
     ]
    }
   ],
   "source": [
    "str1='hai hai hai'\n",
    "# i want to know all the indexes of 'a'\n",
    "for i in range (len(str1)):\n",
    "    if str1[i]=='a':\n",
    "        print(i)"
   ]
  },
  {
   "cell_type": "code",
   "execution_count": 129,
   "id": "8731b142-029e-4544-be1b-6addeef6878d",
   "metadata": {},
   "outputs": [
    {
     "name": "stdout",
     "output_type": "stream",
     "text": [
      "1\n"
     ]
    }
   ],
   "source": [
    "# h  a  i    h   a   i     h   a  i\n",
    "# 0  1  2  3  4  5   6  7  8  9  10\n",
    "\n",
    "str1='hai hai hai hai'\n",
    "i1=str1.index('a')\n",
    "print(i1)"
   ]
  },
  {
   "cell_type": "code",
   "execution_count": 132,
   "id": "4b9084de-90aa-487a-8aa0-a643d42056bf",
   "metadata": {},
   "outputs": [
    {
     "name": "stdout",
     "output_type": "stream",
     "text": [
      "5\n"
     ]
    }
   ],
   "source": [
    "i2=str1.index('a',i1+1)\n",
    "print(i2)"
   ]
  },
  {
   "cell_type": "code",
   "execution_count": 144,
   "id": "19de7479-af27-4d3d-9230-b6f9f588c68a",
   "metadata": {},
   "outputs": [
    {
     "name": "stdout",
     "output_type": "stream",
     "text": [
      "9\n"
     ]
    }
   ],
   "source": [
    "i3=str1.index('a',i2+1)\n",
    "print(i3)"
   ]
  },
  {
   "cell_type": "code",
   "execution_count": 149,
   "id": "19d848f8-81c3-4e69-81a1-f2d3fa030e72",
   "metadata": {},
   "outputs": [
    {
     "name": "stdout",
     "output_type": "stream",
     "text": [
      "13\n"
     ]
    }
   ],
   "source": [
    "i4=str1.index('a',i3+1)\n",
    "print(i4)"
   ]
  },
  {
   "cell_type": "code",
   "execution_count": null,
   "id": "228291b9-9f6b-4d28-b529-05d35d1a6c29",
   "metadata": {},
   "outputs": [],
   "source": []
  },
  {
   "cell_type": "code",
   "execution_count": 148,
   "id": "a01718d6-710e-49f2-85a2-09e7953b7150",
   "metadata": {},
   "outputs": [
    {
     "name": "stdout",
     "output_type": "stream",
     "text": [
      "1\n",
      "5\n",
      "9\n",
      "13\n"
     ]
    }
   ],
   "source": [
    "\n",
    "\n",
    "\n",
    "str1='hai hai hai hai'\n",
    "i1=str1.index('a')\n",
    "print(i1)  # 1\n",
    "i2=str1.index('a',i1+1)\n",
    "print(i2)   # 5\n",
    "i3=str1.index('a',i2+1)\n",
    "print(i3)   # 9\n",
    "i4=str1.index('a',i3+1)\n",
    "print(i4)   #"
   ]
  },
  {
   "cell_type": "code",
   "execution_count": null,
   "id": "d6dafd5a-2ea4-4d18-82ce-224b641b57ea",
   "metadata": {},
   "outputs": [],
   "source": []
  },
  {
   "cell_type": "code",
   "execution_count": 155,
   "id": "924604bc-fe05-4921-a219-3541d78955f3",
   "metadata": {},
   "outputs": [
    {
     "name": "stdout",
     "output_type": "stream",
     "text": [
      "1\n",
      "5\n",
      "9\n",
      "13\n",
      "-1\n"
     ]
    }
   ],
   "source": [
    "str1='hai hai hai hai'\n",
    "i1=str1.find('a')\n",
    "print(i1)\n",
    "i2=str1.find('a',i1+1)\n",
    "print(i2)\n",
    "i3=str1.find('a',i2+1)\n",
    "print(i3)\n",
    "i4=str1.find('a',i3+1)\n",
    "print(i4)\n",
    "i5=str1.find('a',i4+1)\n",
    "print(i5)"
   ]
  },
  {
   "cell_type": "code",
   "execution_count": null,
   "id": "97aad54f-e203-4d3f-97d0-bf99da1e694d",
   "metadata": {},
   "outputs": [],
   "source": [
    "str1='hai hai hai hai'\n",
    "i1=str1.find('a')\n",
    "print(i1)"
   ]
  },
  {
   "cell_type": "code",
   "execution_count": null,
   "id": "03e8599c-48c4-4f7b-b1d0-f758ecd7e17c",
   "metadata": {},
   "outputs": [],
   "source": [
    "str1.index()   # raises value error when the substring is not \n",
    "str1.find()    # return -1 on failure\n"
   ]
  },
  {
   "cell_type": "code",
   "execution_count": 156,
   "id": "108303b9-987e-4c59-a7cd-031a2d64a70f",
   "metadata": {},
   "outputs": [
    {
     "data": {
      "text/plain": [
       "'hai hai hai hai'"
      ]
     },
     "execution_count": 156,
     "metadata": {},
     "output_type": "execute_result"
    }
   ],
   "source": [
    "str1='hai hai hai hai'\n",
    "str1.replace('z','z')"
   ]
  },
  {
   "cell_type": "code",
   "execution_count": 157,
   "id": "b74b0430-134c-42a2-9338-06cf6b3c4a39",
   "metadata": {},
   "outputs": [
    {
     "data": {
      "text/plain": [
       "'hzi hzi hzi hzi'"
      ]
     },
     "execution_count": 157,
     "metadata": {},
     "output_type": "execute_result"
    }
   ],
   "source": [
    "str1='hai hai hai hai'\n",
    "str1.replace('a','z')"
   ]
  },
  {
   "cell_type": "markdown",
   "id": "2f7fd0a4-be80-4667-b165-0319fc36663b",
   "metadata": {},
   "source": [
    "- if substring not found \n",
    "- Count method will will give zero\n",
    "- Replace method will give original string\n",
    "- index will give **sub string not found error**\n",
    "- find will give -1"
   ]
  },
  {
   "cell_type": "code",
   "execution_count": null,
   "id": "b71df482-4eea-4866-8f48-9aa788444dbd",
   "metadata": {},
   "outputs": [],
   "source": [
    "str1='omkar.nallagoni@cognizant.com'\n",
    "# first name = omkar\n",
    "# second name = nallagoni\n",
    "# company name  = cognizant\n",
    "str2='virat kohli@rcb.com'\n",
    "str3='rohit.sharma@mi.com'\n",
    "str4='a.b@c.com'\n",
    "\n",
    "# Idea : find the trigers \n",
    "# for first name: \n",
    "# second name     . and @ \n",
    "# company name        @ and second .\n",
    "# i1 = first dot index\n",
    "# i2 = @ index\n",
    "# i3 = second index\n",
    "\n",
    "str1='omkar.nallagoni@cognizant.com'\n"
   ]
  },
  {
   "cell_type": "code",
   "execution_count": 169,
   "id": "53d17086-a433-4985-bfb9-4e43720f2d5d",
   "metadata": {},
   "outputs": [
    {
     "name": "stdout",
     "output_type": "stream",
     "text": [
      "5\n",
      "15\n",
      "25\n"
     ]
    }
   ],
   "source": [
    "str1='omkar.nallagoni@cognizant.com'\n",
    "i1=str1.find('.')\n",
    "print(i1)\n",
    "i2=str1.find(\"@\",i1+1)\n",
    "print(i2)\n",
    "i3=str1.find('.',i2+1)\n",
    "print(i3)\n"
   ]
  },
  {
   "cell_type": "code",
   "execution_count": 168,
   "id": "1c7ff873-3410-4047-ac33-a30ad6a74f30",
   "metadata": {},
   "outputs": [
    {
     "data": {
      "text/plain": [
       "('omkar', 'i', 'cognizant')"
      ]
     },
     "execution_count": 168,
     "metadata": {},
     "output_type": "execute_result"
    }
   ],
   "source": [
    "str1='omkar.nallagoni@cognizant.com'\n",
    "i1=str1.index('.')\n",
    "\n",
    "i2=str1.index('@')\n",
    "\n",
    "i3=str1.index('.',i1+1)\n",
    "\n",
    "first_name=str1[:i1]\n",
    "second_name=str1[i1+i2]\n",
    "cname=str1[i2+1:i3]\n",
    "\n",
    "first_name,second_name,cname\n"
   ]
  },
  {
   "cell_type": "code",
   "execution_count": null,
   "id": "bb8a5ba3-d1b2-4993-a45c-f69c52d25eda",
   "metadata": {},
   "outputs": [],
   "source": []
  },
  {
   "cell_type": "code",
   "execution_count": null,
   "id": "71d6ebd9-f6f6-44fb-a5fb-77b1dbb1e916",
   "metadata": {},
   "outputs": [],
   "source": []
  },
  {
   "cell_type": "code",
   "execution_count": null,
   "id": "0462ee50-0194-4f49-9729-bb8534674ee4",
   "metadata": {},
   "outputs": [],
   "source": []
  },
  {
   "cell_type": "code",
   "execution_count": null,
   "id": "8dfd8fa4-6b07-4b67-b515-5294ed10830d",
   "metadata": {},
   "outputs": [],
   "source": []
  },
  {
   "cell_type": "code",
   "execution_count": null,
   "id": "6e5ca815-fddb-41e9-a53e-1326f29279d3",
   "metadata": {},
   "outputs": [],
   "source": []
  }
 ],
 "metadata": {
  "kernelspec": {
   "display_name": "Python 3 (ipykernel)",
   "language": "python",
   "name": "python3"
  },
  "language_info": {
   "codemirror_mode": {
    "name": "ipython",
    "version": 3
   },
   "file_extension": ".py",
   "mimetype": "text/x-python",
   "name": "python",
   "nbconvert_exporter": "python",
   "pygments_lexer": "ipython3",
   "version": "3.11.7"
  }
 },
 "nbformat": 4,
 "nbformat_minor": 5
}
