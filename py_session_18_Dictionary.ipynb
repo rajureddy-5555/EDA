{
 "cells": [
  {
   "cell_type": "code",
   "execution_count": null,
   "id": "679af9c4-b7b3-4547-b342-de2a24b20ad7",
   "metadata": {},
   "outputs": [],
   "source": [
    "# In lambda function\n",
    "# write if_else\n",
    "# <if_ou> if else if out"
   ]
  },
  {
   "cell_type": "markdown",
   "id": "30b19cfc-e4ac-4a02-8f63-0fb9ad77299c",
   "metadata": {},
   "source": [
    "**Dictionary**\n",
    "\n",
    "- we already seen many data types\n",
    "\n",
    "- string\n",
    "\n",
    "- list\n",
    "\n",
    "- tuple\n",
    "\n",
    "- set\n",
    "\n",
    "- Dictionary\n",
    "\n",
    "- int float bool complex\n",
    "\n",
    "- range"
   ]
  },
  {
   "cell_type": "code",
   "execution_count": 2,
   "id": "f2fe6f7f-434f-4595-b3d8-7375eda18ed6",
   "metadata": {},
   "outputs": [],
   "source": [
    "# By using lambda list reduce\n",
    "\n",
    "str=b'hello'"
   ]
  },
  {
   "cell_type": "code",
   "execution_count": null,
   "id": "d40f4faa-37f9-4317-b865-f1f4dfecd3de",
   "metadata": {},
   "outputs": [],
   "source": [
    "string=''\n",
    "list=[]\n",
    "tuple=()\n",
    "set={}\n",
    "dictionary={key : value}"
   ]
  },
  {
   "cell_type": "markdown",
   "id": "5895939d-2586-4dac-ab33-c230f06d0db9",
   "metadata": {},
   "source": [
    "**ZIP**"
   ]
  },
  {
   "cell_type": "code",
   "execution_count": 3,
   "id": "72971437-e8ed-4b3c-96fb-6c0cee488557",
   "metadata": {},
   "outputs": [
    {
     "name": "stdout",
     "output_type": "stream",
     "text": [
      "ramesh 20\n",
      "suresh 25\n",
      "sathish 30\n"
     ]
    }
   ],
   "source": [
    "names=['ramesh','suresh','sathish']\n",
    "age=[20,25,30]\n",
    "\n",
    "for i,j in zip(names,age):\n",
    "    print(i,j)"
   ]
  },
  {
   "cell_type": "code",
   "execution_count": 5,
   "id": "04f48789-91db-430a-80e1-dd6fac6ada56",
   "metadata": {},
   "outputs": [
    {
     "data": {
      "text/plain": [
       "[('ramesh', 20), ('suresh', 25), ('sathish', 30)]"
      ]
     },
     "execution_count": 5,
     "metadata": {},
     "output_type": "execute_result"
    }
   ],
   "source": [
    "list(zip(names,age))"
   ]
  },
  {
   "cell_type": "code",
   "execution_count": null,
   "id": "06af0c77-93c1-4dc7-ba0c-2b935dfcdda6",
   "metadata": {},
   "outputs": [],
   "source": [
    "dict1={<key> : <value>}\n",
    "names=['ramesh','suresh','sathish']\n",
    "age=[20,25,30]\n",
    "\n",
    "'ramesh' is the key ======== 20 its related value\n",
    "\n",
    "dict1={'ramesh':20,'suresh':25,'sathish':30}"
   ]
  },
  {
   "cell_type": "code",
   "execution_count": 9,
   "id": "5e6b744f-ab8c-4c90-b9e7-e645914e387e",
   "metadata": {},
   "outputs": [
    {
     "data": {
      "text/plain": [
       "dict"
      ]
     },
     "execution_count": 9,
     "metadata": {},
     "output_type": "execute_result"
    }
   ],
   "source": [
    "dict1={'ramesh':20,'suresh':25,'sathish':30}\n",
    "type(dict1)"
   ]
  },
  {
   "cell_type": "code",
   "execution_count": 12,
   "id": "17e4ccbd-d328-4bd5-b7d7-7caed26d06d7",
   "metadata": {},
   "outputs": [
    {
     "data": {
      "text/plain": [
       "('ramesh', 3)"
      ]
     },
     "execution_count": 12,
     "metadata": {},
     "output_type": "execute_result"
    }
   ],
   "source": [
    "min(dict1), len(dict1), max(dict1), "
   ]
  },
  {
   "cell_type": "code",
   "execution_count": null,
   "id": "6925de11-ddb3-4b80-ae80-a1c37b508b51",
   "metadata": {},
   "outputs": [],
   "source": []
  },
  {
   "cell_type": "code",
   "execution_count": null,
   "id": "93cc3e31-3422-4a89-8715-a723765cc461",
   "metadata": {},
   "outputs": [],
   "source": []
  },
  {
   "cell_type": "markdown",
   "id": "6294a3f9-8810-44d3-b05f-9c50167bfae8",
   "metadata": {},
   "source": [
    "**create all types of dictionaries**"
   ]
  },
  {
   "cell_type": "code",
   "execution_count": null,
   "id": "4d4c2d33-fd0d-4367-896f-20dd6f9d2659",
   "metadata": {},
   "outputs": [],
   "source": []
  },
  {
   "cell_type": "code",
   "execution_count": null,
   "id": "232e612b-2ebf-45f3-9d13-857200bcdc8c",
   "metadata": {},
   "outputs": [],
   "source": []
  },
  {
   "cell_type": "code",
   "execution_count": null,
   "id": "5934a0a4-3aaa-4c85-a436-2d9d19a55a3c",
   "metadata": {},
   "outputs": [],
   "source": []
  },
  {
   "cell_type": "code",
   "execution_count": null,
   "id": "c66162f0-e9b7-46c8-b518-ad97d31787c4",
   "metadata": {},
   "outputs": [],
   "source": [
    "- initialisation\n",
    "\n",
    "- min\n",
    "\n",
    "- max\n",
    "\n",
    "- "
   ]
  },
  {
   "cell_type": "code",
   "execution_count": 13,
   "id": "e9401af0-d29e-4a64-bb69-777ee2ef7e2c",
   "metadata": {},
   "outputs": [
    {
     "data": {
      "text/plain": [
       "{'manish': 25, 'shubam': 15, 'govind': 15}"
      ]
     },
     "execution_count": 13,
     "metadata": {},
     "output_type": "execute_result"
    }
   ],
   "source": [
    "d1={'manish':25,'shubam':15,'govind':15}\n",
    "d2={'manish':'25','shubam':'15','govind':'15'}\n",
    "d3={25:'manish',15:'shubam',15:'govind'}\n",
    "d4={25:50}\n",
    "d5={'friutes':['apple','cherry']}\n",
    "d6={['apple','cherry']:'fruites'}\n",
    "d7={('apple','cherry'):'fruites'}\n",
    "d8={'ajay':25,'ajay':30}\n",
    "d9={25:'ajay',30:'ajay'}\n",
    "d10="
   ]
  },
  {
   "cell_type": "code",
   "execution_count": null,
   "id": "1b2f83ca-9b06-4c20-8b9e-f7371b8da50e",
   "metadata": {},
   "outputs": [],
   "source": [
    "list is not used as key"
   ]
  },
  {
   "cell_type": "code",
   "execution_count": 15,
   "id": "a1deff65-c692-4184-9c66-bc0e4be803d8",
   "metadata": {},
   "outputs": [
    {
     "data": {
      "text/plain": [
       "{('apple', 'cherry'): 'fruites'}"
      ]
     },
     "execution_count": 15,
     "metadata": {},
     "output_type": "execute_result"
    }
   ],
   "source": [
    "d7={('apple','cherry'): 'fruites'}\n",
    "d7"
   ]
  },
  {
   "cell_type": "code",
   "execution_count": null,
   "id": "ba24f0c8-da44-42be-b343-423098262950",
   "metadata": {},
   "outputs": [],
   "source": [
    "d8={'ajay':25,:30}"
   ]
  },
  {
   "cell_type": "markdown",
   "id": "c559c2eb-da1b-45ed-8206-19d99c6dc8a7",
   "metadata": {},
   "source": [
    "**keys**\n",
    "\n",
    "**keys are important**  \n",
    "\n",
    "-keys have only latest value\n",
    "\n",
    "- No duplicate keys\n",
    "  \n",
    "- keys should be only one\n",
    "\n",
    "- values can be duplicate\n",
    "\n",
    "- which means different keys can have same values\n",
    "\n",
    "- list can not be a key, Because lost are mutable\n",
    "\n",
    "- tuple can be a key, Because tuple are immutable"
   ]
  },
  {
   "cell_type": "code",
   "execution_count": 19,
   "id": "0ee1440f-c530-47da-9e44-29d2ee0b0cdb",
   "metadata": {},
   "outputs": [
    {
     "data": {
      "text/plain": [
       "'shubam'"
      ]
     },
     "execution_count": 19,
     "metadata": {},
     "output_type": "execute_result"
    }
   ],
   "source": [
    "d1={'manish':25,'shubam':15,'govind':15}\n",
    "max(d1)"
   ]
  },
  {
   "cell_type": "code",
   "execution_count": 20,
   "id": "8c2097e3-5064-400c-a4d5-d3da8d115484",
   "metadata": {},
   "outputs": [
    {
     "data": {
      "text/plain": [
       "'shubam'"
      ]
     },
     "execution_count": 20,
     "metadata": {},
     "output_type": "execute_result"
    }
   ],
   "source": [
    "d2={'manish':'25','shubam':'15','govind':'15'}\n",
    "max(d2)"
   ]
  },
  {
   "cell_type": "code",
   "execution_count": 26,
   "id": "346e2da7-ba41-4b82-ab70-e3a033b4c0e1",
   "metadata": {},
   "outputs": [
    {
     "data": {
      "text/plain": [
       "25"
      ]
     },
     "execution_count": 26,
     "metadata": {},
     "output_type": "execute_result"
    }
   ],
   "source": [
    "d3={25:'manish',15:'shubam',15:'govind'}\n",
    "max(d3)"
   ]
  },
  {
   "cell_type": "code",
   "execution_count": 21,
   "id": "ea56803f-f32b-4de4-9f97-8965772447ac",
   "metadata": {},
   "outputs": [
    {
     "data": {
      "text/plain": [
       "25"
      ]
     },
     "execution_count": 21,
     "metadata": {},
     "output_type": "execute_result"
    }
   ],
   "source": [
    "d4={25:50}\n",
    "max(d4)"
   ]
  },
  {
   "cell_type": "code",
   "execution_count": 22,
   "id": "83ed00ad-4b41-437a-aed9-5f08e079e106",
   "metadata": {},
   "outputs": [
    {
     "ename": "TypeError",
     "evalue": "'>' not supported between instances of 'str' and 'int'",
     "output_type": "error",
     "traceback": [
      "\u001b[1;31m---------------------------------------------------------------------------\u001b[0m",
      "\u001b[1;31mTypeError\u001b[0m                                 Traceback (most recent call last)",
      "Cell \u001b[1;32mIn[22], line 2\u001b[0m\n\u001b[0;32m      1\u001b[0m d5\u001b[38;5;241m=\u001b[39m{\u001b[38;5;241m25\u001b[39m:\u001b[38;5;124m'\u001b[39m\u001b[38;5;124mmanish\u001b[39m\u001b[38;5;124m'\u001b[39m,\u001b[38;5;124m'\u001b[39m\u001b[38;5;124m15\u001b[39m\u001b[38;5;124m'\u001b[39m:\u001b[38;5;124m'\u001b[39m\u001b[38;5;124mshubam\u001b[39m\u001b[38;5;124m'\u001b[39m,\u001b[38;5;241m15\u001b[39m:\u001b[38;5;124m'\u001b[39m\u001b[38;5;124mgovind\u001b[39m\u001b[38;5;124m'\u001b[39m}\n\u001b[1;32m----> 2\u001b[0m \u001b[38;5;28mmax\u001b[39m(d5)\n",
      "\u001b[1;31mTypeError\u001b[0m: '>' not supported between instances of 'str' and 'int'"
     ]
    }
   ],
   "source": [
    "d5={25:'manish','15':'shubam',15:'govind'}\n",
    "max(d5)"
   ]
  },
  {
   "cell_type": "code",
   "execution_count": 23,
   "id": "0d529400-df6a-43a4-accd-97137586a444",
   "metadata": {},
   "outputs": [
    {
     "data": {
      "text/plain": [
       "20"
      ]
     },
     "execution_count": 23,
     "metadata": {},
     "output_type": "execute_result"
    }
   ],
   "source": [
    "d6={20:'manish',20:'shubam',20:'govind'}\n",
    "max(d6)"
   ]
  },
  {
   "cell_type": "code",
   "execution_count": 25,
   "id": "b57b11f9-d49d-4c0b-a2d7-20e46e8bf245",
   "metadata": {},
   "outputs": [
    {
     "data": {
      "text/plain": [
       "'shubam'"
      ]
     },
     "execution_count": 25,
     "metadata": {},
     "output_type": "execute_result"
    }
   ],
   "source": [
    "d7={'manish':20,'shubam':20,'govind':20}\n",
    "max(d7)"
   ]
  },
  {
   "cell_type": "code",
   "execution_count": 30,
   "id": "b0b9127d-4a99-474c-b71d-320174c2bcaf",
   "metadata": {},
   "outputs": [
    {
     "data": {
      "text/plain": [
       "['govind', 'shubam', 'manish']"
      ]
     },
     "execution_count": 30,
     "metadata": {},
     "output_type": "execute_result"
    }
   ],
   "source": [
    "d7={'manish':20,'shubam':20,'govind':20}\n",
    "list(reversed(d7))"
   ]
  },
  {
   "cell_type": "markdown",
   "id": "1a4a28c1-1578-4982-be15-2f4c805be4d2",
   "metadata": {},
   "source": [
    "**reversed**\n",
    "\n",
    "- you might have think dictionay will reverse\n",
    "\n",
    "- when you apply reversed, then you got to know\n",
    "\n",
    "- only key will come in reverse"
   ]
  },
  {
   "cell_type": "markdown",
   "id": "8be9c993-080f-4448-81b1-ef1a944b99b8",
   "metadata": {},
   "source": [
    "**In**"
   ]
  },
  {
   "cell_type": "code",
   "execution_count": 31,
   "id": "a3f2db2e-72b9-4d83-9c59-c1f692b4409d",
   "metadata": {},
   "outputs": [
    {
     "name": "stdout",
     "output_type": "stream",
     "text": [
      "manish\n",
      "shubam\n",
      "govind\n"
     ]
    }
   ],
   "source": [
    "d1={'manish':25,'shubam':15,'govind':15}\n",
    "for i in d1:\n",
    "    print(i)"
   ]
  },
  {
   "cell_type": "code",
   "execution_count": 32,
   "id": "40fce684-82d4-48de-9f92-ba467f087b7d",
   "metadata": {},
   "outputs": [
    {
     "data": {
      "text/plain": [
       "True"
      ]
     },
     "execution_count": 32,
     "metadata": {},
     "output_type": "execute_result"
    }
   ],
   "source": [
    "'manish' in d1"
   ]
  },
  {
   "cell_type": "markdown",
   "id": "7b1b0237-f5e0-4463-ae40-f1208e61f5eb",
   "metadata": {},
   "source": [
    "**Index**"
   ]
  },
  {
   "cell_type": "code",
   "execution_count": 33,
   "id": "a5f86b69-02b8-4511-91a7-879edbd3673d",
   "metadata": {},
   "outputs": [
    {
     "ename": "KeyError",
     "evalue": "0",
     "output_type": "error",
     "traceback": [
      "\u001b[1;31m---------------------------------------------------------------------------\u001b[0m",
      "\u001b[1;31mKeyError\u001b[0m                                  Traceback (most recent call last)",
      "Cell \u001b[1;32mIn[33], line 4\u001b[0m\n\u001b[0;32m      1\u001b[0m d1\u001b[38;5;241m=\u001b[39m{\u001b[38;5;124m'\u001b[39m\u001b[38;5;124mmanish\u001b[39m\u001b[38;5;124m'\u001b[39m:\u001b[38;5;241m25\u001b[39m,\u001b[38;5;124m'\u001b[39m\u001b[38;5;124mshubam\u001b[39m\u001b[38;5;124m'\u001b[39m:\u001b[38;5;241m20\u001b[39m,\u001b[38;5;124m'\u001b[39m\u001b[38;5;124mgovind\u001b[39m\u001b[38;5;124m'\u001b[39m:\u001b[38;5;241m15\u001b[39m}\n\u001b[0;32m      2\u001b[0m \u001b[38;5;66;03m# if you want retrieve the values\u001b[39;00m\n\u001b[0;32m      3\u001b[0m \u001b[38;5;66;03m# python will never give 'manish':25\u001b[39;00m\n\u001b[1;32m----> 4\u001b[0m d1[\u001b[38;5;241m0\u001b[39m]\n",
      "\u001b[1;31mKeyError\u001b[0m: 0"
     ]
    }
   ],
   "source": [
    "d1={'manish':25,'shubam':20,'govind':15}\n",
    "# if you want retrieve the values\n",
    "# python will never give 'manish':25\n",
    "d1[0]"
   ]
  },
  {
   "cell_type": "code",
   "execution_count": 34,
   "id": "a17b0f81-edef-478c-9d86-afe724be10f0",
   "metadata": {},
   "outputs": [
    {
     "data": {
      "text/plain": [
       "25"
      ]
     },
     "execution_count": 34,
     "metadata": {},
     "output_type": "execute_result"
    }
   ],
   "source": [
    "d1={'manish':25,'shubam':20,'govindh':15}\n",
    "\n",
    "d1['manish']"
   ]
  },
  {
   "cell_type": "code",
   "execution_count": 36,
   "id": "0038cdfb-da4d-44e4-8dd0-a2d796071099",
   "metadata": {},
   "outputs": [
    {
     "name": "stdout",
     "output_type": "stream",
     "text": [
      "manish has age 25\n",
      "shubam has age 20\n",
      "govindh has age 15\n"
     ]
    }
   ],
   "source": [
    "for i in d1:\n",
    "    print(f\"{i} has age {d1[i]}\")"
   ]
  },
  {
   "cell_type": "code",
   "execution_count": 38,
   "id": "35e0c9f9-af61-47af-97a7-eb4559de4989",
   "metadata": {},
   "outputs": [
    {
     "name": "stdout",
     "output_type": "stream",
     "text": [
      "vignesh has age 20\n",
      "mohit has age 25\n",
      "nagesh has age 30\n"
     ]
    }
   ],
   "source": [
    "names=['vignesh','mohit','nagesh']\n",
    "age=[20,25,30]\n",
    "for i,j in zip(names,age):\n",
    "    print(f\"{i} has age {j}\")"
   ]
  },
  {
   "cell_type": "markdown",
   "id": "6fd77b59-cfd0-4c70-957d-7cbcad0f653c",
   "metadata": {},
   "source": [
    "**dictionary to list**"
   ]
  },
  {
   "cell_type": "code",
   "execution_count": 42,
   "id": "d3d645a1-318b-4705-ba15-4642828ba047",
   "metadata": {},
   "outputs": [
    {
     "data": {
      "text/plain": [
       "[25, 20, 15]"
      ]
     },
     "execution_count": 42,
     "metadata": {},
     "output_type": "execute_result"
    }
   ],
   "source": [
    "d1={'manish':25,'shubam':20,'govindh':15}\n",
    "keys,values=[],[]\n",
    "for i in d1:\n",
    "    keys.append(i)\n",
    "    values.append(d1[i])\n",
    "\n",
    "values"
   ]
  },
  {
   "cell_type": "code",
   "execution_count": null,
   "id": "d57b49ff-00d1-463b-a091-4380c38c05d9",
   "metadata": {},
   "outputs": [],
   "source": [
    "keys=[i for i in d1]\n",
    "values=[]"
   ]
  },
  {
   "cell_type": "code",
   "execution_count": 43,
   "id": "cbef2211-ba30-43db-9cdd-20e72da705d7",
   "metadata": {},
   "outputs": [
    {
     "data": {
      "text/plain": [
       "[20]"
      ]
     },
     "execution_count": 43,
     "metadata": {},
     "output_type": "execute_result"
    }
   ],
   "source": []
  },
  {
   "cell_type": "markdown",
   "id": "55fc1dd7-6875-4d6b-8293-a74fadcba1cb",
   "metadata": {},
   "source": [
    "**how to create a empty list**"
   ]
  },
  {
   "cell_type": "code",
   "execution_count": 44,
   "id": "63722df4-76d0-403a-97fd-0a2a85cb95ee",
   "metadata": {},
   "outputs": [
    {
     "data": {
      "text/plain": [
       "[20]"
      ]
     },
     "execution_count": 44,
     "metadata": {},
     "output_type": "execute_result"
    }
   ],
   "source": [
    "l=[]\n",
    "l.append(20)\n",
    "l"
   ]
  },
  {
   "cell_type": "markdown",
   "id": "83b16f4d-1c22-4c07-bfe4-3e5033d38e37",
   "metadata": {},
   "source": [
    "**empty string**"
   ]
  },
  {
   "cell_type": "markdown",
   "id": "7a40598c-61d8-4536-8997-f9e8fe04c041",
   "metadata": {},
   "source": []
  },
  {
   "cell_type": "markdown",
   "id": "d7e15cd0-1cb1-4dbc-8d24-28c74bc4147b",
   "metadata": {},
   "source": [
    "**empty dictionary**"
   ]
  },
  {
   "cell_type": "code",
   "execution_count": 51,
   "id": "dbb44b55-d1b1-4c6a-9064-55f17c124a03",
   "metadata": {},
   "outputs": [
    {
     "data": {
      "text/plain": [
       "dict"
      ]
     },
     "execution_count": 51,
     "metadata": {},
     "output_type": "execute_result"
    }
   ],
   "source": [
    "d={}\n",
    "#  d[<key>] = <value>\n",
    "type(d)"
   ]
  },
  {
   "cell_type": "code",
   "execution_count": 52,
   "id": "d22fcce5-dde6-4b4a-91d5-b20b5aa6e534",
   "metadata": {},
   "outputs": [
    {
     "data": {
      "text/plain": [
       "{'vignesh': 20, 'mihit': 25, 'nagesh': 30}"
      ]
     },
     "execution_count": 52,
     "metadata": {},
     "output_type": "execute_result"
    }
   ],
   "source": [
    "d={}\n",
    "d['vignesh']=20\n",
    "d['mihit']=25\n",
    "d['nagesh']=30\n",
    "d"
   ]
  },
  {
   "cell_type": "code",
   "execution_count": 55,
   "id": "4f501cb3-b37f-480a-b7e4-52607848a760",
   "metadata": {},
   "outputs": [
    {
     "data": {
      "text/plain": [
       "{'vignesh': 20, 'mihit': 25, 'nagesh': 30}"
      ]
     },
     "execution_count": 55,
     "metadata": {},
     "output_type": "execute_result"
    }
   ],
   "source": [
    "names=['vignesh','mihit','nagesh']\n",
    "age=[20,25,30]\n",
    "raj={}\n",
    "for i,j in zip(names,age):\n",
    "    raj[i]=j\n",
    "raj"
   ]
  },
  {
   "cell_type": "markdown",
   "id": "3cf8daf4-0366-4c26-9a41-2fc44ba4a96e",
   "metadata": {},
   "source": [
    "**string to list**"
   ]
  },
  {
   "cell_type": "code",
   "execution_count": 56,
   "id": "4e72f978-5e2d-4673-bc3c-ffd00c2ddd5e",
   "metadata": {},
   "outputs": [
    {
     "data": {
      "text/plain": [
       "['hello', 'hai', 'how', 'are', 'you']"
      ]
     },
     "execution_count": 56,
     "metadata": {},
     "output_type": "execute_result"
    }
   ],
   "source": [
    "s='hello hai how are you'\n",
    "s.split()"
   ]
  },
  {
   "cell_type": "markdown",
   "id": "0e1bbc06-57a0-4589-9aa1-3c0e48626a1a",
   "metadata": {},
   "source": [
    "**word frequency**"
   ]
  },
  {
   "cell_type": "code",
   "execution_count": 61,
   "id": "f1e76dd6-672f-434b-ab1f-b3d6d6204136",
   "metadata": {},
   "outputs": [
    {
     "data": {
      "text/plain": [
       "{'hello': 1, 'hai': 1, 'how': 1, 'are': 1, 'you': 1}"
      ]
     },
     "execution_count": 61,
     "metadata": {},
     "output_type": "execute_result"
    }
   ],
   "source": [
    "# i/p : s='hello hai how are you'\n",
    "# o/p : {'hello':1,'hai':2,'how':2,'are':1}\n",
    "\n",
    "s='hello hai how are you'\n",
    "words_list=s.split()\n",
    "words_list\n",
    "dict1={}\n",
    "\n",
    "for word in words_list:\n",
    "    dict1[word]=s.count(word)\n",
    "\n",
    "dict1    "
   ]
  },
  {
   "cell_type": "code",
   "execution_count": 62,
   "id": "7ead0bdb-b13a-440e-aa04-920aa0ea47d9",
   "metadata": {},
   "outputs": [
    {
     "data": {
      "text/plain": [
       "{'data': 68, 'science': 115}"
      ]
     },
     "execution_count": 62,
     "metadata": {},
     "output_type": "execute_result"
    }
   ],
   "source": [
    "srtings=\"\"\"Data science is the study of data to extract \n",
    "    meaningful insights for business. It is a multidisciplinary\n",
    "    approach that combines principles and practices from the \n",
    "    fields of mathematics, statistics, artificial intelligence, \n",
    "    and computer engineering to analyze large amounts of data.\"\"\"\n",
    "\n",
    "# task-1: in the above sentence you need to remove a,an,the\n",
    "# task-2: data science first letter ascii value : 68\n",
    "#             science first letter ascii value : 115\n",
    "\n",
    "{'data':68,'science':115}\n"
   ]
  },
  {
   "cell_type": "markdown",
   "id": "2fb34ee7-7169-4e1b-9f9d-918414339bc5",
   "metadata": {},
   "source": [
    "**mutable-immutable**\n",
    "\n",
    "- change the elements using index\n",
    "- but in dictionary there is no index\n",
    "- in dictionary we will change the value based key only\n",
    "- instead of using index, change the values using key\n",
    "- if it is change, it is mutable\n",
    "- if it is not change it is immmutable"
   ]
  },
  {
   "cell_type": "code",
   "execution_count": 63,
   "id": "edebbac4-29a2-4e1e-84b3-4c1214e9b83a",
   "metadata": {},
   "outputs": [],
   "source": [
    "d={'manish':25,'shubam':20,'govindh':15}\n"
   ]
  },
  {
   "cell_type": "markdown",
   "id": "58e125d8-e9ae-400d-9804-5a1832d54bcb",
   "metadata": {},
   "source": [
    "- list and dictionary are mutable\n",
    "- tuple and strings are immutable\n",
    "- difference between list and tuple"
   ]
  },
  {
   "cell_type": "code",
   "execution_count": 66,
   "id": "edf5eb50-305b-454e-890e-650a7f6d46ab",
   "metadata": {},
   "outputs": [
    {
     "data": {
      "text/plain": [
       "'mango'"
      ]
     },
     "execution_count": 66,
     "metadata": {},
     "output_type": "execute_result"
    }
   ],
   "source": [
    "d={'fruits':['mango']}\n",
    "\n",
    "d['fruits'][0]"
   ]
  },
  {
   "cell_type": "code",
   "execution_count": 70,
   "id": "c49bc3b9-85e4-46fe-8dda-2575b2a90c92",
   "metadata": {},
   "outputs": [
    {
     "data": {
      "text/plain": [
       "'kashmir'"
      ]
     },
     "execution_count": 70,
     "metadata": {},
     "output_type": "execute_result"
    }
   ],
   "source": [
    "d={'fruits':[{'apple':['kashmir']}]}\n",
    "d['fruits'][0]['apple'][0]"
   ]
  },
  {
   "cell_type": "code",
   "execution_count": 76,
   "id": "075444af-df82-4cf8-958a-9544407fe390",
   "metadata": {},
   "outputs": [
    {
     "data": {
      "text/plain": [
       "'India'"
      ]
     },
     "execution_count": 76,
     "metadata": {},
     "output_type": "execute_result"
    }
   ],
   "source": [
    "d={'fruits':[\n",
    "    {'apple':\n",
    "     {'kashmir':\n",
    "      ['India']\n",
    "     }\n",
    "    }\n",
    "]\n",
    "  }\n",
    "d['fruits'][0]['apple']['kashmir'][0]"
   ]
  },
  {
   "cell_type": "code",
   "execution_count": 88,
   "id": "19d6654c-b827-4515-aaa6-7ad7b9e53840",
   "metadata": {},
   "outputs": [
    {
     "data": {
      "text/plain": [
       "{'shambaji'}"
      ]
     },
     "execution_count": 88,
     "metadata": {},
     "output_type": "execute_result"
    }
   ],
   "source": [
    "d={'fruits':{'benganapally':{'mango':{'nagpur':{'MH':{'shivaji':{'shambaji'}}}}}}}\n",
    "\n",
    "d['fruits']['benganapally']['mango']['nagpur']['MH']['shivaji']"
   ]
  },
  {
   "cell_type": "code",
   "execution_count": null,
   "id": "98903446-3c7d-44c5-9706-6aa9063b4d63",
   "metadata": {},
   "outputs": [],
   "source": [
    "string\n",
    "list\n",
    "tuple\n",
    "dictionary all are class objects"
   ]
  },
  {
   "cell_type": "code",
   "execution_count": 16,
   "id": "a8b6b4b8-40c0-4155-bc37-d5c2bf7ec3cc",
   "metadata": {},
   "outputs": [
    {
     "name": "stdout",
     "output_type": "stream",
     "text": [
      "<class 'tuple'>\n"
     ]
    }
   ],
   "source": [
    "print(type(()))"
   ]
  },
  {
   "cell_type": "markdown",
   "id": "c1d9bd0d-3aa6-40b5-a20c-8148e28c38bf",
   "metadata": {},
   "source": [
    "**items-keys-values**"
   ]
  },
  {
   "cell_type": "code",
   "execution_count": 1,
   "id": "6d65370b-4be5-4a78-8627-899add39fe63",
   "metadata": {},
   "outputs": [
    {
     "data": {
      "text/plain": [
       "dict_items([('manish', 25), ('shubam', 20), ('govindh', 15)])"
      ]
     },
     "execution_count": 1,
     "metadata": {},
     "output_type": "execute_result"
    }
   ],
   "source": [
    "d=d1={'manish':25,'shubam':20,'govindh':15}\n",
    "d.items()"
   ]
  },
  {
   "cell_type": "code",
   "execution_count": 2,
   "id": "c2573837-d006-4b14-81f7-55890c73cd9c",
   "metadata": {},
   "outputs": [
    {
     "data": {
      "text/plain": [
       "dict_keys(['manish', 'shubam', 'govindh'])"
      ]
     },
     "execution_count": 2,
     "metadata": {},
     "output_type": "execute_result"
    }
   ],
   "source": [
    "d.keys()"
   ]
  },
  {
   "cell_type": "code",
   "execution_count": 3,
   "id": "0944f29e-6caa-4550-a9b3-0365aa4281c4",
   "metadata": {},
   "outputs": [
    {
     "data": {
      "text/plain": [
       "dict_values([25, 20, 15])"
      ]
     },
     "execution_count": 3,
     "metadata": {},
     "output_type": "execute_result"
    }
   ],
   "source": [
    "d.values()"
   ]
  },
  {
   "cell_type": "code",
   "execution_count": 18,
   "id": "5b72e9da-7d08-40b6-85f3-3efddfa70e87",
   "metadata": {},
   "outputs": [
    {
     "name": "stdout",
     "output_type": "stream",
     "text": [
      "manish 25\n",
      "shubam 20\n",
      "govindh 15\n"
     ]
    },
    {
     "data": {
      "text/plain": [
       "(['manish', 'shubam', 'govindh'], [25, 20, 15])"
      ]
     },
     "execution_count": 18,
     "metadata": {},
     "output_type": "execute_result"
    }
   ],
   "source": [
    "d1={'manish':25,'shubam':20,'govindh':15}\n",
    "key,values=[],[]\n",
    "for i in d:\n",
    "    print(i,d[i])\n",
    "    key.append(i)\n",
    "    values.append(d[i])\n",
    "\n",
    "key,values"
   ]
  },
  {
   "cell_type": "code",
   "execution_count": 7,
   "id": "f08dd6e0-c3f4-444a-9850-ae9839f26bc1",
   "metadata": {},
   "outputs": [
    {
     "data": {
      "text/plain": [
       "dict_keys(['manish', 'shubam', 'govindh'])"
      ]
     },
     "execution_count": 7,
     "metadata": {},
     "output_type": "execute_result"
    }
   ],
   "source": [
    "d.keys()"
   ]
  },
  {
   "cell_type": "code",
   "execution_count": 10,
   "id": "0801e80a-d989-4673-b658-843961d68d1f",
   "metadata": {},
   "outputs": [
    {
     "data": {
      "text/plain": [
       "dict_keys"
      ]
     },
     "execution_count": 10,
     "metadata": {},
     "output_type": "execute_result"
    }
   ],
   "source": [
    "type(d.keys())"
   ]
  },
  {
   "cell_type": "code",
   "execution_count": 19,
   "id": "c2906ae5-54e0-478f-a25e-578e05794114",
   "metadata": {},
   "outputs": [
    {
     "data": {
      "text/plain": [
       "(['manish', 'shubam', 'govindh'], [25, 20, 15])"
      ]
     },
     "execution_count": 19,
     "metadata": {},
     "output_type": "execute_result"
    }
   ],
   "source": [
    "list(d.keys()),list(d.values())"
   ]
  },
  {
   "cell_type": "markdown",
   "id": "1ed26bf5-7796-4a74-9731-d8a573387855",
   "metadata": {},
   "source": [
    "- Dictionary keys will give dictionary keys items in a list\n",
    "- It looks like a list, but it is not list\n",
    "- which means we can not apply list methods\n",
    "- so we need to convert into list type, by using list type casting"
   ]
  },
  {
   "cell_type": "code",
   "execution_count": 28,
   "id": "e0364e8b-9b7c-4489-9e2a-f239633dc02a",
   "metadata": {},
   "outputs": [
    {
     "data": {
      "text/plain": [
       "list[dict_keys(['manish', 'shubam', 'govindh'])]"
      ]
     },
     "execution_count": 28,
     "metadata": {},
     "output_type": "execute_result"
    }
   ],
   "source": [
    "list[d.keys()]   # it is not a list"
   ]
  },
  {
   "cell_type": "code",
   "execution_count": 26,
   "id": "9031aa8c-faba-408d-a219-8c748b73947f",
   "metadata": {},
   "outputs": [
    {
     "data": {
      "text/plain": [
       "['manish', 'shubam', 'govindh']"
      ]
     },
     "execution_count": 26,
     "metadata": {},
     "output_type": "execute_result"
    }
   ],
   "source": [
    "list(d.keys())"
   ]
  },
  {
   "cell_type": "code",
   "execution_count": 29,
   "id": "08a74285-2d4b-4710-8f78-88a76ca09d30",
   "metadata": {},
   "outputs": [
    {
     "name": "stdout",
     "output_type": "stream",
     "text": [
      "*list[dict_keys(['manish', 'shubam', 'govindh'])]\n"
     ]
    }
   ],
   "source": [
    "for i in list[d.keys()]:\n",
    "    print(i)"
   ]
  },
  {
   "cell_type": "code",
   "execution_count": 30,
   "id": "be46e549-b859-42e0-8681-b0f35ee36e5b",
   "metadata": {},
   "outputs": [
    {
     "data": {
      "text/plain": [
       "types.GenericAlias"
      ]
     },
     "execution_count": 30,
     "metadata": {},
     "output_type": "execute_result"
    }
   ],
   "source": [
    "type(list[d.keys()])"
   ]
  },
  {
   "cell_type": "markdown",
   "id": "d05e2e9d-09b5-45bd-bdd7-a90e00565d70",
   "metadata": {},
   "source": [
    "**method-1**"
   ]
  },
  {
   "cell_type": "code",
   "execution_count": 38,
   "id": "cd18dc4f-2bd6-4056-a287-662aa8102612",
   "metadata": {},
   "outputs": [
    {
     "name": "stdout",
     "output_type": "stream",
     "text": [
      "manish 25\n",
      "shubam 20\n",
      "govindh 15\n"
     ]
    },
    {
     "data": {
      "text/plain": [
       "(['manish', 'shubam', 'govindh'], [25, 20, 15])"
      ]
     },
     "execution_count": 38,
     "metadata": {},
     "output_type": "execute_result"
    }
   ],
   "source": [
    "d1={'manish':25,'shubam':20,'govindh':15}\n",
    "key,values=[],[]\n",
    "for i in d:\n",
    "    print(i,d[i])\n",
    "    key.append(i)\n",
    "    values.append(d[i])\n",
    "\n",
    "key,values"
   ]
  },
  {
   "cell_type": "markdown",
   "id": "6187af9b-41e3-47fe-a372-5533fcd4eeaf",
   "metadata": {},
   "source": [
    "**method-2**"
   ]
  },
  {
   "cell_type": "code",
   "execution_count": null,
   "id": "4d4cb405-2cec-4fc9-bdc9-e295e59391e9",
   "metadata": {},
   "outputs": [],
   "source": [
    "d={'vignesh':20,'mohit':25,'nagesh':30}\n"
   ]
  },
  {
   "cell_type": "code",
   "execution_count": 31,
   "id": "1907db5f-f3f0-4d89-88c2-151d76ded771",
   "metadata": {},
   "outputs": [
    {
     "data": {
      "text/plain": [
       "dict_items([('manish', 25), ('shubam', 20), ('govindh', 15)])"
      ]
     },
     "execution_count": 31,
     "metadata": {},
     "output_type": "execute_result"
    }
   ],
   "source": [
    "d.items()"
   ]
  },
  {
   "cell_type": "code",
   "execution_count": 36,
   "id": "5fb7c393-074c-4256-8688-472be9ade40f",
   "metadata": {},
   "outputs": [
    {
     "name": "stdout",
     "output_type": "stream",
     "text": [
      "manish 25\n",
      "shubam 20\n",
      "govindh 15\n"
     ]
    }
   ],
   "source": [
    "for i,j in d.items():\n",
    "    print(i,j)"
   ]
  },
  {
   "cell_type": "code",
   "execution_count": 37,
   "id": "5b5c14cb-089c-4a77-9889-b9e6347dfd2d",
   "metadata": {},
   "outputs": [
    {
     "name": "stdout",
     "output_type": "stream",
     "text": [
      "manish 25\n",
      "shubam 20\n",
      "govindh 15\n"
     ]
    },
    {
     "data": {
      "text/plain": [
       "(['manish', 'shubam', 'govindh'], [25, 20, 15])"
      ]
     },
     "execution_count": 37,
     "metadata": {},
     "output_type": "execute_result"
    }
   ],
   "source": [
    "keys,values=[],[]\n",
    "for i,j in d.items():\n",
    "    print(i,j)\n",
    "    keys.append(i)\n",
    "    values.append(j)\n",
    "keys,values"
   ]
  },
  {
   "cell_type": "code",
   "execution_count": 35,
   "id": "abfadf26-b0d5-4e0d-a932-bab457ac3258",
   "metadata": {},
   "outputs": [
    {
     "ename": "TypeError",
     "evalue": "cannot unpack non-iterable int object",
     "output_type": "error",
     "traceback": [
      "\u001b[1;31m---------------------------------------------------------------------------\u001b[0m",
      "\u001b[1;31mTypeError\u001b[0m                                 Traceback (most recent call last)",
      "Cell \u001b[1;32mIn[35], line 3\u001b[0m\n\u001b[0;32m      1\u001b[0m a\u001b[38;5;241m=\u001b[39m\u001b[38;5;241m10\u001b[39m,\u001b[38;5;241m20\u001b[39m\n\u001b[0;32m      2\u001b[0m a,b\u001b[38;5;241m=\u001b[39m\u001b[38;5;241m10\u001b[39m,\u001b[38;5;241m20\u001b[39m\n\u001b[1;32m----> 3\u001b[0m a,b\u001b[38;5;241m=\u001b[39m\u001b[38;5;241m10\u001b[39m\n",
      "\u001b[1;31mTypeError\u001b[0m: cannot unpack non-iterable int object"
     ]
    }
   ],
   "source": [
    "a=10,20  # works\n",
    "a,b=10,20   # works\n",
    "a,b=10   # fails"
   ]
  },
  {
   "cell_type": "code",
   "execution_count": 39,
   "id": "cfaa5e7e-4d07-40c8-a983-76059ed4b6e6",
   "metadata": {},
   "outputs": [
    {
     "data": {
      "text/plain": [
       "['__class__',\n",
       " '__class_getitem__',\n",
       " '__contains__',\n",
       " '__delattr__',\n",
       " '__delitem__',\n",
       " '__dir__',\n",
       " '__doc__',\n",
       " '__eq__',\n",
       " '__format__',\n",
       " '__ge__',\n",
       " '__getattribute__',\n",
       " '__getitem__',\n",
       " '__getstate__',\n",
       " '__gt__',\n",
       " '__hash__',\n",
       " '__init__',\n",
       " '__init_subclass__',\n",
       " '__ior__',\n",
       " '__iter__',\n",
       " '__le__',\n",
       " '__len__',\n",
       " '__lt__',\n",
       " '__ne__',\n",
       " '__new__',\n",
       " '__or__',\n",
       " '__reduce__',\n",
       " '__reduce_ex__',\n",
       " '__repr__',\n",
       " '__reversed__',\n",
       " '__ror__',\n",
       " '__setattr__',\n",
       " '__setitem__',\n",
       " '__sizeof__',\n",
       " '__str__',\n",
       " '__subclasshook__',\n",
       " 'clear',\n",
       " 'copy',\n",
       " 'fromkeys',\n",
       " 'get',\n",
       " 'items',\n",
       " 'keys',\n",
       " 'pop',\n",
       " 'popitem',\n",
       " 'setdefault',\n",
       " 'update',\n",
       " 'values']"
      ]
     },
     "execution_count": 39,
     "metadata": {},
     "output_type": "execute_result"
    }
   ],
   "source": [
    "dir({})"
   ]
  },
  {
   "cell_type": "code",
   "execution_count": null,
   "id": "45c430fd-d4ef-4a89-8aa3-9f3c6d33dd17",
   "metadata": {},
   "outputs": [],
   "source": []
  }
 ],
 "metadata": {
  "kernelspec": {
   "display_name": "Python 3 (ipykernel)",
   "language": "python",
   "name": "python3"
  },
  "language_info": {
   "codemirror_mode": {
    "name": "ipython",
    "version": 3
   },
   "file_extension": ".py",
   "mimetype": "text/x-python",
   "name": "python",
   "nbconvert_exporter": "python",
   "pygments_lexer": "ipython3",
   "version": "3.11.7"
  }
 },
 "nbformat": 4,
 "nbformat_minor": 5
}
