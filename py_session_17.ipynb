{
 "cells": [
  {
   "cell_type": "markdown",
   "id": "c167e19e-c852-4bb1-8abe-b4d52ee62d9c",
   "metadata": {},
   "source": [
    "**lambda functions**"
   ]
  },
  {
   "cell_type": "markdown",
   "id": "cd014c49-6bed-410d-a507-b8919c844288",
   "metadata": {},
   "source": [
    "- lambda functions represents functions concept\n",
    "\n",
    "- but we can write in a single line\n",
    "\n",
    "- like list comprehension, lambda functions similiar only\n",
    "\n",
    "- it will decrease the time complexity\n",
    "\n",
    "- always remember if we use many loops or many conditions using multiple line, the time complexity will increase"
   ]
  },
  {
   "cell_type": "code",
   "execution_count": 15,
   "id": "1ad74266-33c4-444d-96a8-7092e5721420",
   "metadata": {},
   "outputs": [
    {
     "data": {
      "text/plain": [
       "20"
      ]
     },
     "execution_count": 15,
     "metadata": {},
     "output_type": "execute_result"
    }
   ],
   "source": [
    "def summ(n):\n",
    "    return(n+10)\n",
    "\n",
    "summ(10)"
   ]
  },
  {
   "cell_type": "markdown",
   "id": "df04d6b3-f21c-4f5d-aa17-021273151f0b",
   "metadata": {},
   "source": [
    "$pattern-1$\n",
    "\n",
    "**Function with only argument**\n",
    "\n",
    "- function name\n",
    "\n",
    "- argument name\n",
    "\n",
    "- return output\n"
   ]
  },
  {
   "cell_type": "code",
   "execution_count": 17,
   "id": "7b25059a-8fc8-473b-9af5-e260e1e43736",
   "metadata": {},
   "outputs": [
    {
     "data": {
      "text/plain": [
       "20"
      ]
     },
     "execution_count": 17,
     "metadata": {},
     "output_type": "execute_result"
    }
   ],
   "source": [
    "# syntax: <functiom name> = lambda<argument name>: <return output>\n",
    "\n",
    "def summ(n):\n",
    "    return(n+10)\n",
    "\n",
    "summ(10)\n",
    "\n",
    "# function name= summ\n",
    "# argument name= n\n",
    "# return output= n+10\n"
   ]
  },
  {
   "cell_type": "code",
   "execution_count": 18,
   "id": "d9793d95-539a-4e8b-a928-cf94d74f9d4c",
   "metadata": {},
   "outputs": [
    {
     "data": {
      "text/plain": [
       "110"
      ]
     },
     "execution_count": 18,
     "metadata": {},
     "output_type": "execute_result"
    }
   ],
   "source": [
    "summ=lambda n:n+10\n",
    "summ(100)"
   ]
  },
  {
   "cell_type": "code",
   "execution_count": 19,
   "id": "a608f77d-e1ac-4ee3-9359-da533003195a",
   "metadata": {},
   "outputs": [
    {
     "data": {
      "text/plain": [
       "1000"
      ]
     },
     "execution_count": 19,
     "metadata": {},
     "output_type": "execute_result"
    }
   ],
   "source": [
    "def cube(n):\n",
    "    return(n**3)\n",
    "\n",
    "cube(10)"
   ]
  },
  {
   "cell_type": "code",
   "execution_count": 20,
   "id": "19287c19-f729-4715-a193-d327e7fa65c2",
   "metadata": {},
   "outputs": [
    {
     "data": {
      "text/plain": [
       "1000"
      ]
     },
     "execution_count": 20,
     "metadata": {},
     "output_type": "execute_result"
    }
   ],
   "source": [
    "cube=lambda n:n**3\n",
    "cube(10)"
   ]
  },
  {
   "cell_type": "markdown",
   "id": "2fab494b-1bc0-4496-95b8-5ecbc750fe49",
   "metadata": {},
   "source": [
    "$pattern-2$\n",
    "\n",
    "**Two atguments**"
   ]
  },
  {
   "cell_type": "code",
   "execution_count": 24,
   "id": "2d9be268-af61-48cb-9b05-bb48f93c7e70",
   "metadata": {},
   "outputs": [
    {
     "data": {
      "text/plain": [
       "30"
      ]
     },
     "execution_count": 24,
     "metadata": {},
     "output_type": "execute_result"
    }
   ],
   "source": [
    "# syntax : <functiom name> = lambda<arg1>,<arg2>: <return output>\n",
    "\n",
    "def add(a,b):\n",
    "    return(a+b)\n",
    "\n",
    "add(10,20)\n",
    "\n",
    "\n",
    "#  <functiom name>=add\n",
    "# arg1=a\n",
    "# arg2=b\n",
    "#return output=a+b"
   ]
  },
  {
   "cell_type": "code",
   "execution_count": 25,
   "id": "d9fa110e-3269-4316-82f5-872334635e3f",
   "metadata": {},
   "outputs": [
    {
     "data": {
      "text/plain": [
       "30"
      ]
     },
     "execution_count": 25,
     "metadata": {},
     "output_type": "execute_result"
    }
   ],
   "source": [
    "add=lambda n1,n2:n1+n2\n",
    "add(10,20)"
   ]
  },
  {
   "cell_type": "code",
   "execution_count": 33,
   "id": "c487d10e-d421-42b7-9953-23573feb3815",
   "metadata": {},
   "outputs": [
    {
     "data": {
      "text/plain": [
       "20.0"
      ]
     },
     "execution_count": 33,
     "metadata": {},
     "output_type": "execute_result"
    }
   ],
   "source": [
    "average=lambda a,b,c:round((a+b+c)/3,2)\n",
    "average(10,20,30)"
   ]
  },
  {
   "cell_type": "markdown",
   "id": "658bdaa3-963c-4168-bef9-35aae79be832",
   "metadata": {},
   "source": [
    "$pattern-3$"
   ]
  },
  {
   "cell_type": "code",
   "execution_count": 35,
   "id": "d9068198-c693-4def-998d-f8c31d2a32f9",
   "metadata": {},
   "outputs": [
    {
     "data": {
      "text/plain": [
       "202.33"
      ]
     },
     "execution_count": 35,
     "metadata": {},
     "output_type": "execute_result"
    }
   ],
   "source": [
    "average=lambda a,b,c=500:round((a+b+c)/3,2)\n",
    "average(101,202,304)"
   ]
  },
  {
   "cell_type": "markdown",
   "id": "c0cda6ab-ac79-40f7-bfa3-9e9d71d8874e",
   "metadata": {},
   "source": [
    "$ pattern-4 $\n",
    "\n",
    "**if-else**"
   ]
  },
  {
   "cell_type": "code",
   "execution_count": 37,
   "id": "dcc8df46-1a62-4c85-8967-0db3d95d6e8c",
   "metadata": {},
   "outputs": [
    {
     "data": {
      "text/plain": [
       "20"
      ]
     },
     "execution_count": 37,
     "metadata": {},
     "output_type": "execute_result"
    }
   ],
   "source": [
    "def max(a,b):\n",
    "    if a>b:\n",
    "        return(a)\n",
    "    else:\n",
    "        return(b)\n",
    "\n",
    "max(10,20)"
   ]
  },
  {
   "cell_type": "code",
   "execution_count": 39,
   "id": "1d694716-ef94-44a3-9280-9632c8197852",
   "metadata": {},
   "outputs": [
    {
     "data": {
      "text/plain": [
       "20"
      ]
     },
     "execution_count": 39,
     "metadata": {},
     "output_type": "execute_result"
    }
   ],
   "source": [
    "# syntax : function name = lambda <agr1>,<arg2>:<list comprehension>\n",
    "# syntax : function name = lambda <agr1>,<arg2>:<if-out><if_con><else><else_out>\n",
    "\n",
    "maxx=lambda a,b : a if a>b else b\n",
    "maxx(10,20)"
   ]
  },
  {
   "cell_type": "markdown",
   "id": "2ebdbdae-f81e-490b-bde5-e6a1ad5ba385",
   "metadata": {},
   "source": [
    "$pattern-5$"
   ]
  },
  {
   "cell_type": "markdown",
   "id": "91c32afb-abd9-4e70-af2a-96a7db854e6e",
   "metadata": {},
   "source": [
    "**using list**"
   ]
  },
  {
   "cell_type": "code",
   "execution_count": 40,
   "id": "4457b39e-f702-4896-9585-7421439b4989",
   "metadata": {},
   "outputs": [
    {
     "data": {
      "text/plain": [
       "['Hyd', 'Chennai', 'Mumbai']"
      ]
     },
     "execution_count": 40,
     "metadata": {},
     "output_type": "execute_result"
    }
   ],
   "source": [
    "l=['hyd','chennai','mumbai']\n",
    "\n",
    "# op = ['Hyd','Chennai','Mumbai']\n",
    "\n",
    "op=[]\n",
    "for i in l:\n",
    "    op.append(i.capitalize())\n",
    "\n",
    "op"
   ]
  },
  {
   "cell_type": "code",
   "execution_count": null,
   "id": "f828c7cb-c2b1-46fc-a2b7-89d6d1f55efb",
   "metadata": {},
   "outputs": [],
   "source": [
    "lambda <variable>:<op>\n",
    "\n",
    "# variable : i\n",
    "# op : i.capitalize()\n",
    "\n",
    "lambda <variable>: <op>, <iterator>\n",
    "\n",
    "# Qn : from where you are getting 'i'\n",
    "# <iterator> : list"
   ]
  },
  {
   "cell_type": "code",
   "execution_count": 43,
   "id": "b7dadfed-6bb5-42da-bf75-9d19e9338bd9",
   "metadata": {},
   "outputs": [
    {
     "data": {
      "text/plain": [
       "(<function __main__.<lambda>(i)>, ['hyd', 'chennai', 'mumbai'])"
      ]
     },
     "execution_count": 43,
     "metadata": {},
     "output_type": "execute_result"
    }
   ],
   "source": [
    "l=['hyd', 'chennai', 'mumbai']\n",
    "lambda i: i.capitalize(i),l\n",
    "\n"
   ]
  },
  {
   "cell_type": "code",
   "execution_count": 44,
   "id": "16dc0eb5-4c31-4512-bac9-d2d1f6724feb",
   "metadata": {},
   "outputs": [
    {
     "data": {
      "text/plain": [
       "<map at 0x2a737c4c880>"
      ]
     },
     "execution_count": 44,
     "metadata": {},
     "output_type": "execute_result"
    }
   ],
   "source": [
    "l=['hyd', 'chennai', 'mumbai']\n",
    "map(lambda i: i.capitalize(i),l)\n"
   ]
  },
  {
   "cell_type": "code",
   "execution_count": 46,
   "id": "6f8edcbd-4896-437d-90c3-74444c4aa514",
   "metadata": {},
   "outputs": [
    {
     "data": {
      "text/plain": [
       "('Hyd', 'Chennai', 'Mumbai')"
      ]
     },
     "execution_count": 46,
     "metadata": {},
     "output_type": "execute_result"
    }
   ],
   "source": [
    "# apply the list to see the values\n",
    "\n",
    "l=['hyd', 'chennai', 'mumbai']\n",
    "tuple(map(lambda i: i.capitalize(),l))"
   ]
  },
  {
   "cell_type": "code",
   "execution_count": null,
   "id": "28c6d9e8-3925-4c4b-8a5e-b333fb680bc8",
   "metadata": {},
   "outputs": [],
   "source": [
    "# step-1: write your normal expression\n",
    "#          ex: lambda <var>: <op> ====> lambda i: i.capitalize()\n",
    "\n",
    "# step-2: add the iterator\n",
    "#          ex: lambda <var>: <op> <list> ====> i: i.capitalize(),list1\n",
    "\n",
    "# step-3: map the both\n",
    "#          ex: map((map(lambda <var>: (<op>,<list>) ====>  i.capitalize(),list1))\n",
    "\n",
    "# step-4: save the values in a list\n",
    "#          ex: list( save the values in a list)"
   ]
  },
  {
   "cell_type": "code",
   "execution_count": null,
   "id": "d6d3f6a4-03c1-401d-b58e-36049830aa75",
   "metadata": {},
   "outputs": [],
   "source": [
    "list( save the values in a list)"
   ]
  },
  {
   "cell_type": "code",
   "execution_count": null,
   "id": "ba913554-43b8-4f00-b218-b962089a45f1",
   "metadata": {},
   "outputs": [],
   "source": [
    "- case-1 : Function call with one argument\n",
    "\n",
    "      - lambda arguments : Expression\n",
    "      - lambda variables : return output\n",
    "\n",
    "-case-2 : function call with two arguments\n",
    "      \n",
    "      - lambda arg1,arg2 : Expression\n",
    "      - lambda var1,var2 : return output\n",
    "\n",
    "- case-3 : Function cal with two arguments5\n",
    "\n",
    "      - lambda arg1,arg2=500 : Expression\n",
    "      - lambda var1,var2=500 : return output\n",
    "\n",
    "- case-4: Function call with two arguents \n",
    "\n",
    "       - kambda arg1,arg2 : Expression\n",
    "        - lambda var1,var2 : if_output  if_con else else_op for loop\n",
    "\n",
    "- case-5: lambda operations using list "
   ]
  },
  {
   "cell_type": "code",
   "execution_count": 2,
   "id": "5c3ad3ef-3154-4ff3-985b-331b7df094a5",
   "metadata": {},
   "outputs": [
    {
     "data": {
      "text/plain": [
       "('HYD', 'CHENNAI', 'MUMBAI')"
      ]
     },
     "execution_count": 2,
     "metadata": {},
     "output_type": "execute_result"
    }
   ],
   "source": [
    "l=['hyd','chennai','mumbai']\n",
    "\n",
    "# op=['Hyd','Chennai','Mumbai']\n",
    "# for i in l:\n",
    "# print(i.upper())\n",
    "\n",
    "tuple(map(lambda i:i.upper(),l))"
   ]
  },
  {
   "cell_type": "markdown",
   "id": "077d3bdc-a7cd-476b-a259-9e01b8786f4a",
   "metadata": {},
   "source": [
    "**Filter**\n",
    "\n",
    "- whenever if conditions are there use **filter**"
   ]
  },
  {
   "cell_type": "code",
   "execution_count": 7,
   "id": "138dceb2-79d8-4340-bcbb-c581a252662b",
   "metadata": {},
   "outputs": [
    {
     "data": {
      "text/plain": [
       "(False, True, True, False)"
      ]
     },
     "execution_count": 7,
     "metadata": {},
     "output_type": "execute_result"
    }
   ],
   "source": [
    "l=['hyd','che#nai','mu#bai','blr']\n",
    "\n",
    "# op=['ch#nnai','mu#bai']\n",
    "\n",
    "\n",
    "tuple(map(lambda i: '#' in i,l))"
   ]
  },
  {
   "cell_type": "code",
   "execution_count": 8,
   "id": "988f3146-e5d6-4170-8f4a-6cb66dfb578a",
   "metadata": {},
   "outputs": [
    {
     "data": {
      "text/plain": [
       "('che#nai', 'mu#bai')"
      ]
     },
     "execution_count": 8,
     "metadata": {},
     "output_type": "execute_result"
    }
   ],
   "source": [
    "tuple(filter(lambda i:'#' in i,l))"
   ]
  },
  {
   "cell_type": "code",
   "execution_count": 13,
   "id": "b97c2baa-c74f-410c-ae87-09597ef1089e",
   "metadata": {},
   "outputs": [
    {
     "data": {
      "text/plain": [
       "[2, 4, 6, 8]"
      ]
     },
     "execution_count": 13,
     "metadata": {},
     "output_type": "execute_result"
    }
   ],
   "source": [
    "# numbers=[1,3,2,7,6]\n",
    "# op=[2,6]\n",
    "l1=[1,2,3,4,5,6,7,8]\n",
    "list(filter(lambda i:i%2==0,l1))"
   ]
  },
  {
   "cell_type": "code",
   "execution_count": 17,
   "id": "6585a816-6478-44ed-ba10-57de983ba763",
   "metadata": {},
   "outputs": [
    {
     "name": "stdout",
     "output_type": "stream",
     "text": [
      "36\n"
     ]
    }
   ],
   "source": [
    "l1=[1,2,3,4,5,6,7,8]\n",
    "\n",
    "# I want sum of the elements in a list\n",
    "\n",
    "# method-1 : sum\n",
    "\n",
    "\n",
    "sum(l1)\n",
    "\n",
    "lambda summ,i:summ+i,\n",
    "# method-2 : without sum\n",
    "summ=0\n",
    "for i in l1:\n",
    "    summ=summ+i\n",
    "\n",
    "print(summ)"
   ]
  },
  {
   "cell_type": "code",
   "execution_count": 19,
   "id": "67910f72-a95a-470e-bfe9-d5993428ca4b",
   "metadata": {},
   "outputs": [
    {
     "data": {
      "text/plain": [
       "<filter at 0x1f07f158bb0>"
      ]
     },
     "execution_count": 19,
     "metadata": {},
     "output_type": "execute_result"
    }
   ],
   "source": [
    "sum(l1)\n",
    "filter(lambda summ,i:summ+i,l1)"
   ]
  },
  {
   "cell_type": "code",
   "execution_count": 20,
   "id": "ab97b8fb-fdb5-45c0-a9c8-9761ba7fbbd6",
   "metadata": {},
   "outputs": [
    {
     "data": {
      "text/plain": [
       "36"
      ]
     },
     "execution_count": 20,
     "metadata": {},
     "output_type": "execute_result"
    }
   ],
   "source": [
    "l1=[1,2,3,4,5,6,7,8]\n",
    "max(l1)\n",
    "min(l1)\n",
    "len(l1)\n",
    "sum(l1)"
   ]
  },
  {
   "cell_type": "markdown",
   "id": "d0b57b3e-cc52-4496-a7a2-ea0e9cbf4651",
   "metadata": {},
   "source": [
    "**Reduce**\n",
    "\n",
    "- All inbuilt functions can achieve by reduce\n",
    "\n",
    "- Reduce is available from function tools package\n",
    "\n",
    "- level-1 : reduce(lambda summ,i:summ+i,l1)\n",
    "\n",
    "- level-2 : filter(lambda summ,i:summ+i,l1,initial_value)\n",
    "\n",
    "- for example we want inistialise summ=0 then we choose level-1\n",
    "\n",
    "- for example we wnat start other than zero then we choose level-2"
   ]
  },
  {
   "cell_type": "code",
   "execution_count": 25,
   "id": "ffb1d6db-ffad-4825-9515-6dbc58f16278",
   "metadata": {},
   "outputs": [
    {
     "data": {
      "text/plain": [
       "['GenericAlias',\n",
       " 'RLock',\n",
       " 'WRAPPER_ASSIGNMENTS',\n",
       " 'WRAPPER_UPDATES',\n",
       " '_CacheInfo',\n",
       " '_HashedSeq',\n",
       " '_NOT_FOUND',\n",
       " '__all__',\n",
       " '__builtins__',\n",
       " '__cached__',\n",
       " '__doc__',\n",
       " '__file__',\n",
       " '__loader__',\n",
       " '__name__',\n",
       " '__package__',\n",
       " '__spec__',\n",
       " '_c3_merge',\n",
       " '_c3_mro',\n",
       " '_compose_mro',\n",
       " '_convert',\n",
       " '_find_impl',\n",
       " '_ge_from_gt',\n",
       " '_ge_from_le',\n",
       " '_ge_from_lt',\n",
       " '_gt_from_ge',\n",
       " '_gt_from_le',\n",
       " '_gt_from_lt',\n",
       " '_initial_missing',\n",
       " '_le_from_ge',\n",
       " '_le_from_gt',\n",
       " '_le_from_lt',\n",
       " '_lru_cache_wrapper',\n",
       " '_lt_from_ge',\n",
       " '_lt_from_gt',\n",
       " '_lt_from_le',\n",
       " '_make_key',\n",
       " '_unwrap_partial',\n",
       " 'cache',\n",
       " 'cached_property',\n",
       " 'cmp_to_key',\n",
       " 'get_cache_token',\n",
       " 'lru_cache',\n",
       " 'namedtuple',\n",
       " 'partial',\n",
       " 'partialmethod',\n",
       " 'recursive_repr',\n",
       " 'reduce',\n",
       " 'singledispatch',\n",
       " 'singledispatchmethod',\n",
       " 'total_ordering',\n",
       " 'update_wrapper',\n",
       " 'wraps']"
      ]
     },
     "execution_count": 25,
     "metadata": {},
     "output_type": "execute_result"
    }
   ],
   "source": [
    "import functools\n",
    "dir(functools)"
   ]
  },
  {
   "cell_type": "code",
   "execution_count": 28,
   "id": "7fe070b9-f722-4e3b-a795-e3a861dfd4d0",
   "metadata": {},
   "outputs": [
    {
     "data": {
      "text/plain": [
       "15"
      ]
     },
     "execution_count": 28,
     "metadata": {},
     "output_type": "execute_result"
    }
   ],
   "source": [
    "l1=[1,2,3,4,5]\n",
    "functools.reduce(lambda summ,i:summ+i, l1)"
   ]
  },
  {
   "cell_type": "code",
   "execution_count": 29,
   "id": "7a8c12d7-8254-427e-acc4-13e1f36d18b3",
   "metadata": {},
   "outputs": [
    {
     "data": {
      "text/plain": [
       "15"
      ]
     },
     "execution_count": 29,
     "metadata": {},
     "output_type": "execute_result"
    }
   ],
   "source": [
    "from functools import reduce\n",
    "l1=[1,2,3,4,5]\n",
    "reduce(lambda summ, i: summ+i,l1)"
   ]
  },
  {
   "cell_type": "code",
   "execution_count": 35,
   "id": "aadd1383-5ad5-455a-8338-a37585303d55",
   "metadata": {},
   "outputs": [
    {
     "data": {
      "text/plain": [
       "15"
      ]
     },
     "execution_count": 35,
     "metadata": {},
     "output_type": "execute_result"
    }
   ],
   "source": [
    "import functools as ft\n",
    "l1=[1,2,3,4,5]\n",
    "ft.reduce(lambda summ,i:summ+i,l1)"
   ]
  },
  {
   "cell_type": "code",
   "execution_count": 36,
   "id": "5f964993-ed34-4622-8bf7-2596a0c0911f",
   "metadata": {},
   "outputs": [
    {
     "data": {
      "text/plain": [
       "120"
      ]
     },
     "execution_count": 36,
     "metadata": {},
     "output_type": "execute_result"
    }
   ],
   "source": [
    "import functools\n",
    "l1=[1,2,3,4,5]\n",
    "functools.reduce(lambda mul,i:mul*i,l1)"
   ]
  },
  {
   "cell_type": "code",
   "execution_count": 38,
   "id": "c921d2dd-3ae0-4b8e-ab6c-a6223b505504",
   "metadata": {},
   "outputs": [
    {
     "data": {
      "text/plain": [
       "5.0"
      ]
     },
     "execution_count": 38,
     "metadata": {},
     "output_type": "execute_result"
    }
   ],
   "source": [
    "import math\n",
    "math.sqrt(25)"
   ]
  },
  {
   "cell_type": "code",
   "execution_count": 40,
   "id": "3391c19d-44f7-4951-b581-961320833e08",
   "metadata": {},
   "outputs": [
    {
     "data": {
      "text/plain": [
       "3.0"
      ]
     },
     "execution_count": 40,
     "metadata": {},
     "output_type": "execute_result"
    }
   ],
   "source": [
    "l1=[1,2,3,4,5]\n",
    "import numpy\n",
    "numpy.mean(l1)"
   ]
  },
  {
   "cell_type": "code",
   "execution_count": 41,
   "id": "ae8a8047-1c5d-4282-b9a7-b19415f31a9f",
   "metadata": {},
   "outputs": [],
   "source": [
    "import functools"
   ]
  },
  {
   "cell_type": "code",
   "execution_count": 42,
   "id": "e8a215da-741c-4347-8b9f-9232b7813f82",
   "metadata": {},
   "outputs": [
    {
     "data": {
      "text/plain": [
       "<module 'functools' from 'C:\\\\Users\\\\rajur\\\\anaconda3\\\\Anaconda\\\\Lib\\\\functools.py'>"
      ]
     },
     "execution_count": 42,
     "metadata": {},
     "output_type": "execute_result"
    }
   ],
   "source": [
    "functools"
   ]
  },
  {
   "cell_type": "code",
   "execution_count": null,
   "id": "9a39b27c-1a52-4d6c-bbe4-247e14d8b8b6",
   "metadata": {},
   "outputs": [],
   "source": [
    "# maximum value using reduce\n",
    "\n",
    "# Map         : direct attack\n",
    "# Filter      : if conditions\n",
    "# Reduce      : \n",
    "\n",
    "\n",
    "# want in detailed word document with examples"
   ]
  }
 ],
 "metadata": {
  "kernelspec": {
   "display_name": "Python 3 (ipykernel)",
   "language": "python",
   "name": "python3"
  },
  "language_info": {
   "codemirror_mode": {
    "name": "ipython",
    "version": 3
   },
   "file_extension": ".py",
   "mimetype": "text/x-python",
   "name": "python",
   "nbconvert_exporter": "python",
   "pygments_lexer": "ipython3",
   "version": "3.11.7"
  }
 },
 "nbformat": 4,
 "nbformat_minor": 5
}
