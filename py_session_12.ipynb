{
 "cells": [
  {
   "cell_type": "code",
   "execution_count": 1,
   "id": "acbd1d32-2a64-4787-8228-ac63c83bd602",
   "metadata": {},
   "outputs": [
    {
     "name": "stdout",
     "output_type": "stream",
     "text": [
      "the total num of even nums are :2\n",
      "the total num of odd nums are :3\n"
     ]
    }
   ],
   "source": [
    "#what is the difference btwwn \n",
    "# wap ask the user to get a random numbers\n",
    "# get it is an even or odd number\n",
    "# also count how many even numbers are there\n",
    "# and count how many odd numbers are there\n",
    "\n",
    "# Idea \n",
    "# take two counters one even and odd count\n",
    "# for loop 5 times\n",
    "# each time take thr random numbers\n",
    "# if condition\n",
    "#     True counter update\n",
    "# else \n",
    "#     update the counter\n",
    "\n",
    "\n",
    "import random\n",
    "even_count,odd_count=0,0\n",
    "for i in range(5):\n",
    "    \n",
    "    num=random.randint(0,100)\n",
    "    if num%2==0:\n",
    "        even_count=even_count+1\n",
    "    else:\n",
    "        odd_count=odd_count+1\n",
    "\n",
    "print(f\"the total num of even nums are :{even_count}\")\n",
    "print(f\"the total num of odd nums are :{odd_count}\")\n",
    "\n",
    "    \n"
   ]
  },
  {
   "cell_type": "code",
   "execution_count": 2,
   "id": "050bfd92-579c-44d2-ae2e-ae12a44a9228",
   "metadata": {},
   "outputs": [
    {
     "name": "stdout",
     "output_type": "stream",
     "text": [
      "the total num of even nums are :3\n",
      "the total num of odd nums are :2\n",
      "the summation of all even nums are :36\n",
      "the summation of all odds nums are :80\n"
     ]
    }
   ],
   "source": [
    "import random\n",
    "even_count,odd_count=0,0\n",
    "even_sum,odd_sum=0,0\n",
    "for i in range(5):\n",
    "    \n",
    "    num=random.randint(0,100)\n",
    "    if num%2==0:\n",
    "        even_count=even_count+1\n",
    "        even_sum=even_sum+num\n",
    "    else:\n",
    "        odd_count=odd_count+1\n",
    "        odd_sum=odd_sum+num\n",
    "\n",
    "print(f\"the total num of even nums are :{even_count}\")\n",
    "print(f\"the total num of odd nums are :{odd_count}\")\n",
    "print(f\"the summation of all even nums are :{even_sum}\")\n",
    "print(f\"the summation of all odds nums are :{odd_sum}\")"
   ]
  },
  {
   "cell_type": "code",
   "execution_count": 3,
   "id": "f26656f1-d77e-4ad5-bdf2-51d8b9eaa48b",
   "metadata": {},
   "outputs": [
    {
     "ename": "IndentationError",
     "evalue": "expected an indented block after 'for' statement on line 4 (927763767.py, line 6)",
     "output_type": "error",
     "traceback": [
      "\u001b[1;36m  Cell \u001b[1;32mIn[3], line 6\u001b[1;36m\u001b[0m\n\u001b[1;33m    def even_odd():\u001b[0m\n\u001b[1;37m    ^\u001b[0m\n\u001b[1;31mIndentationError\u001b[0m\u001b[1;31m:\u001b[0m expected an indented block after 'for' statement on line 4\n"
     ]
    }
   ],
   "source": [
    "import random\n",
    "even_count,odd_count=0,0\n",
    "even_sum,odd_sum=0,0\n",
    "for i in range(5):\n",
    "\n",
    "def even_odd():\n",
    "    \n",
    "    num=random.randint(0,100)\n",
    "    if num%2==0:\n",
    "        even_count=even_count+1\n",
    "        even_sum=even_sum+num\n",
    "    else:\n",
    "        odd_count=odd_count+1\n",
    "        odd_sum=odd_sum+num\n",
    "\n",
    "return(even_count,\n",
    "      odd_count,\n",
    "      even_sum,\n",
    "      odd_sum)"
   ]
  },
  {
   "cell_type": "markdown",
   "id": "2ed69262-71bb-445d-99b6-4cb6ea25152d",
   "metadata": {},
   "source": [
    "**in operator**"
   ]
  },
  {
   "cell_type": "code",
   "execution_count": null,
   "id": "8b68353a-054e-411f-bc14-2ca20bae361d",
   "metadata": {},
   "outputs": [],
   "source": [
    "string1=\"python\"\n",
    "'p' in string1\n",
    "'y' in string1\n",
    "'t' in string1\n",
    "\n",
    "'i' in string1"
   ]
  },
  {
   "cell_type": "code",
   "execution_count": null,
   "id": "e0148153-7bb0-4c64-86a4-734b118e1880",
   "metadata": {},
   "outputs": [],
   "source": [
    "sring1=\"python\"\n",
    "for i in string1:\n",
    "    print(i)"
   ]
  },
  {
   "cell_type": "code",
   "execution_count": null,
   "id": "9ac2207b-e001-4cea-8043-a9976f729bf3",
   "metadata": {},
   "outputs": [],
   "source": [
    "sring1=\"python\"\n",
    "for i in range(string1):\n",
    "    print(i)"
   ]
  },
  {
   "cell_type": "markdown",
   "id": "b4388f05-6390-4f1c-bf42-8a7325263f46",
   "metadata": {},
   "source": [
    "**difference betweenn in operator and range operator**\n",
    "\n",
    "- range belongs to math family\n",
    "- inside $range$ we need to keep numbers only\n",
    "- whenever if we want iterate through a english letters\n",
    "- we need to choose **in** operator\n",
    "- range means numbers\n",
    "- **in** means strings"
   ]
  },
  {
   "cell_type": "code",
   "execution_count": null,
   "id": "37afd66f-38ef-46bd-a57d-4f1cfea7c321",
   "metadata": {},
   "outputs": [],
   "source": [
    "'p'>'p'"
   ]
  },
  {
   "cell_type": "markdown",
   "id": "381f62fd-3c98-4004-bad3-c5422a2473f6",
   "metadata": {},
   "source": [
    "- every english letter\n",
    "\n",
    "- every spl characters how machine will understand\n",
    "\n",
    "- every non numeric assign a number\n",
    "\n",
    "- **ASCII** : American Standard Code for Information Interchage\n",
    "\n",
    "- A : 65, a=97"
   ]
  },
  {
   "cell_type": "markdown",
   "id": "47b9c14f-2a31-48db-92fe-43851980d40d",
   "metadata": {},
   "source": [
    "**ord-chr**"
   ]
  },
  {
   "cell_type": "code",
   "execution_count": null,
   "id": "6bcfe864-bde9-4907-ae4f-e109c73ddcca",
   "metadata": {},
   "outputs": [],
   "source": [
    "A ==== 65 ==== 0b000001"
   ]
  },
  {
   "cell_type": "code",
   "execution_count": null,
   "id": "88b603f4-deff-47e2-9832-073d718cd7c4",
   "metadata": {},
   "outputs": [],
   "source": [
    "ord('A'), ord('a')"
   ]
  },
  {
   "cell_type": "code",
   "execution_count": null,
   "id": "219de1d3-f375-48eb-b19f-6a3684520ed7",
   "metadata": {},
   "outputs": [],
   "source": [
    "ord('B'), ord('b')"
   ]
  },
  {
   "cell_type": "code",
   "execution_count": null,
   "id": "67213254-6fff-4c2a-9ed4-cf87cdec1dd1",
   "metadata": {},
   "outputs": [],
   "source": [
    "ord('P'), ord('p')"
   ]
  },
  {
   "cell_type": "code",
   "execution_count": null,
   "id": "5db53f2d-160c-478d-a313-f7d3eec8445f",
   "metadata": {},
   "outputs": [],
   "source": [
    "'P'>'p'  "
   ]
  },
  {
   "cell_type": "code",
   "execution_count": null,
   "id": "a0dab37e-4e9d-466a-8a3b-f12dd789304f",
   "metadata": {},
   "outputs": [],
   "source": [
    "chr(112)"
   ]
  },
  {
   "cell_type": "code",
   "execution_count": null,
   "id": "56f00bd5-fde3-4aaf-b9ac-47a268d7fafe",
   "metadata": {},
   "outputs": [],
   "source": [
    "# i want string1=python\n",
    "# print all ascii numbers for python\n",
    "\n",
    "for i in 'python':\n",
    "    print(f\"The ASCII number for {i} is {ord(i)}\")"
   ]
  },
  {
   "cell_type": "code",
   "execution_count": null,
   "id": "526afa78-edd6-45f3-8719-0dfadb2f2391",
   "metadata": {},
   "outputs": [],
   "source": [
    "# i want to print the sum of all ascii numbers\n",
    "\n",
    "ascii_sum=0\n",
    "for i in 'python':\n",
    "    ascii_sum=ascii_sum+ord(i)\n",
    "print(f\"the summation is {ascii_sum}\")\n"
   ]
  },
  {
   "cell_type": "code",
   "execution_count": null,
   "id": "6c0c98b9-5e9c-4335-bec8-4cdf4fd74eeb",
   "metadata": {},
   "outputs": [],
   "source": [
    "# i want to know all the ascii numbers for a to z\n",
    "\n",
    "# package called : string\n",
    "# import the package\n",
    "# apply dir\n",
    "# there are some methods are there\n",
    "# in that one method will capital letters\n",
    "\n",
    "# step-1 import_package\n",
    "# step-2 dir(package)\n",
    "# step-3 identify the methods\n",
    "\n",
    "import string\n",
    "dir(string)"
   ]
  },
  {
   "cell_type": "code",
   "execution_count": null,
   "id": "adeaba01-8684-475a-8f49-3b66164dffa1",
   "metadata": {},
   "outputs": [],
   "source": [
    "string.ascii_uppercase"
   ]
  },
  {
   "cell_type": "code",
   "execution_count": null,
   "id": "e7109383-07d0-491d-911d-8ec1cc436325",
   "metadata": {},
   "outputs": [],
   "source": [
    "string.ascii_lowercase"
   ]
  },
  {
   "cell_type": "code",
   "execution_count": null,
   "id": "5a5f70ea-b465-4a86-8364-1c8a53a9ae8f",
   "metadata": {},
   "outputs": [],
   "source": [
    "string.ascii_uppercase\n",
    "for i in string.ascii_uppercase:\n",
    "    print(f\"the ASCII number for {i} is {ord(i)}\")\n",
    "    "
   ]
  },
  {
   "cell_type": "code",
   "execution_count": null,
   "id": "220227ba-6015-499a-a2fc-25ad32d87831",
   "metadata": {},
   "outputs": [],
   "source": [
    "string.ascii_lowercase\n",
    "for i in string.ascii_lowercase:\n",
    "    print(f\"the ASCII number for {i} is {ord(i)}\")"
   ]
  },
  {
   "cell_type": "code",
   "execution_count": null,
   "id": "9f15ff28-daf8-4801-9c31-78b20483f297",
   "metadata": {},
   "outputs": [],
   "source": [
    "# A  to Z, a to z\n",
    "# A ====> 65\n",
    "# Z ====> 90\n",
    "# a ====> 97\n",
    "# z ====> 122"
   ]
  },
  {
   "cell_type": "code",
   "execution_count": 7,
   "id": "d5f1642d-64c6-4fff-9cc4-f79263df9d1f",
   "metadata": {},
   "outputs": [
    {
     "ename": "SyntaxError",
     "evalue": "invalid syntax (4227126046.py, line 9)",
     "output_type": "error",
     "traceback": [
      "\u001b[1;36m  Cell \u001b[1;32mIn[7], line 9\u001b[1;36m\u001b[0m\n\u001b[1;33m    while <condition>:\u001b[0m\n\u001b[1;37m          ^\u001b[0m\n\u001b[1;31mSyntaxError\u001b[0m\u001b[1;31m:\u001b[0m invalid syntax\n"
     ]
    }
   ],
   "source": [
    "\n",
    "\n",
    "- range(1,10)\n",
    "\n",
    "\n",
    "\n",
    "\n",
    "\n",
    "\n",
    "i=1\n",
    "while <condition>:\n",
    "    print(i)\n",
    "    i=i+1\n",
    "\n",
    "\n",
    "    \n"
   ]
  },
  {
   "cell_type": "code",
   "execution_count": 6,
   "id": "676daacd-3623-4c89-89c3-75244f331994",
   "metadata": {},
   "outputs": [
    {
     "name": "stdout",
     "output_type": "stream",
     "text": [
      "1\n"
     ]
    }
   ],
   "source": [
    "i=1\n",
    "while i<2:\n",
    "    print(i)\n",
    "    i=i+1\n",
    "\n",
    "# step-1: i=1 while i<2 True print(1)  i=i+1  i=2\n",
    "# step-2: i=2 \n"
   ]
  },
  {
   "cell_type": "code",
   "execution_count": 5,
   "id": "ca21d0a6-8dd5-4dda-a766-0e74ab66861a",
   "metadata": {},
   "outputs": [
    {
     "name": "stdout",
     "output_type": "stream",
     "text": [
      "1\n",
      "2\n",
      "3\n",
      "4\n",
      "5\n",
      "6\n",
      "7\n",
      "8\n",
      "9\n",
      "10\n"
     ]
    }
   ],
   "source": [
    "i=1\n",
    "while i<11:\n",
    "    print(i)\n",
    "    i=i+1\n",
    "\n",
    "# step-1: i=1 while i<2 print(i) i=i+1 i=2\n",
    "# step-2: i=2 while 2<2 False\n"
   ]
  },
  {
   "cell_type": "code",
   "execution_count": 4,
   "id": "640e3aab-d0bb-44c9-b7c8-4cc7dcf58788",
   "metadata": {},
   "outputs": [
    {
     "name": "stdout",
     "output_type": "stream",
     "text": [
      "1 2 3 4 5 6 7 8 9 10 "
     ]
    }
   ],
   "source": [
    "i=1\n",
    "while i<11:\n",
    "    print(i,end=' ')\n",
    "    i=i+1"
   ]
  },
  {
   "cell_type": "code",
   "execution_count": null,
   "id": "8ac406e4-01c4-4c27-ac86-f4f8d988a7b0",
   "metadata": {},
   "outputs": [],
   "source": [
    "i=1\n",
    "while i<11:\n",
    "    print(i,end=' ')\n",
    "    i=i-1\n",
    "\n",
    "    if i==-10:\n",
    "        break\n",
    "\n",
    "# infinite loop (numbers)\n",
    "\n"
   ]
  },
  {
   "cell_type": "code",
   "execution_count": 8,
   "id": "30cded77-9d3d-4164-b578-3155e1d62c99",
   "metadata": {},
   "outputs": [
    {
     "name": "stdout",
     "output_type": "stream",
     "text": [
      "1 0 -1 -2 -3 -4 -5 -6 -7 -8 -9 "
     ]
    }
   ],
   "source": [
    "i=1\n",
    "while i<11:\n",
    "    print(i,end=' ')\n",
    "    i=i-1\n",
    "    if i==-10:\n",
    "        break"
   ]
  },
  {
   "cell_type": "code",
   "execution_count": 2,
   "id": "5800d068-46da-454c-81d0-8209a4ad5aa1",
   "metadata": {},
   "outputs": [
    {
     "name": "stdout",
     "output_type": "stream",
     "text": [
      "20 19 18 17 16 15 14 13 12 11 10 9 8 7 6 5 4 3 2 1 "
     ]
    }
   ],
   "source": [
    "# 20 to 1\n",
    "# -20 to 1\n",
    "\n",
    "i=20\n",
    "while i>0:\n",
    "    print(i,end=' ')\n",
    "    i=i-1"
   ]
  },
  {
   "cell_type": "code",
   "execution_count": 10,
   "id": "c198740c-cd85-4450-a08e-b1ce3355d960",
   "metadata": {},
   "outputs": [
    {
     "name": "stdout",
     "output_type": "stream",
     "text": [
      "-20 -19 -18 -17 -16 -15 -14 -13 -12 -11 -10 -9 -8 -7 -6 -5 -4 -3 -2 -1 "
     ]
    }
   ],
   "source": [
    "i=-20\n",
    "while i<0:\n",
    "    print(i,end=' ')\n",
    "    i=i+1\n",
    "    \n",
    "    if i==1:\n",
    "        break"
   ]
  },
  {
   "cell_type": "markdown",
   "id": "be91ba3a-7169-4825-9989-5b18613746bc",
   "metadata": {},
   "source": [
    "\n",
    "**True**"
   ]
  },
  {
   "cell_type": "markdown",
   "id": "2c8d0179-caa1-4b89-a4c6-5cbaed849ad7",
   "metadata": {},
   "source": [
    "- if you know about valid condition to enter inside the loop\n",
    "\n",
    "- then use True\n",
    "\n",
    "- True will give pass irrespective of the condition\n",
    "\n",
    "- but if you want to come out  we need to apply if condition and break inside the loop\n"
   ]
  },
  {
   "cell_type": "code",
   "execution_count": 2,
   "id": "0ed77dd1-7118-4e97-80fa-7e31347bce2f",
   "metadata": {},
   "outputs": [
    {
     "name": "stdout",
     "output_type": "stream",
     "text": [
      "20 19 18 17 16 15 14 13 12 11 10 9 8 7 6 5 4 3 2 1 ==========second\n",
      "-20 -19 -18 -17 -16 -15 -14 -13 -12 -11 -10 -9 -8 -7 -6 -5 -4 -3 -2 -1 "
     ]
    }
   ],
   "source": [
    "i=20\n",
    "while i>0:\n",
    "    print(i,end=' ')\n",
    "    i=i-1\n",
    "\n",
    "print(\"==========second\")\n",
    "\n",
    "i=-20\n",
    "while i<0:\n",
    "    print(i,end=' ')\n",
    "    i=i+1"
   ]
  },
  {
   "cell_type": "code",
   "execution_count": null,
   "id": "1fbe4616-64f5-41a0-b518-5629d26db712",
   "metadata": {},
   "outputs": [],
   "source": [
    "\n",
    "\n",
    "    "
   ]
  }
 ],
 "metadata": {
  "kernelspec": {
   "display_name": "Python 3 (ipykernel)",
   "language": "python",
   "name": "python3"
  },
  "language_info": {
   "codemirror_mode": {
    "name": "ipython",
    "version": 3
   },
   "file_extension": ".py",
   "mimetype": "text/x-python",
   "name": "python",
   "nbconvert_exporter": "python",
   "pygments_lexer": "ipython3",
   "version": "3.11.7"
  }
 },
 "nbformat": 4,
 "nbformat_minor": 5
}
