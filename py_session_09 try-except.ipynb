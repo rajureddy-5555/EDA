{
 "cells": [
  {
   "cell_type": "markdown",
   "id": "cfadfe7c-315b-4ea6-9875-faf90a062615",
   "metadata": {},
   "source": [
    "**try-except**\n",
    "\n",
    "- Generally in real time we will write n number of python lines\n",
    "\n",
    "- There is a situation we might get an error, that error might be unknown\n",
    "\n",
    "- this unknown error does not cause any harm\n",
    "\n",
    "- even though we are getting error we need to proceed further\n",
    "\n",
    "- also we need to catch that error\n",
    "\n",
    "- Because we already known that the python is a sequential process\n",
    "\n",
    "- means the lines will execute step by step\n",
    "\n",
    "- suppose you have any error at perticular line, the code execution will stop at that line only\n",
    "\n",
    "- but you know that errror is not harmful\n",
    "\n",
    "- so you want to continue the code\n",
    "\n",
    "- then we required try-exception"
   ]
  },
  {
   "cell_type": "code",
   "execution_count": 1,
   "id": "4cfd1dd2-ea56-4b00-b118-414298dc6ead",
   "metadata": {},
   "outputs": [
    {
     "name": "stdin",
     "output_type": "stream",
     "text": [
      "enter the number1: 2\n",
      "enter the number2: 5\n"
     ]
    },
    {
     "name": "stdout",
     "output_type": "stream",
     "text": [
      "7\n"
     ]
    }
   ],
   "source": [
    "n1=eval(input(\"enter the number1:\"))\n",
    "n2=eval(input(\"enter the number2:\"))\n",
    "add=n1+n2\n",
    "print(add)"
   ]
  },
  {
   "cell_type": "code",
   "execution_count": 4,
   "id": "f4cba41e-70f0-4f82-880c-2331813916af",
   "metadata": {},
   "outputs": [
    {
     "name": "stdin",
     "output_type": "stream",
     "text": [
      "enter the number1: 82\n",
      "enter the number2: 78\n"
     ]
    },
    {
     "name": "stdout",
     "output_type": "stream",
     "text": [
      "160\n"
     ]
    }
   ],
   "source": [
    "try:\n",
    "    n1=eval(input(\"enter the number1:\"))\n",
    "    n2=eval(input(\"enter the number2:\"))\n",
    "    add=n1+n2\n",
    "    print(add)\n",
    "except:\n",
    "    print('hello')\n",
    "    print('you are getting error')\n",
    "    print('check the code properly')\n",
    "    \n",
    "    "
   ]
  },
  {
   "cell_type": "markdown",
   "id": "c2d7dce8-99b7-4f9c-bb07-9162ffacb21f",
   "metadata": {},
   "source": [
    "**NOTE**\n",
    "- Generally try except block will use to catch the errors"
   ]
  },
  {
   "cell_type": "code",
   "execution_count": 7,
   "id": "ef86d09a-f062-4255-8fd8-d9aabf4aba0a",
   "metadata": {},
   "outputs": [
    {
     "name": "stdin",
     "output_type": "stream",
     "text": [
      "enter the number1: 102\n",
      "enter the number2: 58\n"
     ]
    },
    {
     "name": "stdout",
     "output_type": "stream",
     "text": [
      "160\n"
     ]
    }
   ],
   "source": [
    "try:\n",
    "    n1=eval(input(\"enter the number1:\"))\n",
    "    n2=eval(input(\"enter the number2:\"))\n",
    "    add=n1+n2\n",
    "    div=n1/n2\n",
    "    print(add)\n",
    "except:\n",
    "    print('name error')\n",
    "    "
   ]
  },
  {
   "cell_type": "code",
   "execution_count": 10,
   "id": "8dbaa6c8-fc6d-4399-a780-3177435d1c5a",
   "metadata": {},
   "outputs": [
    {
     "name": "stdin",
     "output_type": "stream",
     "text": [
      "enter the number1: 50\n",
      "enter the number2: 40\n"
     ]
    },
    {
     "name": "stdout",
     "output_type": "stream",
     "text": [
      "90\n"
     ]
    }
   ],
   "source": [
    "try:\n",
    "    n1=eval(input(\"enter the number1:\"))\n",
    "    n2=eval(input(\"enter the number2:\"))\n",
    "    add=n1+n2\n",
    "    div=n1/n2\n",
    "    print(add)\n",
    "except Exception as e:\n",
    "    print(f\"the error is {e}\")\n",
    "    "
   ]
  },
  {
   "cell_type": "code",
   "execution_count": 12,
   "id": "f35cbcac-8fc9-4cf3-be20-d96f64b20cad",
   "metadata": {},
   "outputs": [],
   "source": [
    "# now onwards you need to \n",
    "# use try-except "
   ]
  },
  {
   "cell_type": "code",
   "execution_count": 15,
   "id": "dbabc284-865d-4373-b1e8-42ba6437efb2",
   "metadata": {},
   "outputs": [
    {
     "name": "stdin",
     "output_type": "stream",
     "text": [
      "enter the value: 50\n"
     ]
    },
    {
     "name": "stdout",
     "output_type": "stream",
     "text": [
      "even\n"
     ]
    }
   ],
   "source": [
    "try:\n",
    "    num=eval(input(\"enter the value:\"))\n",
    "    if num%2==0:\n",
    "        print(\"even\")\n",
    "    else:\n",
    "        print(\"add\")\n",
    "except Exception as e:\n",
    "    print(e)\n",
    "\n",
    "        "
   ]
  },
  {
   "cell_type": "code",
   "execution_count": null,
   "id": "b3261bf0-467b-4cd6-92f8-e7b3311359f2",
   "metadata": {},
   "outputs": [],
   "source": []
  }
 ],
 "metadata": {
  "kernelspec": {
   "display_name": "Python 3 (ipykernel)",
   "language": "python",
   "name": "python3"
  },
  "language_info": {
   "codemirror_mode": {
    "name": "ipython",
    "version": 3
   },
   "file_extension": ".py",
   "mimetype": "text/x-python",
   "name": "python",
   "nbconvert_exporter": "python",
   "pygments_lexer": "ipython3",
   "version": "3.11.7"
  }
 },
 "nbformat": 4,
 "nbformat_minor": 5
}
